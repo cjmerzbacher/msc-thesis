{
 "cells": [
  {
   "cell_type": "code",
   "execution_count": 31,
   "metadata": {},
   "outputs": [],
   "source": [
    "#Import required packages\n",
    "from torchdiffeq import odeint_adjoint as odeint\n",
    "import numpy as np \n",
    "import torch.nn as nn\n",
    "import torch.optim as optim"
   ]
  },
  {
   "cell_type": "code",
   "execution_count": 32,
   "metadata": {},
   "outputs": [],
   "source": [
    "#Instantiate functions to compute activation and repression equations\n",
    "def activation(x, k, theta, n):\n",
    "    return (k*(x/theta)**n)/(1+(x/theta)**n)\n",
    "\n",
    "def repression(x, k, theta, n):\n",
    "    return k/(1+(x/theta)**n)\n",
    "\n",
    "def nonlinearity(x, kc, km):\n",
    "    return (kc*x)/(km+x)"
   ]
  },
  {
   "cell_type": "code",
   "execution_count": 33,
   "metadata": {},
   "outputs": [],
   "source": [
    "#Define custom Module with fixed dual control architecture\n",
    "class DualControl(nn.Module):\n",
    "    def __init__(self):\n",
    "        '''Constructor instantiating weights as model parameters and constants'''\n",
    "        super().__init__()\n",
    "        \n",
    "        #Initialize constants, taken from Verma et al paper.\n",
    "        self.Vin = 1.\n",
    "        self.e0 = 0.0467\n",
    "        self.lam = 1.93E-4 #1/s\n",
    "        #Assume equal kinetics for all three enzymes\n",
    "        self.kc = 12\n",
    "        self.km = 10 #1/s\n",
    "\n",
    "        #Initizalize weights for training\n",
    "        self.W = nn.Parameter(torch.from_numpy(np.array([[2,2],[1,1], [1E-7, 1E-7]]))) \n",
    "        #parameters are n1, n2, theta1, theta2, k1, k2\n",
    "        \n",
    "    def forward(self, t, y):\n",
    "        '''Computes derivatives of system of differential equations'''\n",
    "        ydot = torch.zeros(6)\n",
    "        ydot[0] = self.Vin - self.lam*y[0] - self.e0*nonlinearity(y[0], self.kc, self.km) - self.lam*y[1]\n",
    "        ydot[1] = y[2]*nonlinearity(y[0], self.kc, self.km) - y[3]*nonlinearity(y[1], self.kc, self.km) - self.lam*y[1]\n",
    "        ydot[2] = repression(y[1], self.W[2][0], self.W[1][0], self.W[0][0]) - self.lam*y[2]\n",
    "        ydot[3] = activation(y[1], self.W[2][1], self.W[1][1], self.W[0][1]) - self.lam*y[3]\n",
    "        ydot[4] = (self.Vin -  y[3]*nonlinearity(y[1], self.kc, self.km))**2\n",
    "        ydot[5] = repression(y[1], self.W[2][0], self.W[1][0], self.W[0][0]) + activation(y[1], self.W[2][1], self.W[1][1], self.W[0][1])\n",
    "        return ydot"
   ]
  },
  {
   "cell_type": "code",
   "execution_count": 34,
   "metadata": {},
   "outputs": [],
   "source": [
    "#Custom loss function\n",
    "def my_loss(solution, alpha=1):\n",
    "    \"\"\"Computes scalarized loss including genetic constraint and product production\"\"\"\n",
    "    j1 = solution[-1][-2].clone().detach().requires_grad_(True)\n",
    "    j2 = solution[-1][-1].clone().detach().requires_grad_(True)\n",
    "    loss = j1 + alpha*j2\n",
    "    return loss"
   ]
  },
  {
   "cell_type": "code",
   "execution_count": 35,
   "metadata": {},
   "outputs": [
    {
     "name": "stdout",
     "output_type": "stream",
     "text": [
      "Epoch 0 Loss 49924.188941071945\n",
      "Epoch 1 Loss 49924.188941071945\n",
      "Epoch 2 Loss 49924.188941071945\n",
      "Epoch 3 Loss 49924.188941071945\n",
      "Epoch 4 Loss 49924.188941071945\n",
      "Epoch 5 Loss 49924.188941071945\n",
      "Epoch 6 Loss 49924.188941071945\n",
      "Epoch 7 Loss 49924.188941071945\n",
      "Epoch 8 Loss 49924.188941071945\n",
      "Epoch 9 Loss 49924.188941071945\n"
     ]
    }
   ],
   "source": [
    "#Establish initial conditions\n",
    "y0 = torch.from_numpy(np.array([2290., 0., 0., 0., 0., 0.]))\n",
    "t = torch.from_numpy(np.linspace(1,5e4,200))\n",
    "\n",
    "#Construct model by instantiating class defined above\n",
    "model = DualControl()\n",
    "\n",
    "#Set hyperparameters\n",
    "learning_rate = 0.01\n",
    "weight_decay_coefficient = 0\n",
    "num_epochs = 10\n",
    "criterion = my_loss\n",
    "\n",
    "#Establish optimizer - settings from torchdiffeq package examples\n",
    "optimizer = optim.Adam(model.parameters(), amsgrad=False,\n",
    "                                    weight_decay=weight_decay_coefficient, lr=learning_rate)\n",
    "                \n",
    "for i in range(num_epochs):\n",
    "\n",
    "    # Forward pass: Compute steady-state solution\n",
    "    y_pred = odeint(model, y0, t, method='dopri5')\n",
    "\n",
    "    # Compute and print loss\n",
    "    loss = criterion(y_pred)\n",
    "    if i % 10 == 9 or True:\n",
    "        print('Epoch',  i, 'Loss', loss.item())\n",
    "\n",
    "    # Zero gradients, perform a backward pass, and update the weights.\n",
    "    optimizer.zero_grad()\n",
    "    loss.backward()\n",
    "    optimizer.step()"
   ]
  },
  {
   "cell_type": "code",
   "execution_count": null,
   "metadata": {},
   "outputs": [],
   "source": []
  }
 ],
 "metadata": {
  "interpreter": {
   "hash": "a8fd889b64f317b5cee5f2aeda42622ebf4f40766de98ac3234655c040aecc33"
  },
  "kernelspec": {
   "display_name": "Python 3.9.7 ('thesis')",
   "language": "python",
   "name": "python3"
  },
  "language_info": {
   "codemirror_mode": {
    "name": "ipython",
    "version": 3
   },
   "file_extension": ".py",
   "mimetype": "text/x-python",
   "name": "python",
   "nbconvert_exporter": "python",
   "pygments_lexer": "ipython3",
   "version": "3.9.7"
  },
  "orig_nbformat": 4
 },
 "nbformat": 4,
 "nbformat_minor": 2
}
