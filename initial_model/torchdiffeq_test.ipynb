{
 "cells": [
  {
   "cell_type": "code",
   "execution_count": 2,
   "metadata": {},
   "outputs": [],
   "source": [
    "from torchdiffeq import odeint_adjoint as odeint\n",
    "import numpy as np\n",
    "import matplotlib.pyplot as plt\n",
    "import pandas as pd\n",
    "import torch "
   ]
  },
  {
   "cell_type": "code",
   "execution_count": 3,
   "metadata": {},
   "outputs": [],
   "source": [
    "#Instantiate functions to compute activation and repression\n",
    "def activation(x, k, theta, n):\n",
    "    return (k*(x/theta)**n)/(1+(x/theta)**n)\n",
    "\n",
    "def repression(x, k, theta, n):\n",
    "    return k/(1+(x/theta)**n)\n",
    "\n",
    "def nonlinearity(x, kc, km):\n",
    "    return (kc*x)/(km+x)"
   ]
  },
  {
   "cell_type": "code",
   "execution_count": 4,
   "metadata": {},
   "outputs": [],
   "source": [
    "def dual_control(t, y):\n",
    "    \"\"\" we create rhs equations for the problem\"\"\"\n",
    "    ydot = torch.zeros(6)\n",
    "    ydot[0] = Vin - lam*y[0] - e0*nonlinearity(y[0], kc, km) - lam*y[1]\n",
    "    ydot[1] = y[2]*nonlinearity(y[0], kc, km) - y[3]*nonlinearity(y[1], kc, km) - lam*y[1]\n",
    "    ydot[2] = repression(y[1], k1, theta1, n1) - lam*y[2]\n",
    "    ydot[3] = activation(y[1], k2, theta2, n2) - lam*y[3]\n",
    "    ydot[4] = (Vin -  y[3]*nonlinearity(y[1], kc, km))**2\n",
    "    ydot[5] = repression(y[1], k1, theta1, n1) + activation(y[1], k2, theta2, n2)\n",
    "    return ydot"
   ]
  },
  {
   "cell_type": "code",
   "execution_count": 5,
   "metadata": {},
   "outputs": [],
   "source": [
    "#Times\n",
    "t = torch.from_numpy(np.linspace(1,5e4,200))\n",
    "#Constants\n",
    "Vin = 1\n",
    "e0 = 0.0467 \n",
    "lam = 1.93E-4 #1/s\n",
    "#Assume equal kinetics for all three enzymes\n",
    "kc = 12 #1/s\n",
    "km = 10 \n",
    "#Initial conditions\n",
    "y0 = torch.from_numpy(np.array([2290., 0., 0., 0., 0., 0.]))\n",
    "labels = ['theta', 'k1', 'k2', 'x0', 'x1', 'e1', 'e2', 'j1', 'j2', 'v2']\n",
    "\n",
    "n1 = 2\n",
    "n2 = 2\n",
    "num_points = 10\n",
    "thetas = [1]\n",
    "ks = np.linspace(1E-7, 0.001, num_points)"
   ]
  },
  {
   "cell_type": "code",
   "execution_count": 6,
   "metadata": {},
   "outputs": [
    {
     "name": "stdout",
     "output_type": "stream",
     "text": [
      "Solving equation with parameters:  1 1e-07 1e-07\n",
      "Solving equation with parameters:  1 1e-07 0.00011119999999999999\n",
      "Solving equation with parameters:  1 1e-07 0.00022229999999999998\n",
      "Solving equation with parameters:  1 1e-07 0.00033339999999999997\n",
      "Solving equation with parameters:  1 1e-07 0.00044449999999999996\n",
      "Solving equation with parameters:  1 1e-07 0.0005556\n",
      "Solving equation with parameters:  1 1e-07 0.0006666999999999999\n",
      "Solving equation with parameters:  1 1e-07 0.0007777999999999998\n",
      "Solving equation with parameters:  1 1e-07 0.0008888999999999999\n",
      "Solving equation with parameters:  1 1e-07 0.001\n",
      "Solving equation with parameters:  1 0.00011119999999999999 1e-07\n",
      "Solving equation with parameters:  1 0.00011119999999999999 0.00011119999999999999\n",
      "Solving equation with parameters:  1 0.00011119999999999999 0.00022229999999999998\n",
      "Solving equation with parameters:  1 0.00011119999999999999 0.00033339999999999997\n",
      "Solving equation with parameters:  1 0.00011119999999999999 0.00044449999999999996\n",
      "Solving equation with parameters:  1 0.00011119999999999999 0.0005556\n",
      "Solving equation with parameters:  1 0.00011119999999999999 0.0006666999999999999\n",
      "Solving equation with parameters:  1 0.00011119999999999999 0.0007777999999999998\n",
      "Solving equation with parameters:  1 0.00011119999999999999 0.0008888999999999999\n",
      "Solving equation with parameters:  1 0.00011119999999999999 0.001\n",
      "Solving equation with parameters:  1 0.00022229999999999998 1e-07\n",
      "Solving equation with parameters:  1 0.00022229999999999998 0.00011119999999999999\n",
      "Solving equation with parameters:  1 0.00022229999999999998 0.00022229999999999998\n",
      "Solving equation with parameters:  1 0.00022229999999999998 0.00033339999999999997\n",
      "Solving equation with parameters:  1 0.00022229999999999998 0.00044449999999999996\n",
      "Solving equation with parameters:  1 0.00022229999999999998 0.0005556\n",
      "Solving equation with parameters:  1 0.00022229999999999998 0.0006666999999999999\n",
      "Solving equation with parameters:  1 0.00022229999999999998 0.0007777999999999998\n",
      "Solving equation with parameters:  1 0.00022229999999999998 0.0008888999999999999\n",
      "Solving equation with parameters:  1 0.00022229999999999998 0.001\n",
      "Solving equation with parameters:  1 0.00033339999999999997 1e-07\n",
      "Solving equation with parameters:  1 0.00033339999999999997 0.00011119999999999999\n",
      "Solving equation with parameters:  1 0.00033339999999999997 0.00022229999999999998\n",
      "Solving equation with parameters:  1 0.00033339999999999997 0.00033339999999999997\n",
      "Solving equation with parameters:  1 0.00033339999999999997 0.00044449999999999996\n",
      "Solving equation with parameters:  1 0.00033339999999999997 0.0005556\n",
      "Solving equation with parameters:  1 0.00033339999999999997 0.0006666999999999999\n",
      "Solving equation with parameters:  1 0.00033339999999999997 0.0007777999999999998\n",
      "Solving equation with parameters:  1 0.00033339999999999997 0.0008888999999999999\n",
      "Solving equation with parameters:  1 0.00033339999999999997 0.001\n",
      "Solving equation with parameters:  1 0.00044449999999999996 1e-07\n",
      "Solving equation with parameters:  1 0.00044449999999999996 0.00011119999999999999\n",
      "Solving equation with parameters:  1 0.00044449999999999996 0.00022229999999999998\n",
      "Solving equation with parameters:  1 0.00044449999999999996 0.00033339999999999997\n",
      "Solving equation with parameters:  1 0.00044449999999999996 0.00044449999999999996\n",
      "Solving equation with parameters:  1 0.00044449999999999996 0.0005556\n",
      "Solving equation with parameters:  1 0.00044449999999999996 0.0006666999999999999\n",
      "Solving equation with parameters:  1 0.00044449999999999996 0.0007777999999999998\n",
      "Solving equation with parameters:  1 0.00044449999999999996 0.0008888999999999999\n",
      "Solving equation with parameters:  1 0.00044449999999999996 0.001\n",
      "Solving equation with parameters:  1 0.0005556 1e-07\n",
      "Solving equation with parameters:  1 0.0005556 0.00011119999999999999\n",
      "Solving equation with parameters:  1 0.0005556 0.00022229999999999998\n",
      "Solving equation with parameters:  1 0.0005556 0.00033339999999999997\n",
      "Solving equation with parameters:  1 0.0005556 0.00044449999999999996\n",
      "Solving equation with parameters:  1 0.0005556 0.0005556\n",
      "Solving equation with parameters:  1 0.0005556 0.0006666999999999999\n",
      "Solving equation with parameters:  1 0.0005556 0.0007777999999999998\n",
      "Solving equation with parameters:  1 0.0005556 0.0008888999999999999\n",
      "Solving equation with parameters:  1 0.0005556 0.001\n",
      "Solving equation with parameters:  1 0.0006666999999999999 1e-07\n",
      "Solving equation with parameters:  1 0.0006666999999999999 0.00011119999999999999\n",
      "Solving equation with parameters:  1 0.0006666999999999999 0.00022229999999999998\n",
      "Solving equation with parameters:  1 0.0006666999999999999 0.00033339999999999997\n",
      "Solving equation with parameters:  1 0.0006666999999999999 0.00044449999999999996\n",
      "Solving equation with parameters:  1 0.0006666999999999999 0.0005556\n",
      "Solving equation with parameters:  1 0.0006666999999999999 0.0006666999999999999\n",
      "Solving equation with parameters:  1 0.0006666999999999999 0.0007777999999999998\n",
      "Solving equation with parameters:  1 0.0006666999999999999 0.0008888999999999999\n",
      "Solving equation with parameters:  1 0.0006666999999999999 0.001\n",
      "Solving equation with parameters:  1 0.0007777999999999998 1e-07\n",
      "Solving equation with parameters:  1 0.0007777999999999998 0.00011119999999999999\n",
      "Solving equation with parameters:  1 0.0007777999999999998 0.00022229999999999998\n",
      "Solving equation with parameters:  1 0.0007777999999999998 0.00033339999999999997\n",
      "Solving equation with parameters:  1 0.0007777999999999998 0.00044449999999999996\n",
      "Solving equation with parameters:  1 0.0007777999999999998 0.0005556\n",
      "Solving equation with parameters:  1 0.0007777999999999998 0.0006666999999999999\n",
      "Solving equation with parameters:  1 0.0007777999999999998 0.0007777999999999998\n",
      "Solving equation with parameters:  1 0.0007777999999999998 0.0008888999999999999\n",
      "Solving equation with parameters:  1 0.0007777999999999998 0.001\n",
      "Solving equation with parameters:  1 0.0008888999999999999 1e-07\n",
      "Solving equation with parameters:  1 0.0008888999999999999 0.00011119999999999999\n",
      "Solving equation with parameters:  1 0.0008888999999999999 0.00022229999999999998\n",
      "Solving equation with parameters:  1 0.0008888999999999999 0.00033339999999999997\n",
      "Solving equation with parameters:  1 0.0008888999999999999 0.00044449999999999996\n",
      "Solving equation with parameters:  1 0.0008888999999999999 0.0005556\n",
      "Solving equation with parameters:  1 0.0008888999999999999 0.0006666999999999999\n",
      "Solving equation with parameters:  1 0.0008888999999999999 0.0007777999999999998\n",
      "Solving equation with parameters:  1 0.0008888999999999999 0.0008888999999999999\n",
      "Solving equation with parameters:  1 0.0008888999999999999 0.001\n",
      "Solving equation with parameters:  1 0.001 1e-07\n",
      "Solving equation with parameters:  1 0.001 0.00011119999999999999\n",
      "Solving equation with parameters:  1 0.001 0.00022229999999999998\n",
      "Solving equation with parameters:  1 0.001 0.00033339999999999997\n",
      "Solving equation with parameters:  1 0.001 0.00044449999999999996\n",
      "Solving equation with parameters:  1 0.001 0.0005556\n",
      "Solving equation with parameters:  1 0.001 0.0006666999999999999\n",
      "Solving equation with parameters:  1 0.001 0.0007777999999999998\n",
      "Solving equation with parameters:  1 0.001 0.0008888999999999999\n",
      "Solving equation with parameters:  1 0.001 0.001\n"
     ]
    }
   ],
   "source": [
    "ss_data = pd.DataFrame(columns=labels)\n",
    "for theta1 in thetas:\n",
    "    theta2 = theta1\n",
    "    for k1 in ks:\n",
    "        for k2 in ks:\n",
    "            print('Solving equation with parameters: ', theta1, k1, k2)\n",
    "            solution = odeint(dual_control, y0, t, adjoint_params=())\n",
    "            x0, x1, e1, e2, j1, j2 = solution[-1]\n",
    "            v2 = e2*nonlinearity(x1, kc, km)\n",
    "            row = [theta1, k1, k2, x0, x1, e1, e2, j1, j2, v2]\n",
    "            ss_data.loc[len(ss_data)] = row"
   ]
  },
  {
   "cell_type": "code",
   "execution_count": 12,
   "metadata": {},
   "outputs": [],
   "source": [
    "ss_data.to_csv('torchode_results.csv')"
   ]
  },
  {
   "cell_type": "code",
   "execution_count": 28,
   "metadata": {},
   "outputs": [
    {
     "data": {
      "text/plain": [
       "Text(0, 0.5, 'k2')"
      ]
     },
     "execution_count": 28,
     "metadata": {},
     "output_type": "execute_result"
    },
    {
     "data": {
      "text/plain": [
       "<Figure size 432x288 with 0 Axes>"
      ]
     },
     "metadata": {},
     "output_type": "display_data"
    },
    {
     "data": {
      "image/png": "[encoded data removed]",
      "text/plain": [
       "<Figure size 1440x360 with 3 Axes>"
      ]
     },
     "metadata": {
      "needs_background": "light"
     },
     "output_type": "display_data"
    }
   ],
   "source": [
    " \n",
    "fig = plt.figure()\n",
    "fig, axs = plt.subplots(1, 3, figsize=(20, 5))\n",
    "\n",
    "endpoint = 'j1'\n",
    "X = ss_data.k1.unique()\n",
    "Y = ss_data.k2.unique()\n",
    "Z = np.array(ss_data[endpoint]).reshape((len(X), len(Y)))\n",
    "   \n",
    "\n",
    "axs[0].contourf(X,Y,Z)\n",
    "axs[0].set_title(f'{endpoint}')\n",
    "axs[0].set_xlabel('k1')\n",
    "axs[0].set_ylabel('k2')\n",
    "\n",
    "endpoint = 'j2'\n",
    "X = ss_data.k1.unique()\n",
    "Y = ss_data.k2.unique()\n",
    "Z = np.array(ss_data[endpoint]).reshape((len(X), len(Y)))\n",
    "   \n",
    "axs[1].contourf(X,Y,Z)\n",
    "axs[1].set_title(f'{endpoint}')\n",
    "axs[1].set_xlabel('k1')\n",
    "axs[1].set_ylabel('k2')\n",
    "\n",
    "endpoint = 'v2'\n",
    "X = ss_data.k1.unique()\n",
    "Y = ss_data.k2.unique()\n",
    "Z = np.array(ss_data[endpoint]).reshape((len(X), len(Y)))\n",
    "   \n",
    "axs[2].contourf(X,Y,Z)\n",
    "axs[2].set_title(f'{endpoint}')\n",
    "axs[2].set_xlabel('k1')\n",
    "axs[2].set_ylabel('k2')"
   ]
  },
  {
   "cell_type": "code",
   "execution_count": null,
   "metadata": {},
   "outputs": [],
   "source": []
  }
 ],
 "metadata": {
  "interpreter": {
   "hash": "b833d3081223781fb21fbb11d871a9ff1e62e6c0946085d095fa47aa87c01306"
  },
  "kernelspec": {
   "display_name": "Python 3.7.11 ('retinal')",
   "language": "python",
   "name": "python3"
  },
  "language_info": {
   "codemirror_mode": {
    "name": "ipython",
    "version": 3
   },
   "file_extension": ".py",
   "mimetype": "text/x-python",
   "name": "python",
   "nbconvert_exporter": "python",
   "pygments_lexer": "ipython3",
   "version": "3.9.7"
  },
  "orig_nbformat": 4
 },
 "nbformat": 4,
 "nbformat_minor": 2
}
