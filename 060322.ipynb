{
 "cells": [
  {
   "cell_type": "code",
   "execution_count": 15,
   "metadata": {},
   "outputs": [],
   "source": [
    "#Import required packages\n",
    "import matplotlib.pyplot as plt\n",
    "import numpy as np\n",
    "import torch \n",
    "import torch.nn as nn\n",
    "import torch.optim as optim\n",
    "\n",
    "from torch.autograd import grad\n",
    "from torchdiffeq import odeint_adjoint\n",
    "from torchdiffeq import odeint"
   ]
  },
  {
   "cell_type": "code",
   "execution_count": 16,
   "metadata": {},
   "outputs": [],
   "source": [
    "def activation(x, k, theta, n):\n",
    "    return (k*(x/theta)**n)/(1+(x/theta)**n)\n",
    "\n",
    "def repression(x, k, theta, n):\n",
    "    return k/(1+(x/theta)**n)\n",
    "\n",
    "def nonlinearity(x, kc, km):\n",
    "    return (kc*x)/(km+x)\n",
    "\n",
    "#Custom loss function\n",
    "def loss_fun(pred, alpha=1E7):\n",
    "    \"\"\"Computes scalarized loss including genetic constraint and product production\"\"\"\n",
    "    j1 = pred[-1][-2]\n",
    "    j2 = pred[-1][-1]\n",
    "    loss = j1 + alpha*j2\n",
    "    return loss\n",
    "\n",
    "class DualControl(torch.nn.Module):\n",
    "    def __init__(self):\n",
    "        super(DualControl, self).__init__()\n",
    "        #Initialize constants, taken from Verma et al paper.\n",
    "        self.Vin = 1.\n",
    "        self.e0 = 0.0467\n",
    "        self.lam = 1.93E-4 #1/s\n",
    "        #Assume equal kinetics for all three enzymes\n",
    "        self.kc = 12\n",
    "        self.km = 10 #1/s\n",
    "\n",
    "        self.W = torch.nn.Parameter(torch.tensor([[2,2],[1,1], [1E-7, 1E-7]]), requires_grad=True)\n",
    "        \n",
    "\n",
    "    def forward(self, t, y):\n",
    "        '''Computes derivatives of system of differential equations'''\n",
    "        dx0 = self.Vin - self.lam*y[0] - self.e0*nonlinearity(y[0], self.kc, self.km) - self.lam*y[1]\n",
    "        dx1 = y[2]*nonlinearity(y[0], self.kc, self.km) - y[3]*nonlinearity(y[1], self.kc, self.km) - self.lam*y[1]\n",
    "        de1 = repression(y[1], self.W[2][0], self.W[1][0], self.W[0][0]) - self.lam*y[2]\n",
    "        de2 = activation(y[1], self.W[2][1], self.W[1][1], self.W[0][1]) - self.lam*y[3]\n",
    "        j1 = (self.Vin -  y[3]*nonlinearity(y[1], self.kc, self.km))**2\n",
    "        j2 = repression(y[1], self.W[2][0], self.W[1][0], self.W[0][0]) + activation(y[1], self.W[2][1], self.W[1][1], self.W[0][1])\n",
    "        return torch.stack([dx0, dx1, de1, de2, j1, j2])\n",
    "\n",
    "class ODEFun(torch.nn.Module):\n",
    "    def __init__(self):\n",
    "        super(ODEFun, self).__init__()\n",
    "        self.W = torch.nn.Parameter(torch.tensor([0.0, 0.0]), requires_grad=True)\n",
    "        \n",
    "    def forward(self, t, y):\n",
    "        S, I = y\n",
    "        ds = -self.W[0]*S*I\n",
    "        di = self.W[1]*S*I - I\n",
    "        return torch.stack([ds, di])\n"
   ]
  },
  {
   "cell_type": "code",
   "execution_count": 24,
   "metadata": {},
   "outputs": [],
   "source": [
    "func = DualControl()\n",
    "learning_rate = 1\n",
    "num_iters = 100\n",
    "optimizer = optim.Adam(func.parameters(), amsgrad=False, lr=learning_rate)\n",
    "adjoint = False\n",
    "alpha = 1E7\n",
    "solver = 'dopri8'\n",
    "\n",
    "np.random.seed(2021)\n",
    "# torch.manual_seed(2021)\n",
    "plt.close('all')\n",
    "\n",
    "#Establish initial conditions\n",
    "t = torch.linspace(0, 5E4, 100) \n",
    "y0 = torch.tensor([2290., 0., 0., 0., 0., 0.]) \n",
    "# y0 = torch.tensor([0.99, 0.01])"
   ]
  },
  {
   "cell_type": "code",
   "execution_count": 25,
   "metadata": {},
   "outputs": [],
   "source": [
    "pred = odeint(func, y0, t, method=solver)"
   ]
  },
  {
   "cell_type": "code",
   "execution_count": 26,
   "metadata": {},
   "outputs": [
    {
     "data": {
      "text/plain": [
       "Text(0, 0.5, 'Concentrations')"
      ]
     },
     "execution_count": 26,
     "metadata": {},
     "output_type": "execute_result"
    },
    {
     "data": {
      "image/png": "[encoded data removed]",
      "text/plain": [
       "<Figure size 432x288 with 1 Axes>"
      ]
     },
     "metadata": {
      "needs_background": "light"
     },
     "output_type": "display_data"
    }
   ],
   "source": [
    "\n",
    "sol1 = pred.detach().numpy()\n",
    "#plt.plot(t, sol1[:, 0], label='X0')\n",
    "plt.plot(t, sol1[:, 1], label='X1')\n",
    "plt.plot(t, sol1[:, 2], label='E1')\n",
    "plt.plot(t, sol1[:, 3], label='E2')\n",
    "plt.legend()\n",
    "plt.xlabel('Time')\n",
    "plt.ylabel('Concentrations')"
   ]
  },
  {
   "cell_type": "code",
   "execution_count": 27,
   "metadata": {},
   "outputs": [
    {
     "name": "stdout",
     "output_type": "stream",
     "text": [
      "None\n",
      "tensor([[-5.2252e+03,  5.2363e+03],\n",
      "        [ 1.5180e+04, -1.5211e+04],\n",
      "        [ 1.0527e+11,  3.9387e+11]])\n"
     ]
    }
   ],
   "source": [
    "loss = loss_fun(pred, alpha = alpha)\n",
    "print(func.W.grad)\n",
    "loss.backward()\n",
    "print(func.W.grad)\n",
    "optimizer.step()"
   ]
  },
  {
   "cell_type": "code",
   "execution_count": 8,
   "metadata": {},
   "outputs": [],
   "source": [
    "#Plot solution and compare to traditional ODE solver\n",
    "def dual_control(x, t, n1, n2, theta1, theta2, k1, k2):\n",
    "    x0, x1, e1, e2, j1, j2 = x\n",
    "    dx0dt = Vin - lam*x0 - e0*nonlinearity(x0, kc, km) - e1*nonlinearity(x0, kc, km) \n",
    "    dx1dt = e1*nonlinearity(x0, kc, km) - e2*nonlinearity(x1, kc, km) - lam*x1\n",
    "    de1dt = repression(x1, k1, theta1, n1) - lam*e1\n",
    "    de2dt = activation(x1, k2, theta2, n2) - lam*e2\n",
    "    j1 = (Vin -  e2*nonlinearity(x1, kc, km))**2\n",
    "    j2 = repression(x1, k1, theta1, n1) + activation(x1, k2, theta2, n2)\n",
    "    return [dx0dt, dx1dt, de1dt, de2dt, j1, j2]  \n",
    "from scipy.integrate import odeint as ode\n",
    "\n",
    "\n",
    "Vin = func.Vin\n",
    "e0 = func.e0 \n",
    "lam = func.lam\n",
    "kc = func.kc\n",
    "km = func.km\n",
    "\n",
    "n1 = 2\n",
    "n2 = 2\n",
    "theta1 = 1\n",
    "theta2 = theta1\n",
    "k1 = 1E-7\n",
    "k2 = 1E-7\n",
    "sol = ode(dual_control, y0, t, args=(n1, n2, theta1, theta2, k1, k2))"
   ]
  },
  {
   "cell_type": "code",
   "execution_count": 9,
   "metadata": {},
   "outputs": [
    {
     "data": {
      "text/plain": [
       "Text(0, 0.5, 'Concentrations')"
      ]
     },
     "execution_count": 9,
     "metadata": {},
     "output_type": "execute_result"
    },
    {
     "data": {
      "image/png": "[encoded data removed]",
      "text/plain": [
       "<Figure size 432x288 with 1 Axes>"
      ]
     },
     "metadata": {
      "needs_background": "light"
     },
     "output_type": "display_data"
    }
   ],
   "source": [
    "#plt.plot(t, sol[:, 0], label='X0')\n",
    "plt.plot(t, sol[:, 1], label='X1')\n",
    "plt.plot(t, sol[:, 2], label='E1')\n",
    "plt.plot(t, sol[:, 3], label='E2')\n",
    "plt.legend()\n",
    "plt.xlabel('Time')\n",
    "plt.ylabel('Concentrations')"
   ]
  },
  {
   "cell_type": "code",
   "execution_count": 66,
   "metadata": {},
   "outputs": [
    {
     "name": "stdout",
     "output_type": "stream",
     "text": [
      "itr loss theta_0 theta_1\n",
      "0 0.4809 0.1 0.1\n",
      "10 0.4712 0.6093 0.7778\n",
      "20 0.4438 1.006 1.3182\n",
      "30 0.3735 1.367 1.7792\n",
      "40 0.3035 1.6361 2.0912\n",
      "50 0.2592 1.8355 2.3033\n",
      "60 0.2296 1.9957 2.4659\n",
      "70 0.2078 2.1314 2.6012\n",
      "80 0.1907 2.2505 2.7194\n",
      "90 0.1767 2.3576 2.8259\n",
      "100 0.1649 2.4556 2.9242\n",
      "110 0.1546 2.5464 3.0162\n",
      "120 0.1456 2.6314 3.1034\n",
      "130 0.1375 2.7116 3.1869\n",
      "140 0.1301 2.7877 3.2673\n",
      "150 0.1234 2.8603 3.3452\n",
      "160 0.1172 2.9299 3.4211\n",
      "170 0.1115 2.9967 3.4952\n",
      "180 0.1062 3.0612 3.568\n",
      "190 0.1011 3.1235 3.6396\n",
      "200 0.0964 3.1838 3.7101\n",
      "210 0.092 3.2424 3.7798\n",
      "220 0.0878 3.2992 3.8488\n",
      "230 0.0838 3.3545 3.9171\n",
      "240 0.08 3.4083 3.9849\n",
      "250 0.0764 3.4607 4.0523\n",
      "260 0.073 3.5118 4.1192\n",
      "270 0.0697 3.5617 4.1859\n",
      "280 0.0665 3.6103 4.2522\n",
      "290 0.0635 3.6577 4.3182\n",
      "300 0.0606 3.704 4.384\n",
      "310 0.0578 3.7492 4.4496\n",
      "320 0.0552 3.7933 4.5151\n",
      "330 0.0526 3.8363 4.5803\n",
      "340 0.0502 3.8783 4.6454\n",
      "350 0.0478 3.9192 4.7103\n",
      "360 0.0455 3.9591 4.7751\n",
      "370 0.0433 3.998 4.8397\n",
      "380 0.0412 4.0359 4.9042\n",
      "390 0.0392 4.0728 4.9685\n",
      "400 0.0373 4.1087 5.0327\n",
      "410 0.0354 4.1436 5.0967\n",
      "420 0.0336 4.1776 5.1606\n",
      "430 0.0319 4.2106 5.2242\n",
      "440 0.0302 4.2427 5.2877\n",
      "450 0.0286 4.2739 5.351\n",
      "460 0.0271 4.3042 5.414\n",
      "470 0.0256 4.3336 5.4768\n",
      "480 0.0242 4.3622 5.5394\n",
      "490 0.0228 4.39 5.6017\n",
      "500 0.0215 4.417 5.6637\n",
      "510 0.0203 4.4432 5.7254\n",
      "520 0.0191 4.4688 5.7868\n",
      "530 0.018 4.4937 5.8478\n",
      "540 0.0169 4.5179 5.9085\n",
      "550 0.0158 4.5417 5.9688\n",
      "560 0.0149 4.5649 6.0286\n",
      "570 0.0139 4.5877 6.0881\n",
      "580 0.013 4.6101 6.147\n",
      "590 0.0122 4.6322 6.2055\n",
      "600 0.0114 4.654 6.2635\n",
      "610 0.0106 4.6756 6.321\n",
      "620 0.0099 4.697 6.3778\n",
      "630 0.0092 4.7183 6.4342\n",
      "640 0.0085 4.7396 6.4899\n",
      "650 0.0079 4.7608 6.545\n",
      "660 0.0073 4.782 6.5994\n",
      "670 0.0068 4.8033 6.6532\n",
      "680 0.0062 4.8246 6.7063\n",
      "690 0.0058 4.846 6.7586\n",
      "700 0.0053 4.8675 6.8103\n",
      "710 0.0049 4.889 6.8611\n",
      "720 0.0045 4.9106 6.9112\n",
      "730 0.0041 4.9322 6.9605\n",
      "740 0.0038 4.9539 7.0089\n",
      "750 0.0035 4.9755 7.0565\n",
      "760 0.0032 4.9972 7.1032\n",
      "770 0.0029 5.0188 7.149\n",
      "780 0.0026 5.0404 7.1939\n",
      "790 0.0024 5.0618 7.2379\n",
      "800 0.0022 5.083 7.2808\n",
      "810 0.002 5.1041 7.3228\n",
      "820 0.0018 5.125 7.3638\n",
      "830 0.0016 5.1456 7.4037\n",
      "840 0.0015 5.1659 7.4426\n",
      "850 0.0013 5.1859 7.4803\n",
      "860 0.0012 5.2055 7.517\n",
      "870 0.0011 5.2247 7.5525\n",
      "880 0.001 5.2435 7.5868\n",
      "890 0.0009 5.2618 7.6199\n",
      "900 0.0009 5.2796 7.6519\n",
      "910 0.0008 5.2968 7.6825\n",
      "920 0.0007 5.3135 7.712\n",
      "930 0.0007 5.3296 7.7401\n",
      "940 0.0006 5.3451 7.767\n",
      "950 0.0006 5.3599 7.7926\n",
      "960 0.0005 5.3741 7.8168\n",
      "970 0.0005 5.3875 7.8398\n",
      "980 0.0005 5.4003 7.8613\n",
      "990 0.0005 5.4123 7.8816\n",
      "\n",
      "\n",
      "GT  : theta_0: 5.5, theta_1: 8.0\n",
      "Pred: theta_0: 5.4, theta_1: 7.9\n"
     ]
    },
    {
     "data": {
      "image/png": "[encoded data removed]",
      "text/plain": [
       "<Figure size 432x288 with 1 Axes>"
      ]
     },
     "metadata": {
      "needs_background": "light"
     },
     "output_type": "display_data"
    }
   ],
   "source": [
    "#Oisin's example\n",
    "import matplotlib.pyplot as plt\n",
    "import numpy as np\n",
    "import torch \n",
    "#from scipy.integrate import odeint\n",
    "from torch.autograd import grad\n",
    "\n",
    "from torchdiffeq import odeint_adjoint\n",
    "from torchdiffeq import odeint\n",
    "\n",
    "np.random.seed(2021)\n",
    "torch.manual_seed(2021)\n",
    "plt.close('all')\n",
    "\n",
    "\n",
    "\n",
    "def loss_fun(gt, pred):\n",
    "    return ((gt-pred)**2).mean()\n",
    "    \n",
    "\n",
    "class ODEFun(torch.nn.Module):\n",
    "    def __init__(self):\n",
    "        super(ODEFun, self).__init__()\n",
    "        self.theta = torch.nn.Parameter(torch.tensor([0.0, 0.0]), requires_grad=True)\n",
    "        \n",
    "    def forward(self, t, y):\n",
    "        S, I = y\n",
    "        ds = -self.theta[0]*S*I\n",
    "        di = self.theta[1]*S*I - I\n",
    "        return torch.stack([ds, di])\n",
    "\n",
    "def gt_fun(t, y):\n",
    "    theta_0 = 5.5\n",
    "    theta_1 = 8.0\n",
    "    S, I = y\n",
    "    ds = -theta_0*S*I\n",
    "    di = theta_1*S*I - I\n",
    "    return torch.stack([ds, di])\n",
    "        \n",
    "true_y0 = torch.tensor([0.99, 0.01])\n",
    "t = torch.linspace(0, 5, 100) \n",
    "\n",
    "\n",
    "# gt\n",
    "with torch.no_grad():\n",
    "    true_y = odeint(gt_fun, true_y0, t, method='dopri5')\n",
    "    true_y_noise = true_y + torch.randn(true_y.shape)*0.02\n",
    "    #true_y_adj = odeint_adjoint(gt_fun, true_y0, t, method='dopri5')\n",
    "\n",
    "\n",
    "func = ODEFun()\n",
    "lr = 0.01\n",
    "num_iters = 1000\n",
    "optimizer = torch.optim.RMSprop(func.parameters(), lr=lr)\n",
    "grads = []\n",
    "print('itr loss theta_0 theta_1')\n",
    "for ii in range(num_iters): \n",
    "    \n",
    "    optimizer.zero_grad()\n",
    "    \n",
    "    pred = odeint(func, true_y0, t, method='dopri5')\n",
    "    #pred = odeint_adjoint(func, true_y0, t, method='dopri5')\n",
    "    loss = loss_fun(true_y_noise, pred)\n",
    "    loss.backward()\n",
    "    optimizer.step()\n",
    "    \n",
    "    if ii % 10 == 0:\n",
    "        grads.append(func.theta.grad.clone().detach().numpy())\n",
    "        print(ii, round(loss.item(), 4), round(func.theta[0].item(), 4), round(func.theta[1].item(), 4))\n",
    "        \n",
    "\n",
    "# Note: here the GT values are hardcoded - fix\n",
    "print('\\n')\n",
    "print('GT  : theta_0: {:2.2}, theta_1: {:2.2}'.format(5.5, 8.0))\n",
    "print('Pred: theta_0: {:2.2}, theta_1: {:2.2}'.format(round(func.theta[0].item(), 4), round(func.theta[1].item(), 4)))\n",
    "\n",
    "\n",
    "\n",
    "plt.figure(1)\n",
    "with torch.no_grad():\n",
    "    plt.plot(t, true_y[:,0], 'C0', lw=3, label='S GT')\n",
    "    plt.plot(t, true_y[:,1], 'C1', lw=3, label='I GT')\n",
    "    plt.plot(t, pred[:,0], 'k', lw=1, label='S Pred')\n",
    "    plt.plot(t, pred[:,1], ':k', lw=1, label='I Pred')\n",
    "plt.legend()\n",
    "plt.xlabel('time')\n",
    "plt.show()"
   ]
  },
  {
   "cell_type": "code",
   "execution_count": 67,
   "metadata": {},
   "outputs": [
    {
     "data": {
      "text/plain": [
       "[<matplotlib.lines.Line2D at 0x7f8dc899de20>]"
      ]
     },
     "execution_count": 67,
     "metadata": {},
     "output_type": "execute_result"
    },
    {
     "data": {
      "image/png": "[encoded data removed]",
      "text/plain": [
       "<Figure size 432x288 with 1 Axes>"
      ]
     },
     "metadata": {
      "needs_background": "light"
     },
     "output_type": "display_data"
    }
   ],
   "source": [
    "plt.plot(np.array(grads)[:, 0])\n",
    "plt.plot(np.array(grads)[:, 1])"
   ]
  },
  {
   "cell_type": "code",
   "execution_count": 54,
   "metadata": {},
   "outputs": [
    {
     "name": "stderr",
     "output_type": "stream",
     "text": [
      "/var/folders/fz/1kd077v55dz4fd956zt4jrc40000gn/T/ipykernel_41099/1029307458.py:1: FutureWarning: The input object of type 'Tensor' is an array-like implementing one of the corresponding protocols (`__array__`, `__array_interface__` or `__array_struct__`); but not a sequence (or 0-D). In the future, this object will be coerced as if it was first converted using `np.array(obj)`. To retain the old behaviour, you have to either modify the type 'Tensor', or assign to an empty array created with `np.empty(correct_shape, dtype=object)`.\n",
      "  np.array(grads)\n",
      "/var/folders/fz/1kd077v55dz4fd956zt4jrc40000gn/T/ipykernel_41099/1029307458.py:1: VisibleDeprecationWarning: Creating an ndarray from ragged nested sequences (which is a list-or-tuple of lists-or-tuples-or ndarrays with different lengths or shapes) is deprecated. If you meant to do this, you must specify 'dtype=object' when creating the ndarray.\n",
      "  np.array(grads)\n"
     ]
    },
    {
     "data": {
      "text/plain": [
       "array([tensor([-0.0074, -0.0008]), tensor([-0.0149, -0.0138]),\n",
       "       tensor([-0.0315, -0.0669]), tensor([-0.0500, -0.1625]),\n",
       "       tensor([-0.0498, -0.1681]), tensor([-0.0448, -0.1458]),\n",
       "       tensor([-0.0401, -0.1273]), tensor([-0.0362, -0.1134]),\n",
       "       tensor([-0.0328, -0.1028]), tensor([-0.0300, -0.0944])],\n",
       "      dtype=object)"
      ]
     },
     "execution_count": 54,
     "metadata": {},
     "output_type": "execute_result"
    }
   ],
   "source": [
    "np.array(grads)"
   ]
  },
  {
   "cell_type": "code",
   "execution_count": null,
   "metadata": {},
   "outputs": [],
   "source": []
  }
 ],
 "metadata": {
  "interpreter": {
   "hash": "8fee36ad9d78978217c6d83218886f2e57823a4ec68da675ae41cb4d953e9a6e"
  },
  "kernelspec": {
   "display_name": "Python 3.9.7 ('thesis')",
   "name": "python3"
  },
  "language_info": {
   "codemirror_mode": {
    "name": "ipython",
    "version": 3
   },
   "file_extension": ".py",
   "mimetype": "text/x-python",
   "name": "python",
   "nbconvert_exporter": "python",
   "pygments_lexer": "ipython3",
   "version": "3.9.7"
  },
  "orig_nbformat": 4
 },
 "nbformat": 4,
 "nbformat_minor": 2
}
