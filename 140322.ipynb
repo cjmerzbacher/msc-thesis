{
 "cells": [
  {
   "cell_type": "code",
   "execution_count": 1,
   "metadata": {},
   "outputs": [],
   "source": [
    "#Import required packages\n",
    "import matplotlib.pyplot as plt\n",
    "import numpy as np\n",
    "import torch \n",
    "import torch.nn as nn\n",
    "import torch.optim as optim\n",
    "\n",
    "from torch.autograd import grad\n",
    "from torchdiffeq import odeint_adjoint\n",
    "from torchdiffeq import odeint\n",
    "import pandas as pd"
   ]
  },
  {
   "cell_type": "code",
   "execution_count": 8,
   "metadata": {},
   "outputs": [
    {
     "name": "stdout",
     "output_type": "stream",
     "text": [
      "itr loss theta_0 theta_1\n",
      "0 0.2001 -0.1 0.1\n",
      "10 0.01 -0.1035 0.1068\n",
      "20 0.0099 -0.1039 0.1116\n",
      "30 0.0098 -0.1029 0.1157\n",
      "40 0.0098 -0.1011 0.1194\n",
      "50 0.0097 -0.099 0.1231\n",
      "60 0.0096 -0.0966 0.1268\n",
      "70 0.0096 -0.094 0.1307\n",
      "80 0.0095 -0.0912 0.1347\n",
      "90 0.0094 -0.0884 0.1389\n",
      "100 0.0093 -0.0854 0.1433\n",
      "110 0.0093 -0.0823 0.1479\n",
      "120 0.0092 -0.079 0.1527\n",
      "130 0.0091 -0.0757 0.1577\n",
      "140 0.009 -0.0721 0.1629\n",
      "150 0.0089 -0.0685 0.1683\n",
      "160 0.0088 -0.0647 0.1739\n",
      "170 0.0087 -0.0607 0.1798\n",
      "180 0.0086 -0.0566 0.186\n",
      "190 0.0085 -0.0523 0.1923\n",
      "200 0.0084 -0.0478 0.199\n",
      "210 0.0083 -0.0432 0.2059\n",
      "220 0.0081 -0.0384 0.2131\n",
      "230 0.008 -0.0335 0.2205\n",
      "240 0.0079 -0.0283 0.2283\n",
      "250 0.0078 -0.023 0.2363\n",
      "260 0.0077 -0.0175 0.2446\n",
      "270 0.0075 -0.0118 0.2533\n",
      "280 0.0074 -0.0059 0.2622\n",
      "290 0.0073 0.0002 0.2715\n",
      "300 0.0071 0.0065 0.2811\n",
      "310 0.007 0.0129 0.291\n",
      "320 0.0068 0.0196 0.3012\n",
      "330 0.0067 0.0265 0.3118\n",
      "340 0.0065 0.0335 0.3227\n",
      "350 0.0064 0.0408 0.334\n",
      "360 0.0062 0.0483 0.3456\n",
      "370 0.0061 0.056 0.3576\n",
      "380 0.0059 0.0638 0.3699\n",
      "390 0.0058 0.0719 0.3825\n",
      "400 0.0056 0.0802 0.3955\n",
      "410 0.0055 0.0886 0.4088\n",
      "420 0.0053 0.0973 0.4225\n",
      "430 0.0052 0.1061 0.4366\n",
      "440 0.005 0.1151 0.4509\n",
      "450 0.0049 0.1243 0.4656\n",
      "460 0.0047 0.1337 0.4807\n",
      "470 0.0046 0.1432 0.4961\n",
      "480 0.0044 0.153 0.5118\n",
      "490 0.0043 0.1629 0.5278\n",
      "500 0.0042 0.1729 0.5441\n",
      "510 0.004 0.1831 0.5607\n",
      "520 0.0039 0.1935 0.5777\n",
      "530 0.0037 0.204 0.5949\n",
      "540 0.0036 0.2146 0.6124\n",
      "550 0.0035 0.2254 0.6302\n",
      "560 0.0033 0.2363 0.6483\n",
      "570 0.0032 0.2473 0.6666\n",
      "580 0.0031 0.2585 0.6852\n",
      "590 0.003 0.2697 0.704\n",
      "600 0.0028 0.2811 0.723\n",
      "610 0.0027 0.2925 0.7423\n",
      "620 0.0026 0.3041 0.7617\n",
      "630 0.0025 0.3157 0.7814\n",
      "640 0.0024 0.3274 0.8012\n",
      "650 0.0023 0.3392 0.8213\n",
      "660 0.0022 0.351 0.8414\n",
      "670 0.0021 0.3629 0.8618\n",
      "680 0.002 0.3749 0.8823\n",
      "690 0.0019 0.3869 0.9029\n",
      "700 0.0019 0.399 0.9237\n",
      "710 0.0018 0.4111 0.9445\n",
      "720 0.0017 0.4232 0.9655\n",
      "730 0.0016 0.4353 0.9865\n",
      "740 0.0015 0.4475 1.0077\n",
      "750 0.0015 0.4597 1.0289\n",
      "760 0.0014 0.4719 1.0501\n",
      "770 0.0013 0.4841 1.0714\n",
      "780 0.0013 0.4963 1.0928\n",
      "790 0.0012 0.5084 1.1142\n",
      "800 0.0012 0.5206 1.1355\n",
      "810 0.0011 0.5328 1.1569\n",
      "820 0.0011 0.5449 1.1783\n",
      "830 0.001 0.557 1.1997\n",
      "840 0.001 0.5691 1.221\n",
      "850 0.0009 0.5811 1.2423\n",
      "860 0.0009 0.5931 1.2635\n",
      "870 0.0009 0.605 1.2847\n",
      "880 0.0008 0.6169 1.3058\n",
      "890 0.0008 0.6287 1.3268\n",
      "900 0.0007 0.6404 1.3477\n",
      "910 0.0007 0.6521 1.3685\n",
      "920 0.0007 0.6637 1.3892\n",
      "930 0.0007 0.6752 1.4098\n",
      "940 0.0006 0.6866 1.4302\n",
      "950 0.0006 0.6979 1.4504\n",
      "960 0.0006 0.7091 1.4705\n",
      "970 0.0006 0.7202 1.4904\n",
      "980 0.0006 0.7311 1.5101\n",
      "990 0.0005 0.742 1.5296\n",
      "\n",
      "\n",
      "GT  : theta_0: 1.0, theta_1: 2.0\n",
      "Pred: theta_0: 0.75, theta_1: 1.5\n"
     ]
    },
    {
     "data": {
      "image/png": "[encoded data removed]",
      "text/plain": [
       "<Figure size 432x288 with 1 Axes>"
      ]
     },
     "metadata": {
      "needs_background": "light"
     },
     "output_type": "display_data"
    }
   ],
   "source": [
    "def loss_fun(gt, pred):\n",
    "    return ((gt-pred)**2).mean()\n",
    "    \n",
    "\n",
    "class ODEFun(torch.nn.Module):\n",
    "    def __init__(self):\n",
    "        super(ODEFun, self).__init__()\n",
    "        self.theta = torch.nn.Parameter(torch.tensor([0.0, 0.0]), requires_grad=True)\n",
    "        \n",
    "    def forward(self, t, y):\n",
    "        S = y\n",
    "        ds = self.theta[0]*S**2 - self.theta[1]*S**3\n",
    "        return ds\n",
    "\n",
    "def gt_fun(t, y):\n",
    "    theta_0 = 1.0\n",
    "    theta_1 = 2.0\n",
    "    S = y\n",
    "    ds = theta_0*S**2 - theta_1*S**3\n",
    "    return ds\n",
    "        \n",
    "true_y0 = torch.tensor([0.99])\n",
    "t = torch.linspace(0, 10, 100) \n",
    "\n",
    "\n",
    "# gt\n",
    "with torch.no_grad():\n",
    "    true_y = odeint(gt_fun, true_y0, t, method='dopri5')\n",
    "    true_y_noise = true_y + torch.randn(true_y.shape)*0.02\n",
    "    #true_y_adj = odeint_adjoint(gt_fun, true_y0, t, method='dopri5')\n",
    "\n",
    "\n",
    "func = ODEFun()\n",
    "lr = 0.01\n",
    "num_iters = 1000\n",
    "optimizer = torch.optim.RMSprop(func.parameters(), lr=lr)\n",
    "\n",
    "losses = []\n",
    "print('itr loss theta_0 theta_1')\n",
    "for ii in range(num_iters): \n",
    "    \n",
    "    optimizer.zero_grad()\n",
    "    \n",
    "    pred = odeint(func, true_y0, t, method='dopri5')\n",
    "    #pred = odeint_adjoint(func, true_y0, t, method='dopri5')\n",
    "    loss = loss_fun(true_y_noise, pred)\n",
    "    \n",
    "    loss.backward()\n",
    "    optimizer.step()\n",
    "    \n",
    "    if ii % 10 == 0:\n",
    "        print(ii, round(loss.item(), 4), round(func.theta[0].item(), 4), round(func.theta[1].item(), 4))\n",
    "        losses.append(loss.item())\n",
    "\n",
    "# Note: here the GT values are hardcoded - fix\n",
    "print('\\n')\n",
    "print('GT  : theta_0: {:2.2}, theta_1: {:2.2}'.format(1.0, 2.0))\n",
    "print('Pred: theta_0: {:2.2}, theta_1: {:2.2}'.format(round(func.theta[0].item(), 4), round(func.theta[1].item(), 4)))\n",
    "\n",
    "\n",
    "\n",
    "plt.figure(1)\n",
    "with torch.no_grad():\n",
    "    plt.plot(t, true_y[:,0], 'C0', lw=3, label='S GT')\n",
    "    plt.plot(t, pred[:,0], 'k', lw=1, label='S Pred')\n",
    "plt.legend()\n",
    "plt.xlabel('time')\n",
    "plt.show()"
   ]
  },
  {
   "cell_type": "code",
   "execution_count": 3,
   "metadata": {},
   "outputs": [
    {
     "data": {
      "text/plain": [
       "[<matplotlib.lines.Line2D at 0x7fb42abc2d60>]"
      ]
     },
     "execution_count": 3,
     "metadata": {},
     "output_type": "execute_result"
    },
    {
     "data": {
      "image/png": "[encoded data removed]",
      "text/plain": [
       "<Figure size 432x288 with 1 Axes>"
      ]
     },
     "metadata": {
      "needs_background": "light"
     },
     "output_type": "display_data"
    }
   ],
   "source": [
    "def gt_fun(t, y):\n",
    "    theta_0 = 1.0\n",
    "    theta_1 = 1.0\n",
    "    S = y\n",
    "    ds = theta_0*S**2 - theta_1*S**3\n",
    "    return ds\n",
    "\n",
    "\n",
    "delta = 0.02\n",
    "y0 = torch.tensor([delta])\n",
    "t = torch.linspace(0, 2/delta, 100, requires_grad=False) \n",
    "\n",
    "true_y = odeint(gt_fun, y0, t, method='dopri5')\n",
    "plt.plot(t, true_y[:,0], 'C0', lw=3, label='S GT')"
   ]
  },
  {
   "cell_type": "code",
   "execution_count": null,
   "metadata": {},
   "outputs": [],
   "source": []
  },
  {
   "cell_type": "code",
   "execution_count": null,
   "metadata": {},
   "outputs": [],
   "source": []
  }
 ],
 "metadata": {
  "interpreter": {
   "hash": "8fee36ad9d78978217c6d83218886f2e57823a4ec68da675ae41cb4d953e9a6e"
  },
  "kernelspec": {
   "display_name": "Python 3.9.7 ('thesis')",
   "name": "python3"
  },
  "language_info": {
   "codemirror_mode": {
    "name": "ipython",
    "version": 3
   },
   "file_extension": ".py",
   "mimetype": "text/x-python",
   "name": "python",
   "nbconvert_exporter": "python",
   "pygments_lexer": "ipython3",
   "version": "3.9.7"
  },
  "orig_nbformat": 4
 },
 "nbformat": 4,
 "nbformat_minor": 2
}
