{
 "cells": [
  {
   "cell_type": "code",
   "execution_count": 1,
   "metadata": {},
   "outputs": [],
   "source": [
    "import numpy as np\n",
    "from hyperopt import hp, fmin, tpe, space_eval\n",
    "from scikits.odes.ode import ode\n",
    "import matplotlib.pyplot as plt\n",
    "import pandas as pd\n",
    "import seaborn as sns"
   ]
  },
  {
   "cell_type": "code",
   "execution_count": 4,
   "metadata": {},
   "outputs": [],
   "source": [
    "def michaelismenten(x, vm, km):\n",
    "    return (vm*x)/(km+x)\n",
    "\n",
    "def promoteractivation(x, r, kd):\n",
    "    return r/(1+(x/kd))"
   ]
  },
  {
   "cell_type": "code",
   "execution_count": null,
   "metadata": {},
   "outputs": [],
   "source": [
    "def fa_openloop(t, y, ydot, params):\n",
    "    FFA, tesA = y\n",
    "    r_lac, kc, km, acylacp, mu = params\n",
    "    ydot[0] = tesA*((kc*acylacp))/(km+acylacp) - mu*FFA\n",
    "    ydot[1] = r_lac - mu*tesA"
   ]
  },
  {
   "cell_type": "code",
   "execution_count": null,
   "metadata": {},
   "outputs": [],
   "source": [
    "def fa_openloopintermediate(t, y, ydot, params):\n",
    "    FFA, tesA, CAR = y\n",
    "    r_lac, kc, km, r_bad, kc_car, km_car, acylap, mu = params\n",
    "    ydot[0] = tesA * michaelismenten(acylap, kc, km) - mu * FFA - CAR * michaelismenten(FFA, kc_car, km_car)\n",
    "    ydot[1] = r_lac - mu*tesA\n",
    "    ydot[2] = r_bad - mu*CAR"
   ]
  },
  {
   "cell_type": "code",
   "execution_count": null,
   "metadata": {},
   "outputs": [],
   "source": [
    "def fa_negativegeneloop(t, y, ydot, params):\n",
    "    FFA, tesA, tetR = y\n",
    "    r_tl, k_tesA, kd_tetR, r_tl_tetR, mu = params\n",
    "    ydot[0] = tesA * k_tesA - mu * FFA\n",
    "    ydot[1] = promoteractivation(tetR, r_tl, kd_tetR) - mu * tesA\n",
    "    ydot[2] = promoteractivation(tetR, r_tl_tetR, kd_tetR) - mu * tetR"
   ]
  },
  {
   "cell_type": "code",
   "execution_count": null,
   "metadata": {},
   "outputs": [],
   "source": [
    "def fa_negativemetabolicloop(t, y, ydot, params):\n",
    "    FFA, tesA, FadR_t = y\n",
    "    r_fl, kc, km, kd_fadR, kd_fadR_FFA, r_FadR, acylap, mu = params\n",
    "    r_fl_prime = (r_fl * FadR_t)/(FadR_t + kd_fadR)\n",
    "    ki = ((kd_fadR + FadR_t)/(kd_fadR))*kd_fadR_FFA\n",
    "    ydot[0] = michaelismenten(acylap, kc, km) * tesA - mu*FFA\n",
    "    ydot[1] = promoteractivation(FFA, r_fl_prime, ki)\n",
    "    ydot[2] = r_FadR - mu * FadR_t #Not sure if need to model total FadR_t as a transient or if it can be constant"
   ]
  },
  {
   "cell_type": "code",
   "execution_count": 5,
   "metadata": {},
   "outputs": [
    {
     "data": {
      "text/plain": [
       "4.0566215199398046e-05"
      ]
     },
     "execution_count": 5,
     "metadata": {},
     "output_type": "execute_result"
    }
   ],
   "source": [
    "r_lac = hp.uniform('r_lac', 10E-11, 10E-8)\n",
    "kc = hp.uniform('kc_tesA', 1, 1000)\n",
    "km = hp.uniform('km_tesA', 1, 1000)\n",
    "acp_mw = 1063.2 * 1000 #mg/mol, from pubChem\n",
    "acylap = 43.13 / acp_mw #mg/L \n",
    "mu = 1.93E-4 #From toy model - find value from paper\n",
    "\n",
    "#Open Loop Intermediate\n",
    "r_bad = hp.uniform('r_bad', 10E-11, 10E-8)\n",
    "kc_car = hp.uniform('kc_car', 2.83E-4, 4.78E-4)\n",
    "km_car = hp.uniform('km_car', 2.83E-4, 4.78E-4)\n",
    "\n",
    "#Negative gene loop\n",
    "r_tl = 2.09E-11\n",
    "kd_tetR = 3.0E-8\n",
    "r_tl_tetR = 2.18E-11\n",
    "k_tesA = 77.75\n",
    "\n",
    "r_fl_prime = 1E-11 \n",
    "kd_fadR, kd_fadR_FFA, r_FadR, acylap, mu"
   ]
  },
  {
   "cell_type": "code",
   "execution_count": null,
   "metadata": {},
   "outputs": [],
   "source": [
    "def fa_layerednegativemetabolicloop(t, y, ydot, params):\n",
    "    FFA,  tesA , tetR, FadR_t = y\n",
    "    kc, km, r_tl, k_d_tetR, r_ar2, kd_fadR, kd_fadR_FFA, r_FadR, k_deg, acylap, mu = params\n",
    "    ydot[0] = tesA * michaelismenten(acylap, kc, km) - mu * FFA\n",
    "    ydot[1] = promoteractivation(tetR, r_tl, k_d_tetR) - mu*tesA\n",
    "    ydot[2] = promoteractivation(FadR_t, r_ar2, kd_fadR * (1+FFA/kd_fadR_FFA)) - mu*tetR - k_deg * tetR\n",
    "    ydot[2] = r_FadR - mu * FadR_t #Not sure if need to model total FadR_t as a transient or if it can be constant"
   ]
  },
  {
   "cell_type": "code",
   "execution_count": null,
   "metadata": {},
   "outputs": [],
   "source": [
    "protein_synthesis_rate = [10E-11, 10E-8]\n",
    "mu = 0. #FIX THIS\n",
    "kc = hp.uniform('kc_tesA', 1, 1000)\n",
    "km = hp.uniform('km_tesA', 1, 1000)\n",
    "r_tl = 2.09E-11\n",
    "\n",
    "kc_car = hp.uniform('kc_car', 2.83E-4, 4.78E-4)\n",
    "km_car = hp.uniform('km_car', 2.83E-4, 4.78E-4)\n",
    "\n",
    "#kd_tetR, r_tl_tetR\n",
    "#r_ar2, kd_fadR, kd_fadR_FFA, r_FadR, k_deg, acylap, "
   ]
  }
 ],
 "metadata": {
  "interpreter": {
   "hash": "6cc950c48da33f7875b4a2169698f2adf302ea73561d4615b2b5d23be94e0439"
  },
  "kernelspec": {
   "display_name": "Python 3.9.7 ('sundials')",
   "language": "python",
   "name": "python3"
  },
  "language_info": {
   "codemirror_mode": {
    "name": "ipython",
    "version": 3
   },
   "file_extension": ".py",
   "mimetype": "text/x-python",
   "name": "python",
   "nbconvert_exporter": "python",
   "pygments_lexer": "ipython3",
   "version": "3.9.7"
  },
  "orig_nbformat": 4
 },
 "nbformat": 4,
 "nbformat_minor": 2
}
