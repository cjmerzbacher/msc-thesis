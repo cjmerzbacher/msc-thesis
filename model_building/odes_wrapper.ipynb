{
 "cells": [
  {
   "cell_type": "code",
   "execution_count": 32,
   "metadata": {},
   "outputs": [],
   "source": [
    "import numpy as np\n",
    "from scikits.odes.ode import ode\n",
    "import matplotlib.pyplot as plt\n",
    "import random\n",
    "from IPython.utils import io\n",
    "\n"
   ]
  },
  {
   "cell_type": "code",
   "execution_count": 2,
   "metadata": {},
   "outputs": [],
   "source": [
    "#Import local functions\n",
    "sys.path.append('../functions')\n",
    "from functions import nonlinearity, repression, activation"
   ]
  },
  {
   "cell_type": "code",
   "execution_count": 3,
   "metadata": {},
   "outputs": [],
   "source": [
    "#Default information - user can change but mostly won't\n",
    "#Constants (set to default)\n",
    "kc=12.; km=10.; lam=1.93E-4; Vin=1.; e0=0.0467\n",
    "\n",
    "#Integration conditions\n",
    "y0 = np.array([2290., 0., 0., 0., 0., 0.]) \n",
    "times = np.linspace(0, 5e4, 100) \n",
    "\n",
    "#User specified information\n",
    "X = 2 #Number of chemical species in pathway\n",
    "E = 2 #Number of enzymes in pathway\n",
    "\n",
    "#S = np.zeros([X, E])\n",
    "S = np.array([[ -1, 0], [1, -1]]) #Stoichiometric matrix defining chemical reactions\n",
    "\n",
    "I = np.zeros(X) #Input matrix defining inputs to pathway\n",
    "I[0] = Vin #Inputs to pathway\n",
    "\n",
    "T = [1] #Xs that can act as TFs"
   ]
  },
  {
   "cell_type": "code",
   "execution_count": 4,
   "metadata": {},
   "outputs": [],
   "source": [
    "params = np.zeros([len(T), E, 3])\n",
    "#Manually set initial conditions\n",
    "for t in range(len(T)):\n",
    "    for e in range(E):\n",
    "        params[t][e] = [2., 0.1,1E-4]"
   ]
  },
  {
   "cell_type": "code",
   "execution_count": 5,
   "metadata": {},
   "outputs": [],
   "source": [
    "def generate_equation(A, W):\n",
    "    '''Generate genetic equations from architecture matrix'''\n",
    "    def generated_equation(t, y, ydot):\n",
    "        '''Generate function to solve with Scikit-ODEs'''\n",
    "        ydot[0] = Vin - lam*y[0] - e0*nonlinearity(y[0], kc, km) - y[2]*nonlinearity(y[0], kc, km)\n",
    "        ydot[1] = y[2]*nonlinearity(y[0], kc, km) - y[3]*nonlinearity(y[1], kc, km) - lam*y[1]\n",
    "        for e in range(E):\n",
    "            ydot[e+X] = -lam*y[e+X] + np.sum([np.sum(A[t][e]*[activation(y[T[t]], W[t][e][2], W[t][e][1], W[t][e][0]), repression(y[T[t]], W[t][e][2], W[t][e][1], W[t][e][0]), W[t][e][2]]) for t in range(len(T))])\n",
    "        ydot[E+X] = (I[0] - y[X+1]*nonlinearity(y[X-1], kc, km))**2 #J1\n",
    "        ydot[E+X+1] = np.sum([np.sum([np.sum(A[t][e]*[activation(y[T[t]], W[t][e][2], W[t][e][1], W[t][e][0]), repression(y[T[t]], W[t][e][2], W[t][e][1], W[t][e][0]), 0]) for t in range(len(T))]) for e in range(E)]) #J2\n",
    "    return generated_equation"
   ]
  },
  {
   "cell_type": "code",
   "execution_count": 6,
   "metadata": {},
   "outputs": [],
   "source": [
    "def loss_biological(j1, j2, alpha1, alpha2):\n",
    "        \"\"\"Computes scalarized loss including genetic constraint and product production\"\"\"\n",
    "        loss = alpha1*j1 + alpha2*j2\n",
    "        return j1, j2, loss"
   ]
  },
  {
   "cell_type": "code",
   "execution_count": 7,
   "metadata": {},
   "outputs": [],
   "source": [
    "def bounds_check(params):\n",
    "    n1, n2 = params[0][:, 0]\n",
    "    theta1, theta2 = params[0][:, 1]\n",
    "    k1, k2 = params[0][:, 2]\n",
    "    if k1 <= 1E-3 and k2 <= 1E-3 and k1 >= 1E-7 and k2 >= 1E-7:\n",
    "        if n1 <= 4 and n2 <= 4 and n1 >= 1 and n2 >= 1:\n",
    "            if theta1 >= 0.001 and theta2 >= 0.001 and theta1 <= 10 and theta2 <= 10:\n",
    "                return True\n",
    "    else: return False"
   ]
  },
  {
   "cell_type": "code",
   "execution_count": 8,
   "metadata": {},
   "outputs": [],
   "source": [
    "def generate_initial_params(N):\n",
    "    #Set random seed\n",
    "    np.random.seed(2022)\n",
    "    ics = []\n",
    "    for i in range(N):\n",
    "        k1 = random.uniform(1E-7,1E-3)\n",
    "        k2 = random.uniform(1E-7,1E-3)\n",
    "        n1 = random.uniform(1,4)\n",
    "        n2 = random.uniform(1,4)\n",
    "        theta1 = random.uniform(0.001,10)\n",
    "        theta2 = random.uniform(0.001,10)\n",
    "\n",
    "        init_conds = np.array([[[n1, theta1, k1], [n2, theta2, k2]]])\n",
    "        ics.append(init_conds)\n",
    "    return ics"
   ]
  },
  {
   "cell_type": "code",
   "execution_count": 36,
   "metadata": {},
   "outputs": [],
   "source": [
    "def solve_single(A, W, times, y0):\n",
    "    ode_function = generate_equation(A, W)\n",
    "    with io.capture_output() as captured:\n",
    "        solution = ode('cvode', ode_function, old_api=False).solve(times, y0)\n",
    "    j1, j2 = solution.values.y[-1, -2:]\n",
    "    j1, j2, loss = loss_biological(j1, j2, alpha1=1E-5, alpha2= 1E-2)\n",
    "    return loss"
   ]
  },
  {
   "cell_type": "code",
   "execution_count": 10,
   "metadata": {},
   "outputs": [],
   "source": [
    "def solve_patch(A, params, times, y0, patch_size, step_sizes):\n",
    "    center_loss = solve_single(A, params, times, y0)\n",
    "    #Sample randomly from hypersphere\n",
    "    normal_deviates = np.random.normal(size=(patch_size, params.shape[0], params.shape[1], params.shape[2]))\n",
    "    radius = np.sqrt((normal_deviates**2).sum(axis=0))\n",
    "    points = normal_deviates/radius\n",
    "    scaled_points = step_sizes*points + params\n",
    "    \n",
    "    min_loss = center_loss\n",
    "    new_params = params\n",
    "    for scaled_params in scaled_points:         \n",
    "        loss = solve_single(A, scaled_params, times, y0)\n",
    "        if bounds_check(scaled_params):\n",
    "            if loss < min_loss:\n",
    "                new_params = scaled_params\n",
    "                min_loss = loss\n",
    "    return new_params, min_loss"
   ]
  },
  {
   "cell_type": "code",
   "execution_count": 21,
   "metadata": {},
   "outputs": [],
   "source": [
    "def solve_architecture(A, times, y0, num_initializations=1, num_epochs = 100, tolerance=0.0004, patch_size=100, step_sizes= np.array([[[0.1, 0.01, 0.001], [0.1, 0.01, 0.0001]]])):\n",
    "    initial_params = generate_initial_params(num_initializations)\n",
    "    for i in range(len(initial_params)):\n",
    "        print('Descent', i+1, 'of', len(initial_params))\n",
    "        init_conds = initial_params[i]\n",
    "        next_params, loss = solve_patch(A, init_conds, times, y0, patch_size, step_sizes)\n",
    "        losses = [loss]; param_trace = [next_params]\n",
    "\n",
    "        for i in range(num_epochs):\n",
    "            new_params, loss = solve_patch(A, next_params,times, y0,patch_size, step_sizes)\n",
    "            next_params = new_params\n",
    "\n",
    "            print('Epoch: ', i, 'Loss: ', loss)\n",
    "            losses.append(loss)\n",
    "            param_trace.append(new_params)\n",
    "            \n",
    "            #Early stopping criterion\n",
    "            if losses[-2] - losses[-1] < tolerance:\n",
    "                print('Terminating early at step', i, 'of ', num_epochs)\n",
    "                break\n",
    "    return param_trace, losses\n",
    "\n"
   ]
  },
  {
   "cell_type": "code",
   "execution_count": 29,
   "metadata": {},
   "outputs": [],
   "source": [
    "A = np.zeros([len(T), E, 3]) #3 methods of action at each locus for each TF\n",
    "A[0][0] = [0, 1, 0]\n",
    "A[0][1] = [0, 0, 1]"
   ]
  },
  {
   "cell_type": "code",
   "execution_count": 37,
   "metadata": {},
   "outputs": [
    {
     "name": "stdout",
     "output_type": "stream",
     "text": [
      "Descent 1 of 1\n",
      "Epoch:  0 Loss:  0.1008471560076038\n"
     ]
    },
    {
     "name": "stderr",
     "output_type": "stream",
     "text": [
      "\n",
      "[CVODE ERROR]  CVode\n",
      "  At t = 3.34879e-12 and h = 1.27746e-13, the corrector convergence test failed repeatedly or with |h| = hmin.\n",
      "\n",
      "\n",
      "[CVODE ERROR]  CVode\n",
      "  At t = 3.34879e-12 and h = 1.27746e-13, the corrector convergence test failed repeatedly or with |h| = hmin.\n",
      "\n",
      "\n",
      "[CVODE ERROR]  CVode\n",
      "  At t = 3.34879e-12 and h = 1.27746e-13, the corrector convergence test failed repeatedly or with |h| = hmin.\n",
      "\n",
      "\n",
      "[CVODE ERROR]  CVode\n",
      "  At t = 3.34879e-12 and h = 1.27746e-13, the corrector convergence test failed repeatedly or with |h| = hmin.\n",
      "\n",
      "\n",
      "[CVODE ERROR]  CVode\n",
      "  At t = 3.34879e-12 and h = 1.27746e-13, the corrector convergence test failed repeatedly or with |h| = hmin.\n",
      "\n"
     ]
    },
    {
     "name": "stdout",
     "output_type": "stream",
     "text": [
      "Epoch:  1 Loss:  0.04469488311968336\n"
     ]
    },
    {
     "name": "stderr",
     "output_type": "stream",
     "text": [
      "\n",
      "[CVODE ERROR]  CVode\n",
      "  At t = 3.34879e-12 and h = 1.27746e-13, the corrector convergence test failed repeatedly or with |h| = hmin.\n",
      "\n",
      "\n",
      "[CVODE ERROR]  CVode\n",
      "  At t = 3.34879e-12 and h = 1.27746e-13, the corrector convergence test failed repeatedly or with |h| = hmin.\n",
      "\n",
      "\n",
      "[CVODE ERROR]  CVode\n",
      "  At t = 3.34879e-12 and h = 1.27746e-13, the corrector convergence test failed repeatedly or with |h| = hmin.\n",
      "\n",
      "\n",
      "[CVODE ERROR]  CVode\n",
      "  At t = 3.34879e-12 and h = 1.27746e-13, the corrector convergence test failed repeatedly or with |h| = hmin.\n",
      "\n",
      "\n",
      "[CVODE ERROR]  CVode\n",
      "  At t = 3.34879e-12 and h = 1.27746e-13, the corrector convergence test failed repeatedly or with |h| = hmin.\n",
      "\n",
      "\n",
      "[CVODE ERROR]  CVode\n",
      "  At t = 3.34879e-12 and h = 1.27746e-13, the corrector convergence test failed repeatedly or with |h| = hmin.\n",
      "\n",
      "\n",
      "[CVODE ERROR]  CVode\n",
      "  At t = 3.34879e-12 and h = 1.27746e-13, the corrector convergence test failed repeatedly or with |h| = hmin.\n",
      "\n",
      "\n",
      "[CVODE ERROR]  CVode\n",
      "  At t = 3.34879e-12 and h = 1.27746e-13, the corrector convergence test failed repeatedly or with |h| = hmin.\n",
      "\n",
      "\n",
      "[CVODE ERROR]  CVode\n",
      "  At t = 3.34879e-12 and h = 1.27746e-13, the corrector convergence test failed repeatedly or with |h| = hmin.\n",
      "\n",
      "\n",
      "[CVODE ERROR]  CVode\n",
      "  At t = 3.34879e-12 and h = 1.27746e-13, the corrector convergence test failed repeatedly or with |h| = hmin.\n",
      "\n",
      "\n",
      "[CVODE ERROR]  CVode\n",
      "  At t = 3.34879e-12 and h = 1.27746e-13, the corrector convergence test failed repeatedly or with |h| = hmin.\n",
      "\n",
      "\n",
      "[CVODE ERROR]  CVode\n",
      "  At t = 3.34879e-12 and h = 1.27746e-13, the corrector convergence test failed repeatedly or with |h| = hmin.\n",
      "\n",
      "\n",
      "[CVODE ERROR]  CVode\n",
      "  At t = 3.34879e-12 and h = 1.27746e-13, the corrector convergence test failed repeatedly or with |h| = hmin.\n",
      "\n",
      "\n",
      "[CVODE ERROR]  CVode\n",
      "  At t = 3.34879e-12 and h = 1.27746e-13, the corrector convergence test failed repeatedly or with |h| = hmin.\n",
      "\n",
      "\n",
      "[CVODE ERROR]  CVode\n",
      "  At t = 3.34879e-12 and h = 1.27746e-13, the corrector convergence test failed repeatedly or with |h| = hmin.\n",
      "\n",
      "\n",
      "[CVODE ERROR]  CVode\n",
      "  At t = 3.34879e-12 and h = 1.27746e-13, the corrector convergence test failed repeatedly or with |h| = hmin.\n",
      "\n",
      "\n",
      "[CVODE ERROR]  CVode\n",
      "  At t = 3.34879e-12 and h = 1.27746e-13, the corrector convergence test failed repeatedly or with |h| = hmin.\n",
      "\n",
      "\n",
      "[CVODE ERROR]  CVode\n",
      "  At t = 3.34879e-12 and h = 1.27746e-13, the corrector convergence test failed repeatedly or with |h| = hmin.\n",
      "\n",
      "\n",
      "[CVODE ERROR]  CVode\n",
      "  At t = 3.34879e-12 and h = 1.27746e-13, the corrector convergence test failed repeatedly or with |h| = hmin.\n",
      "\n",
      "\n",
      "[CVODE ERROR]  CVode\n",
      "  At t = 3.34879e-12 and h = 1.27746e-13, the corrector convergence test failed repeatedly or with |h| = hmin.\n",
      "\n",
      "\n",
      "[CVODE ERROR]  CVode\n",
      "  At t = 3.34879e-12 and h = 1.27746e-13, the corrector convergence test failed repeatedly or with |h| = hmin.\n",
      "\n",
      "\n",
      "[CVODE ERROR]  CVode\n",
      "  At t = 3.34879e-12 and h = 1.27746e-13, the corrector convergence test failed repeatedly or with |h| = hmin.\n",
      "\n",
      "\n",
      "[CVODE ERROR]  CVode\n",
      "  At t = 3.34879e-12 and h = 1.27746e-13, the corrector convergence test failed repeatedly or with |h| = hmin.\n",
      "\n",
      "\n",
      "[CVODE ERROR]  CVode\n",
      "  At t = 3.34879e-12 and h = 1.27746e-13, the corrector convergence test failed repeatedly or with |h| = hmin.\n",
      "\n",
      "\n",
      "[CVODE ERROR]  CVode\n",
      "  At t = 3.34879e-12 and h = 1.27746e-13, the corrector convergence test failed repeatedly or with |h| = hmin.\n",
      "\n",
      "\n",
      "[CVODE ERROR]  CVode\n",
      "  At t = 3.34879e-12 and h = 1.27746e-13, the corrector convergence test failed repeatedly or with |h| = hmin.\n",
      "\n",
      "\n",
      "[CVODE ERROR]  CVode\n",
      "  At t = 3.34879e-12 and h = 1.27746e-13, the corrector convergence test failed repeatedly or with |h| = hmin.\n",
      "\n",
      "\n",
      "[CVODE ERROR]  CVode\n",
      "  At t = 3.34879e-12 and h = 1.27746e-13, the corrector convergence test failed repeatedly or with |h| = hmin.\n",
      "\n",
      "\n",
      "[CVODE ERROR]  CVode\n",
      "  At t = 3.34879e-12 and h = 1.27746e-13, the corrector convergence test failed repeatedly or with |h| = hmin.\n",
      "\n",
      "\n",
      "[CVODE ERROR]  CVode\n",
      "  At t = 3.34879e-12 and h = 1.27746e-13, the corrector convergence test failed repeatedly or with |h| = hmin.\n",
      "\n",
      "\n",
      "[CVODE ERROR]  CVode\n",
      "  At t = 3.34879e-12 and h = 1.27746e-13, the corrector convergence test failed repeatedly or with |h| = hmin.\n",
      "\n",
      "\n",
      "[CVODE ERROR]  CVode\n",
      "  At t = 3.34879e-12 and h = 1.27746e-13, the corrector convergence test failed repeatedly or with |h| = hmin.\n",
      "\n",
      "\n",
      "[CVODE ERROR]  CVode\n",
      "  At t = 3.34879e-12 and h = 1.27746e-13, the corrector convergence test failed repeatedly or with |h| = hmin.\n",
      "\n",
      "\n",
      "[CVODE ERROR]  CVode\n",
      "  At t = 3.34879e-12 and h = 1.27746e-13, the corrector convergence test failed repeatedly or with |h| = hmin.\n",
      "\n",
      "\n",
      "[CVODE ERROR]  CVode\n",
      "  At t = 3.34879e-12 and h = 1.27746e-13, the corrector convergence test failed repeatedly or with |h| = hmin.\n",
      "\n"
     ]
    },
    {
     "name": "stdout",
     "output_type": "stream",
     "text": [
      "Epoch:  2 Loss:  0.04465044559737107\n",
      "Terminating early at step 2 of  100\n"
     ]
    },
    {
     "name": "stderr",
     "output_type": "stream",
     "text": [
      "\n",
      "[CVODE ERROR]  CVode\n",
      "  At t = 3.34879e-12 and h = 1.27746e-13, the corrector convergence test failed repeatedly or with |h| = hmin.\n",
      "\n"
     ]
    }
   ],
   "source": [
    "param_trace, losses = solve_architecture(A, times, y0, num_initializations=1, num_epochs = 100, tolerance=0.0004, patch_size=100, step_sizes= np.array([[[0.1, 0.01, 0.001], [0.1, 0.01, 0.0001]]]))"
   ]
  },
  {
   "cell_type": "code",
   "execution_count": null,
   "metadata": {},
   "outputs": [],
   "source": []
  }
 ],
 "metadata": {
  "interpreter": {
   "hash": "1c81a53a0ff6cd481fa9e4276883fc41728c044ede2b17046477fd0d4a209b4b"
  },
  "kernelspec": {
   "display_name": "Python 3.9.7 ('sundials')",
   "name": "python3"
  },
  "language_info": {
   "codemirror_mode": {
    "name": "ipython",
    "version": 3
   },
   "file_extension": ".py",
   "mimetype": "text/x-python",
   "name": "python",
   "nbconvert_exporter": "python",
   "pygments_lexer": "ipython3",
   "version": "3.9.7"
  },
  "orig_nbformat": 4
 },
 "nbformat": 4,
 "nbformat_minor": 2
}
