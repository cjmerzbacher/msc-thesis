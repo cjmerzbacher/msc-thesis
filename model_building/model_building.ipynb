{
 "cells": [
  {
   "cell_type": "code",
   "execution_count": 1,
   "metadata": {},
   "outputs": [],
   "source": [
    "import numpy as np\n",
    "from scikits.odes.ode import ode"
   ]
  },
  {
   "cell_type": "code",
   "execution_count": 2,
   "metadata": {},
   "outputs": [],
   "source": [
    "#Import local functions\n",
    "sys.path.append('../functions')\n",
    "from functions import nonlinearity, repression, activation"
   ]
  },
  {
   "cell_type": "code",
   "execution_count": null,
   "metadata": {},
   "outputs": [],
   "source": [
    "#OLD CODE TRYING TO AUTOCOMPLETE SYSTEM OF DES\n",
    "#Specify model parameters \n",
    "X = 2 #Number of xs in model\n",
    "E = 2 #Number of enzymes in model\n",
    "\n",
    "#Initialize weights\n",
    "W = np.random.normal(0, 0.1, [E, 3]) #K, theta, n are 3 dimensions\n",
    "V = np.random.normal(0, 0.1, [E, 3]) #same but for activation\n",
    "t = np.linspace(0, 5e4, 101)\n",
    "\n",
    "#Constants\n",
    "Vin = 1\n",
    "e0 = 0.0467 \n",
    "lam = 1.93E-4 #1/s\n",
    "#Assume equal kinetics for all three enzymes - CHANGE THIS LATER\n",
    "kc = 12 #1/s\n",
    "km = 10 \n",
    "\n",
    "#Establish stoichiometric matrix\n",
    "S = np.array([[-1, 0], [1, -1]])\n",
    "#Establish input matrix\n",
    "I = np.zeros(X)\n",
    "I[0] = Vin\n",
    "#Specify which Xs can act as transcription factors\n",
    "T = 1\n",
    "W = W[T] #Filter W so only fitting parameters of possible transcriptional controls\n",
    "V = V[T]\n",
    "#Establish system of differential equations\n",
    "y = np.array([2290.,0.,1.,0.])\n",
    "ydot = []\n",
    "#Kinetic equations\n",
    "for i in range(X):\n",
    "    ydot = I[i] - lam*y[i] + S*nonlinearity(y[X:], kc, km)\n",
    "j = 0\n",
    "for i in range(X,X+E):\n",
    "    ydot = -lam*y[i] + repression(y[T], W[j, 0], W[j, 1], W[j, 2]) + activation(y[T], V[j, 0], V[j, 1], V[j, 2])\n",
    "    j += 1\n",
    "#Add J1, J2\n",
    "ydot = (I[0] + S*nonlinearity(y[1], kc, km))**2"
   ]
  },
  {
   "cell_type": "code",
   "execution_count": 18,
   "metadata": {},
   "outputs": [],
   "source": [
    "#Default information - user can change but mostly won't\n",
    "#Constants (set to default)\n",
    "kc=12.; km=10.; lam=1.93E-4; Vin=1.; e0=0.0467\n",
    "\n",
    "#Integration conditions\n",
    "y = np.array([2290.,0.,1.,0.])\n",
    "t = np.linspace(0, 5e4, 100) "
   ]
  },
  {
   "cell_type": "code",
   "execution_count": 132,
   "metadata": {},
   "outputs": [],
   "source": [
    "#User specified information\n",
    "X = 2 #Number of chemical species in pathway\n",
    "E = 2 #Number of enzymes in pathway\n",
    "\n",
    "S = np.array([[-1, 0], [1, -1]]) #Stoichiometric matrix defining chemical reactions\n",
    "\n",
    "I = np.zeros(X) #Input matrix defining inputs to pathway\n",
    "I[0] = Vin #Inputs to pathway\n",
    "\n",
    "T = [1] #Xs that can act as TFs"
   ]
  },
  {
   "cell_type": "code",
   "execution_count": 133,
   "metadata": {},
   "outputs": [],
   "source": [
    "#Genetic parameter values for circuit\n",
    "W = np.zeros([len(T), E, 3]) #K, theta, n are 3 dimensions\n",
    "\n",
    "#Manually set initial conditions\n",
    "for t in range(len(T)):\n",
    "    for e in range(E):\n",
    "        W[t][e] = [2., 0.1,1E-4]"
   ]
  },
  {
   "cell_type": "code",
   "execution_count": 139,
   "metadata": {},
   "outputs": [],
   "source": [
    "#Architecture matrix\n",
    "A = np.zeros([len(T), E, 2]) #3 methods of action at each locus for each TF"
   ]
  },
  {
   "cell_type": "code",
   "execution_count": 149,
   "metadata": {},
   "outputs": [],
   "source": [
    "#Try to replicate dual control\n",
    "A[0][0] = [0, 1]\n",
    "A[0][1] = [1, 0]"
   ]
  },
  {
   "cell_type": "code",
   "execution_count": 159,
   "metadata": {},
   "outputs": [
    {
     "data": {
      "text/plain": [
       "array([-0.53287909,  1.09090909])"
      ]
     },
     "execution_count": 159,
     "metadata": {},
     "output_type": "execute_result"
    }
   ],
   "source": [
    "ydot = []\n",
    "for i in range(X): #Kinetic equations\n",
    "    ydot.append(I[i] - lam*y[i] + np.sum(S[i]*nonlinearity(y[X:], kc, km)))\n",
    "# for e in range(E): #Genetic equations\n",
    "#     ydot.append(-lam*y[i+X] + np.sum([np.sum(A[t][e]*[activation(y[T[t]], W[t][e][2], W[t][e][1], W[t][e][0]), repression(y[T[t]], W[t][e][2], W[t][e][1], W[t][e][0])]) for t in range(len(T))]))\n",
    "# ydot.append((I[0] - y[X]*nonlinearity(y[X-1], kc, km))**2) #J1\n",
    "# ydot.append(np.sum([np.sum([np.sum(A[t][e]*[activation(y[T[t]], W[t][e][2], W[t][e][1], W[t][e][0]), repression(y[T[t]], W[t][e][2], W[t][e][1], W[t][e][0])]) for t in range(len(T))]) for e in range(E)]))#J2\n",
    "ydot = np.array(ydot)\n",
    "ydot"
   ]
  },
  {
   "cell_type": "code",
   "execution_count": 151,
   "metadata": {},
   "outputs": [
    {
     "data": {
      "text/plain": [
       "array([ 6.65217391e-05,  1.19478261e+01, -9.30000000e-05,  0.00000000e+00,\n",
       "        1.00000000e+00,  1.00000000e-04])"
      ]
     },
     "execution_count": 151,
     "metadata": {},
     "output_type": "execute_result"
    }
   ],
   "source": [
    "def dual_control_sundials(t, y, ydot):\n",
    "        kc=12.; km=10.; lam=1.93E-4; Vin=1.; e0=0.0467\n",
    "        ydot[0] = Vin - lam*y[0] - e0*nonlinearity(y[0], kc, km) - lam*y[1]\n",
    "        ydot[1] = y[2]*nonlinearity(y[0], kc, km) - y[3]*nonlinearity(y[1], kc, km) - lam*y[1]\n",
    "        ydot[2] = repression(y[1], k1, theta1, n1) - lam*y[2]\n",
    "        ydot[3] = activation(y[1], k2, theta2, n2) - lam*y[3]\n",
    "        ydot[4] = (Vin -  y[3]*nonlinearity(y[1], kc, km))**2\n",
    "        ydot[5] = repression(y[1], k1, theta1, n1) + activation(y[1], k2, theta2, n2)\n",
    "\n",
    "n1, n2, theta1, theta2, k1, k2 = [2.,2., 0.1, 0.1, 1E-4, 1E-4]\n",
    "ydot_dc = np.zeros(6)\n",
    "dual_control_sundials(t, y, ydot_dc)\n",
    "ydot_dc"
   ]
  },
  {
   "cell_type": "code",
   "execution_count": null,
   "metadata": {},
   "outputs": [],
   "source": []
  }
 ],
 "metadata": {
  "interpreter": {
   "hash": "1c81a53a0ff6cd481fa9e4276883fc41728c044ede2b17046477fd0d4a209b4b"
  },
  "kernelspec": {
   "display_name": "Python 3.9.7 ('sundials')",
   "name": "python3"
  },
  "language_info": {
   "codemirror_mode": {
    "name": "ipython",
    "version": 3
   },
   "file_extension": ".py",
   "mimetype": "text/x-python",
   "name": "python",
   "nbconvert_exporter": "python",
   "pygments_lexer": "ipython3",
   "version": "3.9.7"
  },
  "orig_nbformat": 4
 },
 "nbformat": 4,
 "nbformat_minor": 2
}
