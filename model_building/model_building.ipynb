{
 "cells": [
  {
   "cell_type": "code",
   "execution_count": 1,
   "metadata": {},
   "outputs": [],
   "source": [
    "import numpy as np\n",
    "from scikits.odes.ode import ode"
   ]
  },
  {
   "cell_type": "code",
   "execution_count": 2,
   "metadata": {},
   "outputs": [],
   "source": [
    "#Import local functions\n",
    "sys.path.append('../functions')\n",
    "from functions import nonlinearity, repression, activation"
   ]
  },
  {
   "cell_type": "code",
   "execution_count": 15,
   "metadata": {},
   "outputs": [],
   "source": [
    "#Default information - user can change but mostly won't\n",
    "#Constants (set to default)\n",
    "kc=12.; km=10.; lam=1.93E-4; Vin=1.; e0=0.0467\n",
    "\n",
    "#Integration conditions\n",
    "y = np.array([2290.,0.,0.,0., 0., 0.])\n",
    "t = np.linspace(0, 5e4, 100) "
   ]
  },
  {
   "cell_type": "code",
   "execution_count": 4,
   "metadata": {},
   "outputs": [],
   "source": [
    "#User specified information\n",
    "X = 2 #Number of chemical species in pathway\n",
    "E = 2 #Number of enzymes in pathway\n",
    "\n",
    "#S = np.zeros([X, E])\n",
    "S = np.array([[ -1, 0], [1, -1]]) #Stoichiometric matrix defining chemical reactions\n",
    "\n",
    "I = np.zeros(X) #Input matrix defining inputs to pathway\n",
    "I[0] = Vin #Inputs to pathway\n",
    "\n",
    "T = [1] #Xs that can act as TFs"
   ]
  },
  {
   "cell_type": "code",
   "execution_count": 5,
   "metadata": {},
   "outputs": [],
   "source": [
    "#Genetic parameter values for circuit\n",
    "W = np.zeros([len(T), E, 3]) #K, theta, n are 3 dimensions\n",
    "\n",
    "#Manually set initial conditions\n",
    "for t in range(len(T)):\n",
    "    for e in range(E):\n",
    "        W[t][e] = [2., 0.1,1E-4]"
   ]
  },
  {
   "cell_type": "code",
   "execution_count": 6,
   "metadata": {},
   "outputs": [],
   "source": [
    "#Architecture matrix\n",
    "A = np.zeros([len(T), E, 3]) #3 methods of action at each locus for each TF"
   ]
  },
  {
   "cell_type": "code",
   "execution_count": 7,
   "metadata": {},
   "outputs": [],
   "source": [
    "#Old code to generate kinetic equations\n",
    "# for i in range(X): #Kinetic equations\n",
    "#     ydot.append(I[i] - lam*y[i] + np.sum(S[i]*y[X:]*nonlinearity(y[i], kc, km)))\n",
    "# ydot[0] = ydot[0] - e0*nonlinearity(y[0], kc, km) #Manually add constitutive metabolism"
   ]
  },
  {
   "cell_type": "code",
   "execution_count": 16,
   "metadata": {},
   "outputs": [],
   "source": [
    "def generated_equation(t, y, ydot):\n",
    "    '''Generate genetic equations from architecture matrix'''\n",
    "    ydot[0] = Vin - lam*y[0] - e0*nonlinearity(y[0], kc, km) - y[2]*nonlinearity(y[0], kc, km)\n",
    "    ydot[1] = y[2]*nonlinearity(y[0], kc, km) - y[3]*nonlinearity(y[1], kc, km) - lam*y[1]\n",
    "    for e in range(E):\n",
    "        ydot[e+X] = -lam*y[e+X] + np.sum([np.sum(A[t][e]*[activation(y[T[t]], W[t][e][2], W[t][e][1], W[t][e][0]), repression(y[T[t]], W[t][e][2], W[t][e][1], W[t][e][0]), W[t][e][2]]) for t in range(len(T))])\n",
    "    ydot[E+X] = (I[0] - y[X]*nonlinearity(y[X-1], kc, km))**2 #J1\n",
    "    ydot[E+X+1] = np.sum([np.sum([np.sum(A[t][e]*[activation(y[T[t]], W[t][e][2], W[t][e][1], W[t][e][0]), repression(y[T[t]], W[t][e][2], W[t][e][1], W[t][e][0]), 0]) for t in range(len(T))]) for e in range(E)]) #J2"
   ]
  },
  {
   "cell_type": "code",
   "execution_count": 17,
   "metadata": {},
   "outputs": [
    {
     "data": {
      "text/plain": [
       "array([0., 0., 0., 0., 0., 0.])"
      ]
     },
     "execution_count": 17,
     "metadata": {},
     "output_type": "execute_result"
    }
   ],
   "source": [
    "#Verify results with upstream repression\n",
    "def upstream_repression_sundials(t, y, ydot):\n",
    "        ydot[0] = Vin - lam*y[0] - e0*nonlinearity(y[0], kc, km) - y[2]*nonlinearity(y[0], kc, km)\n",
    "        ydot[1] = y[2]*nonlinearity(y[0], kc, km) - y[3]*nonlinearity(y[1], kc, km) - lam*y[1]\n",
    "        ydot[2] = repression(y[1], k1, theta1, n1) - lam*y[2]\n",
    "        ydot[3] = k2 - lam*y[3]\n",
    "        ydot[4] = (Vin -  y[3]*nonlinearity(y[1], kc, km))**2\n",
    "        ydot[5] = repression(y[1], k1, theta1, n1) \n",
    "\n",
    "n1, n2, theta1, theta2, k1, k2 = [2.,2., 0.1, 0.1, 1E-4, 1E-4]\n",
    "ydot_dc = np.zeros(6)\n",
    "upstream_repression_sundials(t, y, ydot_dc)\n",
    "\n",
    "A = np.zeros([len(T), E, 3]) #3 methods of action at each locus for each TF\n",
    "A[0][0] = [0, 1, 0]\n",
    "A[0][1] = [0, 0, 1]\n",
    "\n",
    "ydot = np.zeros(6)\n",
    "generated_equation(t, y, ydot)\n",
    "\n",
    "ydot-ydot_dc"
   ]
  },
  {
   "cell_type": "code",
   "execution_count": 18,
   "metadata": {},
   "outputs": [
    {
     "data": {
      "text/plain": [
       "array([0., 0., 0., 0., 0., 0.])"
      ]
     },
     "execution_count": 18,
     "metadata": {},
     "output_type": "execute_result"
    }
   ],
   "source": [
    "#Verify results with downstream activation\n",
    "def downstream_activation_sundials(t, y, ydot):\n",
    "        ydot[0] = Vin - lam*y[0] - e0*nonlinearity(y[0], kc, km) - y[2]*nonlinearity(y[0], kc, km)\n",
    "        ydot[1] = y[2]*nonlinearity(y[0], kc, km) - y[3]*nonlinearity(y[1], kc, km) - lam*y[1]\n",
    "        ydot[2] = k1 - lam*y[2]\n",
    "        ydot[3] = activation(y[1], k2, theta2, n2) - lam*y[3]\n",
    "        ydot[4] = (Vin -  y[3]*nonlinearity(y[1], kc, km))**2\n",
    "        ydot[5] = activation(y[1], k2, theta2, n2)\n",
    "\n",
    "n1, n2, theta1, theta2, k1, k2 = [2.,2., 0.1, 0.1, 1E-4, 1E-4]\n",
    "ydot_dc = np.zeros(6)\n",
    "upstream_repression_sundials(t, y, ydot_dc)\n",
    "\n",
    "\n",
    "\n",
    "ydot = np.zeros(6)\n",
    "generated_equation(t, y, ydot)\n",
    "\n",
    "ydot-ydot_dc"
   ]
  },
  {
   "cell_type": "code",
   "execution_count": 19,
   "metadata": {},
   "outputs": [
    {
     "data": {
      "text/plain": [
       "array([0., 0., 0., 0., 0., 0.])"
      ]
     },
     "execution_count": 19,
     "metadata": {},
     "output_type": "execute_result"
    }
   ],
   "source": [
    "#Verify results with dual control\n",
    "def dual_control_sundials(t, y, ydot):\n",
    "        ydot[0] = Vin - lam*y[0] - e0*nonlinearity(y[0], kc, km) - y[2]*nonlinearity(y[0], kc, km)\n",
    "        ydot[1] = y[2]*nonlinearity(y[0], kc, km) - y[3]*nonlinearity(y[1], kc, km) - lam*y[1]\n",
    "        ydot[2] = repression(y[1], k1, theta1, n1) - lam*y[2]\n",
    "        ydot[3] = activation(y[1], k2, theta2, n2) - lam*y[3]\n",
    "        ydot[4] = (Vin -  y[3]*nonlinearity(y[1], kc, km))**2\n",
    "        ydot[5] = repression(y[1], k1, theta1, n1) + activation(y[1], k2, theta2, n2)\n",
    "\n",
    "n1, n2, theta1, theta2, k1, k2 = [2.,2., 0.1, 0.1, 1E-4, 1E-4]\n",
    "ydot_dc = np.zeros(6)\n",
    "dual_control_sundials(t, y, ydot_dc)\n",
    "\n",
    "\n",
    "A = np.zeros([len(T), E, 3]) #3 methods of action at each locus for each TF\n",
    "A[0][0] = [0, 1, 0]\n",
    "A[0][1] = [1, 0, 0]\n",
    "\n",
    "ydot = np.zeros(6)\n",
    "generated_equation(t, y, ydot)\n",
    "\n",
    "ydot-ydot_dc"
   ]
  },
  {
   "cell_type": "code",
   "execution_count": 12,
   "metadata": {},
   "outputs": [],
   "source": [
    "#Default information - user can change but mostly won't\n",
    "#Constants (set to default)\n",
    "kc=12.; km=10.; lam=1.93E-4; Vin=1.; e0=0.0467\n",
    "\n",
    "#Integration conditions\n",
    "y = np.array([2290.,0.,1.,0.])\n",
    "t = np.linspace(0, 5e4, 100) "
   ]
  },
  {
   "cell_type": "code",
   "execution_count": null,
   "metadata": {},
   "outputs": [],
   "source": []
  }
 ],
 "metadata": {
  "interpreter": {
   "hash": "1c81a53a0ff6cd481fa9e4276883fc41728c044ede2b17046477fd0d4a209b4b"
  },
  "kernelspec": {
   "display_name": "Python 3.9.7 ('sundials')",
   "name": "python3"
  },
  "language_info": {
   "codemirror_mode": {
    "name": "ipython",
    "version": 3
   },
   "file_extension": ".py",
   "mimetype": "text/x-python",
   "name": "python",
   "nbconvert_exporter": "python",
   "pygments_lexer": "ipython3",
   "version": "3.9.7"
  },
  "orig_nbformat": 4
 },
 "nbformat": 4,
 "nbformat_minor": 2
}
