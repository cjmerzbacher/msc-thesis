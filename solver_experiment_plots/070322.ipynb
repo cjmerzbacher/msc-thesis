{
 "cells": [
  {
   "cell_type": "code",
   "execution_count": 2,
   "metadata": {},
   "outputs": [],
   "source": [
    "#Import required packages\n",
    "import matplotlib.pyplot as plt\n",
    "import numpy as np\n",
    "import torch \n",
    "import torch.nn as nn\n",
    "import torch.optim as optim\n",
    "\n",
    "from torch.autograd import grad\n",
    "from torchdiffeq import odeint_adjoint\n",
    "from torchdiffeq import odeint\n",
    "import pandas as pd"
   ]
  },
  {
   "cell_type": "code",
   "execution_count": 33,
   "metadata": {},
   "outputs": [],
   "source": [
    "def activation(x, k, theta, n):\n",
    "    return (k*(x/theta)**n)/(1+(x/theta)**n)\n",
    "\n",
    "def repression(x, k, theta, n):\n",
    "    return k/(1+(x/theta)**n)\n",
    "\n",
    "def nonlinearity(x, kc, km):\n",
    "    return (kc*x)/(km+x)\n",
    "\n",
    "#Custom loss function\n",
    "def loss_fun(pred, alpha=1E7):\n",
    "    \"\"\"Computes scalarized loss including genetic constraint and product production\"\"\"\n",
    "    j1 = pred[-1][-2]\n",
    "    j2 = pred[-1][-1]\n",
    "    loss = j1 + alpha*j2\n",
    "    return loss\n",
    "\n",
    "class DualControl(torch.nn.Module):\n",
    "    def __init__(self):\n",
    "        super(DualControl, self).__init__()\n",
    "        #Initialize constants, taken from Verma et al paper.\n",
    "        self.Vin = 1. #nM/s\n",
    "        self.e0 = 0.0467\n",
    "        #self.lam = 1.93E-4 #1/s\n",
    "        self.lam = 0.5\n",
    "        #Assume equal kinetics for all three enzymes\n",
    "        self.kc = 12\n",
    "        self.km = 10 #1/s\n",
    "\n",
    "        self.W = torch.nn.Parameter(torch.tensor([[2,2],[1,1], [1E-7, 1E-7]]), requires_grad=True)\n",
    "        \n",
    "\n",
    "    def forward(self, t, y):\n",
    "        '''Computes derivatives of system of differential equations'''\n",
    "        dx0 = self.Vin - self.lam*y[0] - self.e0*nonlinearity(y[0], self.kc, self.km) - self.lam*y[1]\n",
    "        dx1 = y[2]*nonlinearity(y[0], self.kc, self.km) - y[3]*nonlinearity(y[1], self.kc, self.km) - self.lam*y[1]\n",
    "        de1 = repression(y[1], self.W[2][0], self.W[1][0], self.W[0][0]) - self.lam*y[2]\n",
    "        de2 = activation(y[1], self.W[2][1], self.W[1][1], self.W[0][1]) - self.lam*y[3]\n",
    "        j1 = (self.Vin -  y[3]*nonlinearity(y[1], self.kc, self.km))**2\n",
    "        j2 = repression(y[1], self.W[2][0], self.W[1][0], self.W[0][0]) + activation(y[1], self.W[2][1], self.W[1][1], self.W[0][1])\n",
    "        return torch.stack([dx0, dx1, de1, de2, j1, j2])\n",
    "\n",
    "class ODEFun(torch.nn.Module):\n",
    "    def __init__(self):\n",
    "        super(ODEFun, self).__init__()\n",
    "        self.W = torch.nn.Parameter(torch.tensor([0.0, 0.0]), requires_grad=True)\n",
    "        \n",
    "    def forward(self, t, y):\n",
    "        S, I = y\n",
    "        ds = -self.W[0]*S*I\n",
    "        di = self.W[1]*S*I - I\n",
    "        return torch.stack([ds, di])\n",
    "\n",
    "func = DualControl()\n",
    "learning_rate = 0.01\n",
    "num_iters = 100\n",
    "optimizer = optim.Adam(func.parameters(), amsgrad=False, lr=learning_rate)\n",
    "adjoint = False\n",
    "alpha = 1E7\n",
    "solver = 'dopri8'\n",
    "\n",
    "np.random.seed(2021)\n",
    "# torch.manual_seed(2021)\n",
    "plt.close('all')\n",
    "\n",
    "#Establish initial conditions\n",
    "t = torch.linspace(0, 50000, 100) \n",
    "y0 = torch.tensor([2290., 0., 0., 0., 0., 0.]) \n"
   ]
  },
  {
   "cell_type": "code",
   "execution_count": 37,
   "metadata": {},
   "outputs": [
    {
     "ename": "AssertionError",
     "evalue": "underflow in dt nan",
     "output_type": "error",
     "traceback": [
      "\u001b[0;31m---------------------------------------------------------------------------\u001b[0m",
      "\u001b[0;31mAssertionError\u001b[0m                            Traceback (most recent call last)",
      "Input \u001b[0;32mIn [37]\u001b[0m, in \u001b[0;36m<cell line: 1>\u001b[0;34m()\u001b[0m\n\u001b[0;32m----> 1\u001b[0m pred \u001b[38;5;241m=\u001b[39m \u001b[43modeint\u001b[49m\u001b[43m(\u001b[49m\u001b[43mfunc\u001b[49m\u001b[43m,\u001b[49m\u001b[43m \u001b[49m\u001b[43my0\u001b[49m\u001b[43m,\u001b[49m\u001b[43m \u001b[49m\u001b[43mt\u001b[49m\u001b[43m,\u001b[49m\u001b[43m \u001b[49m\u001b[43mmethod\u001b[49m\u001b[38;5;241;43m=\u001b[39;49m\u001b[43msolver\u001b[49m\u001b[43m)\u001b[49m\n",
      "File \u001b[0;32m~/opt/anaconda3/envs/thesis/lib/python3.9/site-packages/torchdiffeq/_impl/odeint.py:77\u001b[0m, in \u001b[0;36modeint\u001b[0;34m(func, y0, t, rtol, atol, method, options, event_fn)\u001b[0m\n\u001b[1;32m     74\u001b[0m solver \u001b[38;5;241m=\u001b[39m SOLVERS[method](func\u001b[38;5;241m=\u001b[39mfunc, y0\u001b[38;5;241m=\u001b[39my0, rtol\u001b[38;5;241m=\u001b[39mrtol, atol\u001b[38;5;241m=\u001b[39matol, \u001b[38;5;241m*\u001b[39m\u001b[38;5;241m*\u001b[39moptions)\n\u001b[1;32m     76\u001b[0m \u001b[38;5;28;01mif\u001b[39;00m event_fn \u001b[38;5;129;01mis\u001b[39;00m \u001b[38;5;28;01mNone\u001b[39;00m:\n\u001b[0;32m---> 77\u001b[0m     solution \u001b[38;5;241m=\u001b[39m \u001b[43msolver\u001b[49m\u001b[38;5;241;43m.\u001b[39;49m\u001b[43mintegrate\u001b[49m\u001b[43m(\u001b[49m\u001b[43mt\u001b[49m\u001b[43m)\u001b[49m\n\u001b[1;32m     78\u001b[0m \u001b[38;5;28;01melse\u001b[39;00m:\n\u001b[1;32m     79\u001b[0m     event_t, solution \u001b[38;5;241m=\u001b[39m solver\u001b[38;5;241m.\u001b[39mintegrate_until_event(t[\u001b[38;5;241m0\u001b[39m], event_fn)\n",
      "File \u001b[0;32m~/opt/anaconda3/envs/thesis/lib/python3.9/site-packages/torchdiffeq/_impl/solvers.py:30\u001b[0m, in \u001b[0;36mAdaptiveStepsizeODESolver.integrate\u001b[0;34m(self, t)\u001b[0m\n\u001b[1;32m     28\u001b[0m \u001b[38;5;28mself\u001b[39m\u001b[38;5;241m.\u001b[39m_before_integrate(t)\n\u001b[1;32m     29\u001b[0m \u001b[38;5;28;01mfor\u001b[39;00m i \u001b[38;5;129;01min\u001b[39;00m \u001b[38;5;28mrange\u001b[39m(\u001b[38;5;241m1\u001b[39m, \u001b[38;5;28mlen\u001b[39m(t)):\n\u001b[0;32m---> 30\u001b[0m     solution[i] \u001b[38;5;241m=\u001b[39m \u001b[38;5;28;43mself\u001b[39;49m\u001b[38;5;241;43m.\u001b[39;49m\u001b[43m_advance\u001b[49m\u001b[43m(\u001b[49m\u001b[43mt\u001b[49m\u001b[43m[\u001b[49m\u001b[43mi\u001b[49m\u001b[43m]\u001b[49m\u001b[43m)\u001b[49m\n\u001b[1;32m     31\u001b[0m \u001b[38;5;28;01mreturn\u001b[39;00m solution\n",
      "File \u001b[0;32m~/opt/anaconda3/envs/thesis/lib/python3.9/site-packages/torchdiffeq/_impl/rk_common.py:194\u001b[0m, in \u001b[0;36mRKAdaptiveStepsizeODESolver._advance\u001b[0;34m(self, next_t)\u001b[0m\n\u001b[1;32m    192\u001b[0m \u001b[38;5;28;01mwhile\u001b[39;00m next_t \u001b[38;5;241m>\u001b[39m \u001b[38;5;28mself\u001b[39m\u001b[38;5;241m.\u001b[39mrk_state\u001b[38;5;241m.\u001b[39mt1:\n\u001b[1;32m    193\u001b[0m     \u001b[38;5;28;01massert\u001b[39;00m n_steps \u001b[38;5;241m<\u001b[39m \u001b[38;5;28mself\u001b[39m\u001b[38;5;241m.\u001b[39mmax_num_steps, \u001b[38;5;124m'\u001b[39m\u001b[38;5;124mmax_num_steps exceeded (\u001b[39m\u001b[38;5;132;01m{}\u001b[39;00m\u001b[38;5;124m>=\u001b[39m\u001b[38;5;132;01m{}\u001b[39;00m\u001b[38;5;124m)\u001b[39m\u001b[38;5;124m'\u001b[39m\u001b[38;5;241m.\u001b[39mformat(n_steps, \u001b[38;5;28mself\u001b[39m\u001b[38;5;241m.\u001b[39mmax_num_steps)\n\u001b[0;32m--> 194\u001b[0m     \u001b[38;5;28mself\u001b[39m\u001b[38;5;241m.\u001b[39mrk_state \u001b[38;5;241m=\u001b[39m \u001b[38;5;28;43mself\u001b[39;49m\u001b[38;5;241;43m.\u001b[39;49m\u001b[43m_adaptive_step\u001b[49m\u001b[43m(\u001b[49m\u001b[38;5;28;43mself\u001b[39;49m\u001b[38;5;241;43m.\u001b[39;49m\u001b[43mrk_state\u001b[49m\u001b[43m)\u001b[49m\n\u001b[1;32m    195\u001b[0m     n_steps \u001b[38;5;241m+\u001b[39m\u001b[38;5;241m=\u001b[39m \u001b[38;5;241m1\u001b[39m\n\u001b[1;32m    196\u001b[0m \u001b[38;5;28;01mreturn\u001b[39;00m _interp_evaluate(\u001b[38;5;28mself\u001b[39m\u001b[38;5;241m.\u001b[39mrk_state\u001b[38;5;241m.\u001b[39minterp_coeff, \u001b[38;5;28mself\u001b[39m\u001b[38;5;241m.\u001b[39mrk_state\u001b[38;5;241m.\u001b[39mt0, \u001b[38;5;28mself\u001b[39m\u001b[38;5;241m.\u001b[39mrk_state\u001b[38;5;241m.\u001b[39mt1, next_t)\n",
      "File \u001b[0;32m~/opt/anaconda3/envs/thesis/lib/python3.9/site-packages/torchdiffeq/_impl/rk_common.py:228\u001b[0m, in \u001b[0;36mRKAdaptiveStepsizeODESolver._adaptive_step\u001b[0;34m(self, rk_state)\u001b[0m\n\u001b[1;32m    215\u001b[0m t1 \u001b[38;5;241m=\u001b[39m t0 \u001b[38;5;241m+\u001b[39m dt\n\u001b[1;32m    216\u001b[0m \u001b[38;5;66;03m# dtypes: self.y0.dtype (probably float32); self.dtype (probably float64)\u001b[39;00m\n\u001b[1;32m    217\u001b[0m \u001b[38;5;66;03m# used for state and timelike objects respectively.\u001b[39;00m\n\u001b[1;32m    218\u001b[0m \u001b[38;5;66;03m# Then:\u001b[39;00m\n\u001b[0;32m   (...)\u001b[0m\n\u001b[1;32m    226\u001b[0m \u001b[38;5;66;03m#                      Assertions                      #\u001b[39;00m\n\u001b[1;32m    227\u001b[0m \u001b[38;5;66;03m########################################################\u001b[39;00m\n\u001b[0;32m--> 228\u001b[0m \u001b[38;5;28;01massert\u001b[39;00m t0 \u001b[38;5;241m+\u001b[39m dt \u001b[38;5;241m>\u001b[39m t0, \u001b[38;5;124m'\u001b[39m\u001b[38;5;124munderflow in dt \u001b[39m\u001b[38;5;132;01m{}\u001b[39;00m\u001b[38;5;124m'\u001b[39m\u001b[38;5;241m.\u001b[39mformat(dt\u001b[38;5;241m.\u001b[39mitem())\n\u001b[1;32m    229\u001b[0m \u001b[38;5;28;01massert\u001b[39;00m torch\u001b[38;5;241m.\u001b[39misfinite(y0)\u001b[38;5;241m.\u001b[39mall(), \u001b[38;5;124m'\u001b[39m\u001b[38;5;124mnon-finite values in state `y`: \u001b[39m\u001b[38;5;132;01m{}\u001b[39;00m\u001b[38;5;124m'\u001b[39m\u001b[38;5;241m.\u001b[39mformat(y0)\n\u001b[1;32m    231\u001b[0m \u001b[38;5;66;03m########################################################\u001b[39;00m\n\u001b[1;32m    232\u001b[0m \u001b[38;5;66;03m#     Make step, respecting prescribed grid points     #\u001b[39;00m\n\u001b[1;32m    233\u001b[0m \u001b[38;5;66;03m########################################################\u001b[39;00m\n",
      "\u001b[0;31mAssertionError\u001b[0m: underflow in dt nan"
     ]
    }
   ],
   "source": [
    "pred = odeint(func, y0, t, method=solver)"
   ]
  },
  {
   "cell_type": "code",
   "execution_count": 11,
   "metadata": {},
   "outputs": [],
   "source": [
    "pred = odeint_adjoint(func, y0, t, method=solver)"
   ]
  },
  {
   "cell_type": "code",
   "execution_count": 35,
   "metadata": {},
   "outputs": [
    {
     "data": {
      "text/plain": [
       "Text(0, 0.5, 'Concentrations')"
      ]
     },
     "execution_count": 35,
     "metadata": {},
     "output_type": "execute_result"
    },
    {
     "data": {
      "image/png": "[encoded data removed]",
      "text/plain": [
       "<Figure size 432x288 with 1 Axes>"
      ]
     },
     "metadata": {
      "needs_background": "light"
     },
     "output_type": "display_data"
    }
   ],
   "source": [
    "sol1 = pred.detach().numpy()\n",
    "#plt.plot(t, sol1[:, 0], label='X0')\n",
    "plt.plot(t, sol1[:, 1], label='X1')\n",
    "plt.plot(t, sol1[:, 2], label='E1')\n",
    "plt.plot(t, sol1[:, 3], label='E2')\n",
    "plt.legend()\n",
    "plt.xlabel('Time')\n",
    "plt.ylabel('Concentrations')"
   ]
  },
  {
   "cell_type": "code",
   "execution_count": 36,
   "metadata": {},
   "outputs": [
    {
     "name": "stdout",
     "output_type": "stream",
     "text": [
      "None\n",
      "tensor([[ 3.8965e-07, -3.8965e-07],\n",
      "        [ 5.5231e-08, -5.5231e-08],\n",
      "        [ 4.9991e+11,  2.7609e-01]])\n"
     ]
    }
   ],
   "source": [
    "loss = loss_fun(pred, alpha = alpha)\n",
    "print(func.W.grad)\n",
    "loss.backward()\n",
    "print(func.W.grad)\n",
    "optimizer.step()"
   ]
  },
  {
   "cell_type": "code",
   "execution_count": null,
   "metadata": {},
   "outputs": [],
   "source": []
  }
 ],
 "metadata": {
  "interpreter": {
   "hash": "8fee36ad9d78978217c6d83218886f2e57823a4ec68da675ae41cb4d953e9a6e"
  },
  "kernelspec": {
   "display_name": "Python 3.9.7 ('thesis')",
   "name": "python3"
  },
  "language_info": {
   "codemirror_mode": {
    "name": "ipython",
    "version": 3
   },
   "file_extension": ".py",
   "mimetype": "text/x-python",
   "name": "python",
   "nbconvert_exporter": "python",
   "pygments_lexer": "ipython3",
   "version": "3.9.7"
  },
  "orig_nbformat": 4
 },
 "nbformat": 4,
 "nbformat_minor": 2
}
