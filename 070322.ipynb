{
 "cells": [
  {
   "cell_type": "code",
   "execution_count": 23,
   "metadata": {},
   "outputs": [],
   "source": [
    "#Import required packages\n",
    "import matplotlib.pyplot as plt\n",
    "import numpy as np\n",
    "import torch \n",
    "import torch.nn as nn\n",
    "import torch.optim as optim\n",
    "\n",
    "from torch.autograd import grad\n",
    "from torchdiffeq import odeint_adjoint\n",
    "from torchdiffeq import odeint\n",
    "import pandas as pd"
   ]
  },
  {
   "cell_type": "code",
   "execution_count": 103,
   "metadata": {},
   "outputs": [],
   "source": [
    "def activation(x, k, theta, n):\n",
    "    return (k*(x/theta)**n)/(1+(x/theta)**n)\n",
    "\n",
    "def repression(x, k, theta, n):\n",
    "    return k/(1+(x/theta)**n)\n",
    "\n",
    "def nonlinearity(x, kc, km):\n",
    "    return (kc*x)/(km+x)\n",
    "\n",
    "#Custom loss function\n",
    "def loss_fun(pred, alpha=1E7):\n",
    "    \"\"\"Computes scalarized loss including genetic constraint and product production\"\"\"\n",
    "    j1 = pred[-1][-2]\n",
    "    j2 = pred[-1][-1]\n",
    "    loss = j1 + alpha*j2\n",
    "    return loss\n",
    "\n",
    "class DualControl(torch.nn.Module):\n",
    "    def __init__(self):\n",
    "        super(DualControl, self).__init__()\n",
    "        #Initialize constants, taken from Verma et al paper.\n",
    "        self.Vin = 1.\n",
    "        self.e0 = 0.0467\n",
    "        self.lam = 1.93E-4 #1/s\n",
    "        #Assume equal kinetics for all three enzymes\n",
    "        self.kc = 12\n",
    "        self.km = 10 #1/s\n",
    "\n",
    "        self.W = torch.nn.Parameter(torch.tensor([[2,2],[1,1], [1E-5, 1E-5]]), requires_grad=True)\n",
    "        \n",
    "\n",
    "    def forward(self, t, y):\n",
    "        '''Computes derivatives of system of differential equations'''\n",
    "        dx0 = self.Vin - self.lam*y[0] - self.e0*nonlinearity(y[0], self.kc, self.km) - self.lam*y[1]\n",
    "        dx1 = y[2]*nonlinearity(y[0], self.kc, self.km) - y[3]*nonlinearity(y[1], self.kc, self.km) - self.lam*y[1]\n",
    "        de1 = repression(y[1], self.W[2][0], self.W[1][0], self.W[0][0]) - self.lam*y[2]\n",
    "        de2 = activation(y[1], self.W[2][1], self.W[1][1], self.W[0][1]) - self.lam*y[3]\n",
    "        j1 = (self.Vin -  y[3]*nonlinearity(y[1], self.kc, self.km))**2\n",
    "        j2 = repression(y[1], self.W[2][0], self.W[1][0], self.W[0][0]) + activation(y[1], self.W[2][1], self.W[1][1], self.W[0][1])\n",
    "        return torch.stack([dx0, dx1, de1, de2, j1, j2])\n",
    "\n",
    "class ODEFun(torch.nn.Module):\n",
    "    def __init__(self):\n",
    "        super(ODEFun, self).__init__()\n",
    "        self.W = torch.nn.Parameter(torch.tensor([0.0, 0.0]), requires_grad=True)\n",
    "        \n",
    "    def forward(self, t, y):\n",
    "        S, I = y\n",
    "        ds = -self.W[0]*S*I\n",
    "        di = self.W[1]*S*I - I\n",
    "        return torch.stack([ds, di])\n",
    "\n",
    "func = DualControl()\n",
    "learning_rate = 0.01\n",
    "num_iters = 100\n",
    "optimizer = optim.Adam(func.parameters(), amsgrad=False, lr=learning_rate)\n",
    "adjoint = False\n",
    "alpha = 1E7\n",
    "solver = 'dopri8'\n",
    "\n",
    "np.random.seed(2021)\n",
    "# torch.manual_seed(2021)\n",
    "plt.close('all')\n",
    "\n",
    "#Establish initial conditions\n",
    "t = torch.linspace(0, 5E4, 100) \n",
    "y0 = torch.tensor([2290., 0., 0., 0., 0., 0.]) \n"
   ]
  },
  {
   "cell_type": "code",
   "execution_count": 100,
   "metadata": {},
   "outputs": [],
   "source": [
    "pred = odeint(func, y0, t, method=solver)"
   ]
  },
  {
   "cell_type": "code",
   "execution_count": 104,
   "metadata": {},
   "outputs": [],
   "source": [
    "pred = odeint_adjoint(func, y0, t, method=solver)"
   ]
  },
  {
   "cell_type": "code",
   "execution_count": 85,
   "metadata": {},
   "outputs": [
    {
     "data": {
      "text/plain": [
       "Text(0, 0.5, 'Concentrations')"
      ]
     },
     "execution_count": 85,
     "metadata": {},
     "output_type": "execute_result"
    },
    {
     "data": {
      "image/png": "[encoded data removed]",
      "text/plain": [
       "<Figure size 432x288 with 1 Axes>"
      ]
     },
     "metadata": {
      "needs_background": "light"
     },
     "output_type": "display_data"
    }
   ],
   "source": [
    "sol1 = pred.detach().numpy()\n",
    "#plt.plot(t, sol1[:, 0], label='X0')\n",
    "plt.plot(t, sol1[:, 1], label='X1')\n",
    "plt.plot(t, sol1[:, 2], label='E1')\n",
    "plt.plot(t, sol1[:, 3], label='E2')\n",
    "plt.legend()\n",
    "plt.xlabel('Time')\n",
    "plt.ylabel('Concentrations')"
   ]
  },
  {
   "cell_type": "code",
   "execution_count": 86,
   "metadata": {},
   "outputs": [
    {
     "name": "stdout",
     "output_type": "stream",
     "text": [
      "None\n",
      "tensor([[-3.1112e+04,  3.1224e+04],\n",
      "        [ 4.0815e+05, -4.0962e+05],\n",
      "        [ 2.2439e+10,  4.7732e+11]])\n"
     ]
    }
   ],
   "source": [
    "loss = loss_fun(pred, alpha = alpha)\n",
    "print(func.W.grad)\n",
    "loss.backward()\n",
    "print(func.W.grad)\n",
    "optimizer.step()"
   ]
  },
  {
   "cell_type": "code",
   "execution_count": null,
   "metadata": {},
   "outputs": [],
   "source": []
  }
 ],
 "metadata": {
  "interpreter": {
   "hash": "8fee36ad9d78978217c6d83218886f2e57823a4ec68da675ae41cb4d953e9a6e"
  },
  "kernelspec": {
   "display_name": "Python 3.9.7 ('thesis')",
   "name": "python3"
  },
  "language_info": {
   "codemirror_mode": {
    "name": "ipython",
    "version": 3
   },
   "file_extension": ".py",
   "mimetype": "text/x-python",
   "name": "python",
   "nbconvert_exporter": "python",
   "pygments_lexer": "ipython3",
   "version": "3.9.7"
  },
  "orig_nbformat": 4
 },
 "nbformat": 4,
 "nbformat_minor": 2
}
