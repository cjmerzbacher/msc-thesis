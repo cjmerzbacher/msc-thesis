{
 "cells": [
  {
   "cell_type": "code",
   "execution_count": 1,
   "metadata": {},
   "outputs": [],
   "source": [
    "from scikits.odes.ode import ode\n",
    "import numpy as np"
   ]
  },
  {
   "cell_type": "code",
   "execution_count": 2,
   "metadata": {},
   "outputs": [],
   "source": [
    "def activation(x, k, theta, n):\n",
    "    return (k*(x/theta)**n)/(1+(x/theta)**n)\n",
    "\n",
    "def repression(x, k, theta, n):\n",
    "    return k/(1+(x/theta)**n)\n",
    "\n",
    "def nonlinearity(x, kc, km):\n",
    "    return (kc*x)/(km+x)"
   ]
  },
  {
   "cell_type": "code",
   "execution_count": 3,
   "metadata": {},
   "outputs": [],
   "source": [
    "def dual_control_sundials(t, y, ydot, p):\n",
    "    k1, k2, theta1, theta2 = p\n",
    "    ydot[0] = Vin - lam*y[0] - e0*nonlinearity(y[0], kc, km) - y[2]*nonlinearity(y[0], kc, km)\n",
    "    ydot[1] = y[2]*nonlinearity(y[0], kc, km) - y[3]*nonlinearity(y[1], kc, km) - lam*y[1]\n",
    "    ydot[2] = repression(y[1], k1, theta1, n1) - lam*y[2]\n",
    "    ydot[3] = activation(y[1], k2, theta2, n2) - lam*y[3]\n",
    "    ydot[4] = (Vin -  y[3]*nonlinearity(y[1], kc, km))**2\n",
    "    ydot[5] = repression(y[1], k1, theta1, n1) + activation(y[1], k2, theta2, n2)\n",
    "\n",
    "def upstream_repression_sundials(t, y, ydot, p):\n",
    "    k1, k2, theta1, theta2 = p\n",
    "    ydot[0] = Vin - lam*y[0] - e0*nonlinearity(y[0], kc, km) - y[2]*nonlinearity(y[0], kc, km)\n",
    "    ydot[1] = y[2]*nonlinearity(y[0], kc, km) - y[3]*nonlinearity(y[1], kc, km) - lam*y[1]\n",
    "    ydot[2] = repression(y[1], k1, theta1, n1) - lam*y[2]\n",
    "    ydot[3] = k2 - lam*y[3]\n",
    "    ydot[4] = (Vin -  y[3]*nonlinearity(y[1], kc, km))**2\n",
    "    ydot[5] = repression(y[1], k1, theta1, n1) + k2\n",
    "\n",
    "def downstream_activation_sundials(t, y, ydot, p):\n",
    "    k1, k2, theta1, theta2 = p\n",
    "    ydot[0] = Vin - lam*y[0] - e0*nonlinearity(y[0], kc, km) - y[2]*nonlinearity(y[0], kc, km)\n",
    "    ydot[1] = y[2]*nonlinearity(y[0], kc, km) - y[3]*nonlinearity(y[1], kc, km) - lam*y[1]\n",
    "    ydot[2] = k1 - lam*y[2]\n",
    "    ydot[3] = activation(y[1], k2, theta2, n2) - lam*y[3]\n",
    "    ydot[4] = (Vin -  y[3]*nonlinearity(y[1], kc, km))**2\n",
    "    ydot[5] = activation(y[1], k2, theta2, n2) + k1\n",
    "\n",
    "def no_control(t, y, ydot, p):\n",
    "    k1, k2, theta1, theta2 = p\n",
    "    ydot[0] = Vin - lam*y[0] - e0*nonlinearity(y[0], kc, km) - y[2]*nonlinearity(y[0], kc, km)\n",
    "    ydot[1] = y[2]*nonlinearity(y[0], kc, km) - y[3]*nonlinearity(y[1], kc, km) - lam*y[1]\n",
    "    ydot[2] = k1 - lam*y[2]\n",
    "    ydot[3] = k2 - lam*y[3]\n",
    "    ydot[4] = (Vin -  y[3]*nonlinearity(y[1], kc, km))**2\n",
    "    ydot[5] = k1 + k2\n",
    "\n",
    "def loss_biological(j1, j2, alpha1, alpha2):\n",
    "        \"\"\"Computes scalarized loss including genetic constraint and product production\"\"\"\n",
    "        loss = alpha1*j1 + alpha2*j2\n",
    "        return j1, j2, loss\n"
   ]
  },
  {
   "cell_type": "code",
   "execution_count": 4,
   "metadata": {},
   "outputs": [
    {
     "data": {
      "text/plain": [
       "0.6259619363656388"
      ]
     },
     "execution_count": 4,
     "metadata": {},
     "output_type": "execute_result"
    }
   ],
   "source": [
    "#Integration conditions\n",
    "t = np.linspace(0, 5E4, 100) \n",
    "y0 = np.array([2290., 0., 0., 0., 0., 0.])\n",
    "#Constants established globally\n",
    "n1, n2 = [2., 2.]\n",
    "kc=12.; km=10.; lam=1.93E-4; Vin=1.; e0=0.0467\n",
    "alpha1, alpha2 = [1E-5, 1E-2]\n",
    "\n",
    "def solve_point(t, y0, ode_function, param_values):\n",
    "    extra_options = {'old_api': False, 'user_data': param_values, }\n",
    "    ode_solver = ode('cvode', ode_function, **extra_options)\n",
    "    solution = ode_solver.solve(t, y0)\n",
    "    j1, j2 = solution.values.y[-1, -2:]\n",
    "    j1, j2, loss = loss_biological(j1, j2, alpha1=alpha1, alpha2=alpha2)\n",
    "    return loss\n",
    "\n",
    "\n",
    "#Initial parameter values\n",
    "param_values = np.array([0.001, 0.001, 0.01, 0.01])\n",
    "ode_function = dual_control_sundials\n",
    "solve_point(t, y0, ode_function, param_values)"
   ]
  },
  {
   "cell_type": "code",
   "execution_count": null,
   "metadata": {},
   "outputs": [],
   "source": []
  }
 ],
 "metadata": {
  "interpreter": {
   "hash": "30074d9ea8dd95ba0ea14094fcb9fdfabbbeeee4df9c4efae9576126e279ead9"
  },
  "kernelspec": {
   "display_name": "Python 3.9.7 ('sundials')",
   "language": "python",
   "name": "python3"
  },
  "language_info": {
   "codemirror_mode": {
    "name": "ipython",
    "version": 3
   },
   "file_extension": ".py",
   "mimetype": "text/x-python",
   "name": "python",
   "nbconvert_exporter": "python",
   "pygments_lexer": "ipython3",
   "version": "3.9.7"
  },
  "orig_nbformat": 4
 },
 "nbformat": 4,
 "nbformat_minor": 2
}
