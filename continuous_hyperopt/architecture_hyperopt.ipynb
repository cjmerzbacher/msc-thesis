{
 "cells": [
  {
   "cell_type": "code",
   "execution_count": 1,
   "metadata": {},
   "outputs": [],
   "source": [
    "import numpy as np\n",
    "from hyperopt import hp, fmin, tpe, space_eval\n",
    "from scikits.odes.ode import ode\n",
    "import matplotlib.pyplot as plt\n",
    "import pandas as pd\n",
    "import seaborn as sns"
   ]
  },
  {
   "cell_type": "code",
   "execution_count": 6,
   "metadata": {},
   "outputs": [],
   "source": [
    "def activation(x, k, theta, n):\n",
    "    return (k*(x/theta)**n)/(1+(x/theta)**n)\n",
    "\n",
    "def repression(x, k, theta, n):\n",
    "    return k/(1+(x/theta)**n)\n",
    "\n",
    "def nonlinearity(x, kc, km):\n",
    "    return (kc*x)/(km+x)\n",
    "\n",
    "def dual_control(t, y, ydot, p):\n",
    "    n1, n2 = [2., 2.]\n",
    "    kc=12.; km=10.; lam=1.93E-4; Vin=1.; e0=0.0467\n",
    "    k1, k2, theta1, theta2 = p\n",
    "    ydot[0] = Vin - lam*y[0] - e0*nonlinearity(y[0], kc, km) - y[2]*nonlinearity(y[0], kc, km)\n",
    "    ydot[1] = y[2]*nonlinearity(y[0], kc, km) - y[3]*nonlinearity(y[1], kc, km) - lam*y[1]\n",
    "    ydot[2] = repression(y[1], k1, theta1, n1) - lam*y[2]\n",
    "    ydot[3] = activation(y[1], k2, theta2, n2) - lam*y[3]\n",
    "    ydot[4] = (Vin -  y[3]*nonlinearity(y[1], kc, km))**2\n",
    "    ydot[5] = repression(y[1], k1, theta1, n1) + activation(y[1], k2, theta2, n2)\n",
    "\n",
    "def upstream_repression(t, y, ydot, p):\n",
    "    n1, n2 = [2., 2.]\n",
    "    kc=12.; km=10.; lam=1.93E-4; Vin=1.; e0=0.0467\n",
    "    k1, k2, theta1, theta2 = p\n",
    "    ydot[0] = Vin - lam*y[0] - e0*nonlinearity(y[0], kc, km) - y[2]*nonlinearity(y[0], kc, km)\n",
    "    ydot[1] = y[2]*nonlinearity(y[0], kc, km) - y[3]*nonlinearity(y[1], kc, km) - lam*y[1]\n",
    "    ydot[2] = repression(y[1], k1, theta1, n1) - lam*y[2]\n",
    "    ydot[3] = k2 - lam*y[3]\n",
    "    ydot[4] = (Vin -  y[3]*nonlinearity(y[1], kc, km))**2\n",
    "    ydot[5] = repression(y[1], k1, theta1, n1) + k2\n",
    "\n",
    "def downstream_activation(t, y, ydot, p):\n",
    "    n1, n2 = [2., 2.]\n",
    "    kc=12.; km=10.; lam=1.93E-4; Vin=1.; e0=0.0467\n",
    "    k1, k2, theta1, theta2 = p\n",
    "    ydot[0] = Vin - lam*y[0] - e0*nonlinearity(y[0], kc, km) - y[2]*nonlinearity(y[0], kc, km)\n",
    "    ydot[1] = y[2]*nonlinearity(y[0], kc, km) - y[3]*nonlinearity(y[1], kc, km) - lam*y[1]\n",
    "    ydot[2] = k1 - lam*y[2]\n",
    "    ydot[3] = activation(y[1], k2, theta2, n2) - lam*y[3]\n",
    "    ydot[4] = (Vin -  y[3]*nonlinearity(y[1], kc, km))**2\n",
    "    ydot[5] = activation(y[1], k2, theta2, n2) + k1\n",
    "\n",
    "def no_control(t, y, ydot, p):\n",
    "    n1, n2 = [2., 2.]\n",
    "    kc=12.; km=10.; lam=1.93E-4; Vin=1.; e0=0.0467\n",
    "    k1, k2, theta1, theta2 = p\n",
    "    ydot[0] = Vin - lam*y[0] - e0*nonlinearity(y[0], kc, km) - y[2]*nonlinearity(y[0], kc, km)\n",
    "    ydot[1] = y[2]*nonlinearity(y[0], kc, km) - y[3]*nonlinearity(y[1], kc, km) - lam*y[1]\n",
    "    ydot[2] = k1 - lam*y[2]\n",
    "    ydot[3] = k2 - lam*y[3]\n",
    "    ydot[4] = (Vin -  y[3]*nonlinearity(y[1], kc, km))**2\n",
    "    ydot[5] = k1 + k2\n",
    "\n",
    "def loss_biological(j1, j2, alpha1=1E-5, alpha2=1E-2):\n",
    "        \"\"\"Computes scalarized loss including genetic constraint and product production\"\"\"\n",
    "        loss = alpha1*j1 + alpha2*j2\n",
    "        return j1, j2, loss\n"
   ]
  },
  {
   "cell_type": "code",
   "execution_count": 7,
   "metadata": {},
   "outputs": [],
   "source": [
    "space = hp.choice('architecture', \n",
    "    [('da', [hp.uniform('da_k1', 1E-7, 1E-3), hp.uniform('da_k2', 1E-7, 1E-3), hp.uniform('da_theta1', 0.001, 10), hp.uniform('da_theta2', 0.001, 10)]),\n",
    "     ('ur', [hp.uniform('ur_k1', 1E-7, 1E-3), hp.uniform('ur_k2', 1E-7, 1E-3), hp.uniform('ur_theta1', 0.001, 10), hp.uniform('ur_theta2', 0.001, 10)]),\n",
    "     ('nc', [hp.uniform('nc_k1', 1E-7, 1E-3), hp.uniform('nc_k2', 1E-7, 1E-3), hp.uniform('nc_theta1', 0.001, 10), hp.uniform('nc_theta2', 0.001, 10)]),\n",
    "     ('dc', [hp.uniform('dc_k1', 1E-7, 1E-3), hp.uniform('dc_k2', 1E-7, 1E-3), hp.uniform('dc_theta1', 0.001, 10), hp.uniform('dc_theta2', 0.001, 10)])])\n",
    "    "
   ]
  },
  {
   "cell_type": "code",
   "execution_count": 10,
   "metadata": {},
   "outputs": [],
   "source": [
    "def objective(args):\n",
    "    case, param_values = args\n",
    "    #Integration conditions\n",
    "    t = np.linspace(0, 5E4, 100) \n",
    "    y0 = np.array([2290., 0., 0., 0., 0., 0.])\n",
    "    \n",
    "    if case == 'ur':\n",
    "        ode_function = upstream_repression\n",
    "    elif case == 'da':\n",
    "        ode_function = downstream_activation\n",
    "    elif case == 'dc':\n",
    "        ode_function = dual_control\n",
    "    else:\n",
    "        ode_function = no_control\n",
    "    \n",
    "    extra_options = {'old_api': False, 'user_data': param_values}\n",
    "    ode_solver = ode('cvode', ode_function, **extra_options)\n",
    "    solution = ode_solver.solve(t, y0)\n",
    "    j1, j2 = solution.values.y[-1, -2:]\n",
    "    j1, j2, loss = loss_biological(j1, j2)\n",
    "    return loss\n",
    "    "
   ]
  },
  {
   "cell_type": "code",
   "execution_count": 18,
   "metadata": {},
   "outputs": [
    {
     "name": "stdout",
     "output_type": "stream",
     "text": [
      "100%|██████████| 5000/5000 [06:27<00:00, 12.90trial/s, best loss: 0.06084167287229665] \n"
     ]
    },
    {
     "data": {
      "text/plain": [
       "('da',\n",
       " (4.668847010542533e-05,\n",
       "  3.5599306319536884e-05,\n",
       "  2.2526486431168964,\n",
       "  9.991315898784045))"
      ]
     },
     "execution_count": 18,
     "metadata": {},
     "output_type": "execute_result"
    }
   ],
   "source": [
    "best = fmin(objective, space, algo=tpe.suggest, max_evals=5000)\n",
    "space_eval(space, best)"
   ]
  },
  {
   "cell_type": "code",
   "execution_count": 16,
   "metadata": {},
   "outputs": [
    {
     "data": {
      "text/plain": [
       "('dc',\n",
       " (0.0005396352372005346,\n",
       "  5.756588285866467e-05,\n",
       "  3.14072439442221,\n",
       "  9.994902348681622))"
      ]
     },
     "execution_count": 16,
     "metadata": {},
     "output_type": "execute_result"
    }
   ],
   "source": []
  },
  {
   "cell_type": "code",
   "execution_count": null,
   "metadata": {},
   "outputs": [],
   "source": []
  }
 ],
 "metadata": {
  "interpreter": {
   "hash": "30074d9ea8dd95ba0ea14094fcb9fdfabbbeeee4df9c4efae9576126e279ead9"
  },
  "kernelspec": {
   "display_name": "Python 3.9.7 ('sundials')",
   "language": "python",
   "name": "python3"
  },
  "language_info": {
   "codemirror_mode": {
    "name": "ipython",
    "version": 3
   },
   "file_extension": ".py",
   "mimetype": "text/x-python",
   "name": "python",
   "nbconvert_exporter": "python",
   "pygments_lexer": "ipython3",
   "version": "3.9.7"
  },
  "orig_nbformat": 4
 },
 "nbformat": 4,
 "nbformat_minor": 2
}
