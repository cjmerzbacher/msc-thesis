{
 "cells": [
  {
   "cell_type": "code",
   "execution_count": null,
   "metadata": {},
   "outputs": [],
   "source": []
  }
 ],
 "metadata": {
  "interpreter": {
   "hash": "1c81a53a0ff6cd481fa9e4276883fc41728c044ede2b17046477fd0d4a209b4b"
  },
  "kernelspec": {
   "display_name": "Python 3.9.7 ('sundials')",
   "name": "python3"
  },
  "language_info": {
   "name": "python",
   "version": "3.9.7"
  },
  "orig_nbformat": 4
 },
 "nbformat": 4,
 "nbformat_minor": 2
}
