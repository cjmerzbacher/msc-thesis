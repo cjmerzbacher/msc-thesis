{
 "cells": [
  {
   "cell_type": "code",
   "execution_count": 2,
   "metadata": {},
   "outputs": [],
   "source": [
    "import numpy as np\n",
    "import matplotlib.pyplot as plt\n",
    "from scipy.integrate import odeint\n",
    "import pandas as pd"
   ]
  },
  {
   "cell_type": "code",
   "execution_count": 3,
   "metadata": {},
   "outputs": [],
   "source": [
    "#Instantiate functions to compute activation and repression\n",
    "def activation(x, k, theta, n):\n",
    "    return (k*(x/theta)**n)/(1+(x/theta)**n)\n",
    "\n",
    "def repression(x, k, theta, n):\n",
    "    return k/(1+(x/theta)**n)\n",
    "\n",
    "def nonlinearity(x, kc, km):\n",
    "    return (kc*x)/(km+x)"
   ]
  },
  {
   "cell_type": "code",
   "execution_count": 3,
   "metadata": {},
   "outputs": [],
   "source": [
    "def dual_control(x, t, n1, n2, theta1, theta2, k1, k2):\n",
    "    x0, x1, e1, e2 = x\n",
    "    dx0dt = Vin - lam*x0 - e0*nonlinearity(x0, kc, km) - e1*nonlinearity(x0, kc, km) \n",
    "    dx1dt = e1*nonlinearity(x0, kc, km) - e2*nonlinearity(x1, kc, km) - lam*x1\n",
    "    de1dt = repression(x1, k1, theta1, n1) - lam*e1\n",
    "    de2dt = activation(x1, k2, theta2, n2) - lam*e2\n",
    "    return [dx0dt, dx1dt, de1dt, de2dt]  "
   ]
  },
  {
   "cell_type": "code",
   "execution_count": 4,
   "metadata": {},
   "outputs": [],
   "source": [
    "def upstream_repression(x, t, n1, n2, theta1, theta2, k1, k2):\n",
    "    x0, x1, e1, e2 = x\n",
    "    dx0dt = Vin - lam*x0 - e0*nonlinearity(x0, kc, km) - e1*nonlinearity(x0, kc, km) \n",
    "    dx1dt = e1*nonlinearity(x0, kc, km) - e2*nonlinearity(x1, kc, km) - lam*x1\n",
    "    de1dt = repression(x1, k1, theta1, n1) - lam*e1\n",
    "    de2dt = k2 - lam*e2\n",
    "    return [dx0dt, dx1dt, de1dt, de2dt]  "
   ]
  },
  {
   "cell_type": "code",
   "execution_count": 5,
   "metadata": {},
   "outputs": [],
   "source": [
    "def downstream_activation(x, t, n1, n2, theta1, theta2, k1, k2):\n",
    "    x0, x1, e1, e2 = x\n",
    "    dx0dt = Vin - lam*x0 - e0*nonlinearity(x0, kc, km) - e1*nonlinearity(x0, kc, km) \n",
    "    dx1dt = e1*nonlinearity(x0, kc, km) - e2*nonlinearity(x1, kc, km) - lam*x1\n",
    "    de1dt = k1 - lam*e1\n",
    "    de2dt = activation(x1, k2, theta2, n2) - lam*e2\n",
    "    return [dx0dt, dx1dt, de1dt, de2dt]  "
   ]
  },
  {
   "cell_type": "code",
   "execution_count": 4,
   "metadata": {},
   "outputs": [],
   "source": [
    "#Times\n",
    "t = np.linspace(0, 5e4, 101)\n",
    "#Constants\n",
    "Vin = 1\n",
    "e0 = 0.0467 \n",
    "lam = 1.93E-4 #1/s\n",
    "#Assume equal kinetics for all three enzymes\n",
    "kc = 12 #1/s\n",
    "km = 10 \n",
    "#Initial conditions\n",
    "y0 = [2290.,0.,0.,0.] #[x0, x1, e1, e2]"
   ]
  },
  {
   "cell_type": "code",
   "execution_count": 40,
   "metadata": {},
   "outputs": [
    {
     "data": {
      "text/plain": [
       "Text(0, 0.5, 'Concentrations')"
      ]
     },
     "execution_count": 40,
     "metadata": {},
     "output_type": "execute_result"
    },
    {
     "data": {
      "image/png": "[encoded data removed]",
      "text/plain": [
       "<Figure size 432x288 with 1 Axes>"
      ]
     },
     "metadata": {
      "needs_background": "light"
     },
     "output_type": "display_data"
    }
   ],
   "source": [
    "#Single solution code\n",
    "n1 = 2\n",
    "n2 = 2\n",
    "theta1 = 5\n",
    "theta2 = theta1\n",
    "k1 = 0.00001\n",
    "k2 = 0.00001\n",
    "sol = odeint(dual_control, y0, t, args=(n1, n2, theta1, theta2, k1, k2))\n",
    "v2 = sol[:, 3]*nonlinearity(sol[:, 1], kc, km)\n",
    "\n",
    "plt.plot(t, sol[:, 0], label='X0')\n",
    "plt.plot(t, sol[:, 1], label='X1')\n",
    "plt.plot(t, sol[:, 2], label='E1')\n",
    "plt.plot(t, sol[:, 3], label='E2')\n",
    "plt.plot(t, v2, label='V2')\n",
    "plt.legend()\n",
    "plt.xlabel('Time')\n",
    "plt.ylabel('Concentrations')"
   ]
  },
  {
   "cell_type": "code",
   "execution_count": 5,
   "metadata": {},
   "outputs": [],
   "source": [
    "n1 = 2\n",
    "n2 = 2\n",
    "num_points = 10\n",
    "thetas = [0.01, 0.05, 0.1, 0.5, 1, 2.5, 5, 7.5, 10, 100]\n",
    "ks = np.linspace(1E-7, 0.001, num_points)"
   ]
  },
  {
   "cell_type": "code",
   "execution_count": 14,
   "metadata": {},
   "outputs": [],
   "source": [
    "#Solve grid of ODEs and save steady state values and final flux\n",
    "labels = ['theta', 'k1', 'k2', 'x0', 'x1', 'e1', 'e2', 'v2']\n",
    "ss_data = pd.DataFrame(columns=labels)\n",
    "for theta1 in thetas:\n",
    "    theta2 = theta1\n",
    "    for k1 in ks:\n",
    "        for k2 in ks:\n",
    "            x0, x1, e1, e2 = odeint(dual_control, y0, t, args=(n1, n2, theta1, theta2, k1, k2))[-1, :]\n",
    "            v2 = e2*nonlinearity(x1, kc, km)\n",
    "            row = [theta1, k1, k2, x0, x1, e1, e2, v2]\n",
    "            ss_data.loc[len(ss_data)] = row\n",
    "ss_data.to_csv('dual_control.csv')"
   ]
  },
  {
   "cell_type": "code",
   "execution_count": 15,
   "metadata": {},
   "outputs": [],
   "source": [
    "#Solve grid of ODEs and save steady state values and final flux\n",
    "labels = ['theta', 'k1', 'k2', 'x0', 'x1', 'e1', 'e2', 'v2']\n",
    "ss_data = pd.DataFrame(columns=labels)\n",
    "for theta1 in thetas:\n",
    "    theta2 = theta1\n",
    "    for k1 in ks:\n",
    "        for k2 in ks:\n",
    "            x0, x1, e1, e2 = odeint(upstream_repression, y0, t, args=(n1, n2, theta1, theta2, k1, k2))[-1, :]\n",
    "            v2 = e2*nonlinearity(x1, kc, km)\n",
    "            row = [theta1, k1, k2, x0, x1, e1, e2, v2]\n",
    "            ss_data.loc[len(ss_data)] = row\n",
    "ss_data.to_csv('upstream_repression.csv')"
   ]
  },
  {
   "cell_type": "code",
   "execution_count": 17,
   "metadata": {},
   "outputs": [],
   "source": [
    "#Solve grid of ODEs and save steady state values and final flux\n",
    "labels = ['theta', 'k1', 'k2', 'x0', 'x1', 'e1', 'e2', 'v2']\n",
    "ss_data = pd.DataFrame(columns=labels)\n",
    "for theta1 in thetas:\n",
    "    theta2 = theta1\n",
    "    for k1 in ks:\n",
    "        for k2 in ks:\n",
    "            x0, x1, e1, e2 = odeint(downstream_activation, y0, t, args=(n1, n2, theta1, theta2, k1, k2))[-1, :]\n",
    "            v2 = e2*nonlinearity(x1, kc, km)\n",
    "            row = [theta1, k1, k2, x0, x1, e1, e2, v2]\n",
    "            ss_data.loc[len(ss_data)] = row\n",
    "ss_data.to_csv('downstream_activation.csv')"
   ]
  },
  {
   "cell_type": "code",
   "execution_count": 13,
   "metadata": {},
   "outputs": [
    {
     "name": "stderr",
     "output_type": "stream",
     "text": [
      "C:\\Users\\Charlotte\\anaconda3\\envs\\thesis\\lib\\site-packages\\scipy\\integrate\\odepack.py:247: ODEintWarning: Excess work done on this call (perhaps wrong Dfun type). Run with full_output = 1 to get quantitative information.\n",
      "  warnings.warn(warning_msg, ODEintWarning)\n"
     ]
    }
   ],
   "source": [
    "#Solve grid of ODEs and compute J1, J2\n",
    "y0 = [2290.,0.,0.,0., 0., 0.] #[x0, x1, e1, e2]\n",
    "labels = ['theta', 'k1', 'k2', 'x0', 'x1', 'e1', 'e2', 'j1', 'j2']\n",
    "ss_data = pd.DataFrame(columns=labels)\n",
    "for theta1 in thetas:\n",
    "    theta2 = theta1\n",
    "    for k1 in ks:\n",
    "        for k2 in ks:\n",
    "            x0, x1, e1, e2, j1, j2 = odeint(dual_control_j1j2, y0, t, args=(n1, n2, theta1, theta2, k1, k2))[-1, :]\n",
    "            row = [theta1, k1, k2, x0, x1, e1, e2, j1, j2]\n",
    "            ss_data.loc[len(ss_data)] = row\n",
    "ss_data.to_csv('dual_control_j1j2.csv')"
   ]
  },
  {
   "cell_type": "code",
   "execution_count": 32,
   "metadata": {},
   "outputs": [
    {
     "data": {
      "image/png": "[encoded data removed]",
      "text/plain": [
       "<Figure size 432x288 with 1 Axes>"
      ]
     },
     "metadata": {
      "needs_background": "light"
     },
     "output_type": "display_data"
    }
   ],
   "source": [
    "#Sample CVODE code with Van Der Pol Oscillator\n",
    "import matplotlib.pyplot as plt\n",
    "import numpy as np\n",
    "from scikits.odes import ode\n",
    "\n",
    "t0, y0 = 1, np.array([0.5, 0.5])  # initial condition\n",
    "def van_der_pol(t, y, ydot):\n",
    "    \"\"\" we create rhs equations for the problem\"\"\"\n",
    "    ydot[0] = y[1]\n",
    "    ydot[1] = 1000*(1.0-y[0]**2)*y[1]-y[0]\n",
    "\n",
    "solution = ode('cvode', van_der_pol, old_api=False).solve(np.linspace(t0,500,200), y0)\n",
    "plt.plot(solution.values.t, solution.values.y[:,0], label='Van der Pol oscillator')\n",
    "plt.show()"
   ]
  },
  {
   "cell_type": "code",
   "execution_count": 33,
   "metadata": {},
   "outputs": [],
   "source": [
    "#Single solution code using cvode\n",
    "from scikits.odes.odeint import odeint\n",
    "def dual_control_j1j2(t, y, ydot):\n",
    "    x0, x1, e1, e2, j1, j2 = y\n",
    "\n",
    "    dx0dt = Vin - lam*x0 - e0*nonlinearity(x0, kc, km) - e1*nonlinearity(x0, kc, km) \n",
    "    dx1dt = e1*nonlinearity(x0, kc, km) - e2*nonlinearity(x1, kc, km) - lam*x1\n",
    "    de1dt = repression(x1, k1, theta1, n1) - lam*e1\n",
    "    de2dt = activation(x1, k2, theta2, n2) - lam*e2\n",
    "    v2 = e2*nonlinearity(x1, kc, km)\n",
    "    j1 = (Vin - v2)**2\n",
    "    j2 = e1 + e2\n",
    "\n",
    "    ydot = [dx0dt, dx1dt, de1dt, de2dt, j1, j2]\n",
    "\n",
    "#Solve grid of ODEs and compute J1, J2\n",
    "y0 = [2290.,0.,0.,0., 0., 0.] #[x0, x1, e1, e2]\n",
    "labels = ['theta', 'k1', 'k2', 'x0', 'x1', 'e1', 'e2', 'j1', 'j2']\n",
    "ss_data = pd.DataFrame(columns=labels)\n",
    "for theta1 in thetas:\n",
    "    theta2 = theta1\n",
    "    for k1 in ks:\n",
    "        for k2 in ks:\n",
    "            x0, x1, e1, e2, j1, j2 = odeint(dual_control_j1j2, t, y0)\n",
    "            row = [theta1, k1, k2, x0, x1, e1, e2, j1, j2]\n",
    "            ss_data.loc[len(ss_data)] = row\n",
    "ss_data.to_csv('dual_control_j1j2_cvode.csv')"
   ]
  }
 ],
 "metadata": {
  "interpreter": {
   "hash": "a8fd889b64f317b5cee5f2aeda42622ebf4f40766de98ac3234655c040aecc33"
  },
  "kernelspec": {
   "display_name": "Python 3.9.7 64-bit ('thesis': conda)",
   "language": "python",
   "name": "python3"
  },
  "language_info": {
   "codemirror_mode": {
    "name": "ipython",
    "version": 3
   },
   "file_extension": ".py",
   "mimetype": "text/x-python",
   "name": "python",
   "nbconvert_exporter": "python",
   "pygments_lexer": "ipython3",
   "version": "3.9.7"
  },
  "orig_nbformat": 4
 },
 "nbformat": 4,
 "nbformat_minor": 2
}
