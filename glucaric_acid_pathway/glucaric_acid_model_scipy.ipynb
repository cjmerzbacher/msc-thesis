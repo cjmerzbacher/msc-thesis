{
 "cells": [
  {
   "cell_type": "code",
   "execution_count": 13,
   "metadata": {},
   "outputs": [],
   "source": [
    "from scipy.integrate import odeint\n",
    "import numpy as np\n",
    "from matplotlib import pyplot as plt"
   ]
  },
  {
   "cell_type": "code",
   "execution_count": 48,
   "metadata": {},
   "outputs": [],
   "source": [
    "## Establish constants\n",
    "lam = 2.7778E-05\n",
    "v_pts = 0.1656\n",
    "vm_pgi = 0.8751\n",
    "keq_pgi = 0.3\n",
    "km_pgi_g6p = 0.28\n",
    "km_pgi_f6p = 0.147\n",
    "vm_zwf = 0.0853\n",
    "km_zwf_g6p = 0.1\n",
    "vm_pfk = 2.615\n",
    "km_pfk_f6p = 0.16\n",
    "n_pfk = 3\n",
    "vm_ino1 = 0.2616\n",
    "km_ino1_g6p = 1.18\n",
    "vm_t_mi = 0.045\n",
    "km_t_mi = 15\n",
    "vm_miox = 0.2201\n",
    "km_miox_mi = 24.7\n",
    "a_miox = 5.4222\n",
    "ka_miox_mi = 20"
   ]
  },
  {
   "cell_type": "code",
   "execution_count": 59,
   "metadata": {},
   "outputs": [],
   "source": [
    "def michaelismenten(x, vm, km):\n",
    "    return (vm*x)/(km+x)\n",
    "\n",
    "def reversible_michaelismenten(x, y, vm, keq, kmx, kmy):\n",
    "    return (vm*(x - (y/keq)))/(x + kmx*(1+(y/kmy)))\n",
    "\n",
    "def hilleqn(x, vm, n, km):\n",
    "    return (vm*x**n)/(km**n + x**n)\n",
    "\n",
    "def michaelismenten_substrateactivation(x, vm, km, a, ka):\n",
    "    vm_eff = vm * (1+ (a*x)/(ka + x))\n",
    "    return (vm_eff*x)/(km  + x)"
   ]
  },
  {
   "cell_type": "code",
   "execution_count": 60,
   "metadata": {},
   "outputs": [],
   "source": [
    "def u(control, x, n, theta, k):\n",
    "    if control == 'a':\n",
    "        return (k*x**n)/(theta**n + x**n)\n",
    "    elif control == 'r':\n",
    "        return (k*theta**n)/(theta**n + x**n)\n",
    "    else: return k"
   ]
  },
  {
   "cell_type": "code",
   "execution_count": 70,
   "metadata": {},
   "outputs": [],
   "source": [
    "def glucaric_acid(x, t):\n",
    "    n_ino1 = 2.; n_miox = 2\n",
    "    theta_ino1 = 8.46E-01; theta_miox = 0.1\n",
    "    k_ino1 = 1.00E-07; k_miox = 1.00E-07\n",
    "    \n",
    "    g6p, f6p, mi, ino1, miox = x\n",
    "\n",
    "    v_pgi = reversible_michaelismenten(g6p, f6p, vm_pgi, keq_pgi, km_pgi_g6p, km_pgi_f6p)\n",
    "    v_zwf = michaelismenten(g6p, vm_zwf, km_zwf_g6p)\n",
    "    v_pfk = hilleqn(f6p, vm_pfk, n_pfk, km_pfk_f6p)\n",
    "    v_ino1 = ino1 * michaelismenten(g6p, vm_ino1, km_ino1_g6p)\n",
    "    v_tm = michaelismenten(mi, vm_t_mi, km_t_mi)\n",
    "    v_miox = miox * michaelismenten_substrateactivation(mi, vm_miox, km_miox_mi, a_miox, ka_miox_mi)\n",
    "\n",
    "    dg6pdt = v_pts - v_zwf - v_pgi - lam*g6p\n",
    "    df6pdt = v_pgi + 0.5*v_zwf - v_pfk - lam*f6p\n",
    "    dmidt = v_ino1 - v_tm - v_miox - lam*mi\n",
    "    dino1dt = u('r', mi, n_ino1, theta_ino1, k_ino1)  - lam*ino1\n",
    "    dmioxdt = u('a', mi, n_miox, theta_miox, k_miox) - lam*miox\n",
    "    return [dg6pdt, df6pdt, dmidt, dino1dt, dmioxdt]"
   ]
  },
  {
   "cell_type": "code",
   "execution_count": 72,
   "metadata": {},
   "outputs": [
    {
     "data": {
      "text/plain": [
       "Text(0, 0.5, 'Concentrations')"
      ]
     },
     "execution_count": 72,
     "metadata": {},
     "output_type": "execute_result"
    },
    {
     "data": {
      "image/png": "[encoded data removed]",
      "text/plain": [
       "<Figure size 432x288 with 1 Axes>"
      ]
     },
     "metadata": {
      "needs_background": "light"
     },
     "output_type": "display_data"
    }
   ],
   "source": [
    "t = np.linspace(0, 5E5, 100) \n",
    "y0 = np.array([0.281, 0.0605, 0., 0., 0.]) #g6p, f6p, mi, ino1, miox\n",
    "\n",
    "sol = odeint(glucaric_acid, y0, t)\n",
    "\n",
    "plt.plot(t, sol[:, 0], label='g6p')\n",
    "plt.plot(t, sol[:, 1], label='f6p')\n",
    "plt.plot(t, sol[:, 2], label='mi')\n",
    "plt.plot(t, sol[:, 3], label='ino1')\n",
    "plt.plot(t, sol[:, 4], label='miox')\n",
    "plt.legend()\n",
    "plt.xlabel('Time')\n",
    "plt.ylabel('Concentrations')\n"
   ]
  },
  {
   "cell_type": "code",
   "execution_count": 54,
   "metadata": {},
   "outputs": [
    {
     "data": {
      "text/plain": [
       "Text(0, 0.5, 'Concentrations')"
      ]
     },
     "execution_count": 54,
     "metadata": {},
     "output_type": "execute_result"
    },
    {
     "data": {
      "image/png": "[encoded data removed]",
      "text/plain": [
       "<Figure size 432x288 with 1 Axes>"
      ]
     },
     "metadata": {
      "needs_background": "light"
     },
     "output_type": "display_data"
    }
   ],
   "source": [
    "def main_pathway(x, t):\n",
    "    g6p, f6p = x\n",
    "\n",
    "    v_pgi = reversible_michaelismenten(g6p, f6p, vm_pgi, keq_pgi, km_pgi_g6p, km_pgi_f6p)\n",
    "    v_zwf = michaelismenten(g6p, vm_zwf, km_zwf_g6p)\n",
    "    v_pfk = hilleqn(f6p, vm_pfk, n_pfk, km_pfk_f6p)\n",
    "\n",
    "    dg6pdt = v_pts - v_zwf - v_pgi - lam*g6p\n",
    "    df6pdt = v_pgi + 0.5*v_zwf - v_pfk - lam*f6p\n",
    "    return [dg6pdt, df6pdt]\n",
    "\n",
    "t = np.linspace(0, 5E5, 100) \n",
    "y0 = np.array([0.1, 0.1]) #g6p, f6p, mi, ino1, miox\n",
    "\n",
    "sol = odeint(main_pathway, y0, t)\n",
    "\n",
    "plt.plot(t, sol[:, 0], label='g6p')\n",
    "plt.plot(t, sol[:, 1], label='f6p')\n",
    "plt.legend()\n",
    "plt.xlabel('Time')\n",
    "plt.ylabel('Concentrations')\n"
   ]
  },
  {
   "cell_type": "code",
   "execution_count": 56,
   "metadata": {},
   "outputs": [
    {
     "data": {
      "text/plain": [
       "0.06050138861630573"
      ]
     },
     "execution_count": 56,
     "metadata": {},
     "output_type": "execute_result"
    }
   ],
   "source": [
    "sol[-1, 1]"
   ]
  },
  {
   "cell_type": "code",
   "execution_count": null,
   "metadata": {},
   "outputs": [],
   "source": [
    "g6p = 0.28102005299227306\n",
    "f6p = 0.06050138861630573"
   ]
  }
 ],
 "metadata": {
  "interpreter": {
   "hash": "1c81a53a0ff6cd481fa9e4276883fc41728c044ede2b17046477fd0d4a209b4b"
  },
  "kernelspec": {
   "display_name": "Python 3.9.7 ('sundials')",
   "name": "python3"
  },
  "language_info": {
   "codemirror_mode": {
    "name": "ipython",
    "version": 3
   },
   "file_extension": ".py",
   "mimetype": "text/x-python",
   "name": "python",
   "nbconvert_exporter": "python",
   "pygments_lexer": "ipython3",
   "version": "3.9.7"
  },
  "orig_nbformat": 4
 },
 "nbformat": 4,
 "nbformat_minor": 2
}
