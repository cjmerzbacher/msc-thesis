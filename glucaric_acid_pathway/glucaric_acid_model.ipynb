{
 "cells": [
  {
   "cell_type": "code",
   "execution_count": 1,
   "metadata": {},
   "outputs": [],
   "source": [
    "import numpy as np\n",
    "from hyperopt import hp, fmin, tpe, space_eval\n",
    "from scikits.odes.ode import ode\n",
    "import matplotlib.pyplot as plt"
   ]
  },
  {
   "cell_type": "code",
   "execution_count": 2,
   "metadata": {},
   "outputs": [],
   "source": [
    "space = hp.choice('architecture', \n",
    "    [([[0, 0, 1], [1, 0, 0]], [[2., hp.uniform('theta1_da', 1E-7, 10), hp.uniform('k1_da', 1E-7, 5)], [2., hp.uniform('theta2_da', 1E-7, 10), hp.uniform('k2_da', 1E-7, 5)]]),\n",
    "     ([[0, 1, 0], [0, 0, 1]], [[2., hp.uniform('theta1_ur', 1E-7, 10), hp.uniform('k1_ur', 1E-7, 5)], [2., hp.uniform('theta2_ur', 1E-7, 10), hp.uniform('k2_ur', 1E-7, 5)]]),\n",
    "     ([[0, 0, 1], [0, 0, 1]], [[2., hp.uniform('theta1_nc', 1E-7, 10), hp.uniform('k1_nc', 1E-7, 5)], [2., hp.uniform('theta2_nc', 1E-7, 10), hp.uniform('k2_nc', 1E-7, 5)]]),\n",
    "     ([[0, 1, 0], [1, 0, 0]], [[2., hp.uniform('theta1_dc', 1E-7, 10), hp.uniform('k1_dc', 1E-7, 5)], [2., hp.uniform('theta2_dc', 1E-7, 10), hp.uniform('k2_dc', 1E-7, 5)]])])\n",
    "    "
   ]
  },
  {
   "cell_type": "code",
   "execution_count": 3,
   "metadata": {},
   "outputs": [],
   "source": [
    "def michaelismenten(x, vm, km):\n",
    "    return (vm*x)/(km+x)\n",
    "\n",
    "def reversible_michaelismenten(x, y, vm, keq, kmx, kmy):\n",
    "    return (vm*(x - (y/keq)))/(x + kmx*(1+(y/kmy)))\n",
    "\n",
    "def hilleqn(x, vm, n, km):\n",
    "    return (vm*x**n)/(km**n + x**n)\n",
    "\n",
    "def michaelismenten_substrateactivation(x, vm, km, a, ka):\n",
    "    vm_eff = vm * (1+ (a*x)/(ka + x))\n",
    "    return (vm_eff*x)/(km  + x)\n",
    "\n",
    "def activation(x, k, theta, n):\n",
    "    return (k*x**n)/(theta**n + x**n)\n",
    "    \n",
    "def repression(x, k, theta, n):\n",
    "    return (k*theta**n)/(theta**n + x**n)\n",
    "    \n",
    "def loss_biological(j1, j2, alpha1=1E-5, alpha2=1E-2):\n",
    "    loss = alpha1*j1 + alpha2*j2\n",
    "    return j1, j2, loss"
   ]
  },
  {
   "cell_type": "code",
   "execution_count": 53,
   "metadata": {},
   "outputs": [],
   "source": [
    "# Set architecture equations\n",
    "def glucaric_acid(t, y, ydot, params):\n",
    "    ## Establish constants\n",
    "    lam = 2.7778E-05\n",
    "    v_pts = 0.1656\n",
    "    vm_pgi = 0.8751\n",
    "    keq_pgi = 0.3\n",
    "    km_pgi_g6p = 0.28\n",
    "    km_pgi_f6p = 0.147\n",
    "    vm_zwf = 0.0853\n",
    "    km_zwf_g6p = 0.1\n",
    "    vm_pfk = 2.615\n",
    "    km_pfk_f6p = 0.16\n",
    "    n_pfk = 3\n",
    "    vm_ino1 = 0.2616\n",
    "    km_ino1_g6p = 1.18\n",
    "    vm_t_mi = 0.045\n",
    "    km_t_mi = 15\n",
    "    vm_miox = 0.2201\n",
    "    km_miox_mi = 24.7\n",
    "    a_miox = 5.4222\n",
    "    ka_miox_mi = 20\n",
    "    \n",
    "    A, W = params\n",
    "\n",
    "    v_zwf = michaelismenten(y[0], vm_zwf, km_zwf_g6p)\n",
    "    v_pgi = reversible_michaelismenten(y[0], y[1], vm_pgi, keq_pgi, km_pgi_g6p, km_pgi_f6p)\n",
    "    v_ino1 = y[3]*michaelismenten(y[0], vm_ino1, km_ino1_g6p)\n",
    "    ydot[0] = v_pts - v_zwf - v_pgi - v_ino1 - lam*y[0]\n",
    "\n",
    "    v_pfk = hilleqn(y[1], vm_pfk, n_pfk, km_pfk_f6p)\n",
    "    ydot[1] = v_pgi + 0.5 * v_zwf - v_pfk - lam*y[1]\n",
    "\n",
    "    #MI\n",
    "    v_tm = michaelismenten(y[2], vm_t_mi, km_t_mi)\n",
    "    v_miox = y[4] *michaelismenten_substrateactivation(y[2], vm_miox, km_miox_mi, a_miox, ka_miox_mi)\n",
    "    ydot[2] = v_ino1 - v_tm - v_miox - lam*y[2]\n",
    "\n",
    "    #Ino1\n",
    "    u_ino1_mi = np.sum(A[0]*np.array([activation(y[2], W[0][2], W[0][1], W[0][0]), repression(y[2], W[0][2], W[0][1], W[0][0]), W[0][2]]))\n",
    "    ydot[3] = u_ino1_mi - lam*y[3]\n",
    "    \n",
    "    #MIOX\n",
    "    u_miox_mi = np.sum(A[1]*np.array([activation(y[2], W[1][2], W[1][1], W[1][0]), repression(y[2], W[1][2], W[1][1], W[1][0]), W[1][2]]))\n",
    "    ydot[4] = u_miox_mi - lam*y[4]\n",
    "\n",
    "    #J1, J2\n",
    "    ydot[5] = (v_pts - v_miox)**2\n",
    "    ydot[6] = u_ino1_mi + u_miox_mi"
   ]
  },
  {
   "cell_type": "code",
   "execution_count": 54,
   "metadata": {},
   "outputs": [],
   "source": [
    "losses = []\n",
    "params = []\n",
    "circuits = []\n",
    "\n",
    "def objective(args):\n",
    "    architecture, param_values = args\n",
    "    #Integration conditions\n",
    "    t = np.linspace(0, 5E5, 200) \n",
    "    y0 = np.array([0.1, 0.1, 0., 0., 0., 0. , 0.]) #g6p, f6p, mi, ino1, miox\n",
    "\n",
    "    extra_options = {'old_api': False, 'user_data': [architecture, param_values]}\n",
    "    ode_solver = ode('cvode', glucaric_acid, **extra_options)\n",
    "    solution = ode_solver.solve(t, y0)\n",
    "    j1, j2 = solution.values.y[-1, -2:]\n",
    "    j1, j2, loss = loss_biological(j1, j2)\n",
    "\n",
    "    losses.append(loss)\n",
    "    params.append(param_values)\n",
    "    circuits.append(architecture)\n",
    "    return loss\n",
    "    "
   ]
  },
  {
   "cell_type": "code",
   "execution_count": 55,
   "metadata": {},
   "outputs": [
    {
     "name": "stdout",
     "output_type": "stream",
     "text": [
      "100%|██████████| 1/1 [00:00<00:00, 30.72trial/s, best loss: 0.0]\n"
     ]
    },
    {
     "name": "stderr",
     "output_type": "stream",
     "text": [
      "\n",
      "[CVODE ERROR]  CVode\n",
      "  At t = 260.514, mxstep steps taken before reaching tout.\n",
      "\n"
     ]
    },
    {
     "data": {
      "text/plain": [
       "(((0, 0, 1), (0, 0, 1)),\n",
       " ((2.0, 0.17737164419177687, 1.1563557866091134),\n",
       "  (2.0, 7.299396940742156, 1.599880027645609)))"
      ]
     },
     "execution_count": 55,
     "metadata": {},
     "output_type": "execute_result"
    }
   ],
   "source": [
    "best = fmin(objective, space, algo=tpe.suggest, max_evals=1)\n",
    "space_eval(space, best)"
   ]
  },
  {
   "cell_type": "code",
   "execution_count": 9,
   "metadata": {},
   "outputs": [],
   "source": [
    "def glucaric_acid(t, y, ydot, params):\n",
    "\n",
    "    lam = 2.7778E-05\n",
    "    v_pts = 0.1656\n",
    "    vm_pgi = 0.8751\n",
    "    keq_pgi = 0.3\n",
    "    km_pgi_g6p = 0.28\n",
    "    km_pgi_f6p = 0.147\n",
    "    vm_zwf = 0.0853\n",
    "    km_zwf_g6p = 0.1\n",
    "    vm_pfk = 2.615\n",
    "    km_pfk_f6p = 0.16\n",
    "    n_pfk = 3\n",
    "    vm_ino1 = 0.2616\n",
    "    km_ino1_g6p = 1.18\n",
    "    vm_t_mi = 0.045\n",
    "    km_t_mi = 15\n",
    "    vm_miox = 0.2201\n",
    "    km_miox_mi = 24.7\n",
    "    a_miox = 5.4222\n",
    "    ka_miox_mi = 20\n",
    "\n",
    "\n",
    "    g6p, f6p, mi, ino1, miox, j1, j2 = y\n",
    "\n",
    "    A, W = params \n",
    "\n",
    "    n_ino1, theta_ino1, k_ino1 = W[0]\n",
    "    n_miox, theta_miox, k_miox = W[1]\n",
    "\n",
    "    v_pgi = reversible_michaelismenten(g6p, f6p, vm_pgi, keq_pgi, km_pgi_g6p, km_pgi_f6p)\n",
    "    v_zwf = michaelismenten(g6p, vm_zwf, km_zwf_g6p)\n",
    "    v_pfk = hilleqn(f6p, vm_pfk, n_pfk, km_pfk_f6p)\n",
    "    v_ino1 = ino1 * michaelismenten(g6p, vm_ino1, km_ino1_g6p)\n",
    "    v_tm = michaelismenten(mi, vm_t_mi, km_t_mi)\n",
    "    v_miox = miox * michaelismenten_substrateactivation(mi, vm_miox, km_miox_mi, a_miox, ka_miox_mi)\n",
    "\n",
    "    u_ino1_mi = np.sum(A[0]*np.array([activation(mi, k_ino1, theta_ino1, n_ino1), repression(mi, k_ino1, theta_ino1, n_ino1), k_ino1]))\n",
    "    u_miox_mi = np.sum(A[1]*np.array([activation(mi, k_miox, theta_miox, n_miox), repression(mi, k_miox, theta_miox, n_miox), k_miox]))\n",
    "\n",
    "    ydot[0] = v_pts - v_zwf - v_pgi - lam*g6p\n",
    "    ydot[1] = v_pgi + 0.5*v_zwf - v_pfk - lam*f6p\n",
    "    ydot[2] = v_ino1 - v_tm - v_miox - lam*mi\n",
    "    ydot[3] = u_ino1_mi  - lam*ino1\n",
    "    ydot[4] = u_miox_mi - lam*miox\n",
    "    ydot[5] = (v_pts - v_miox)**2\n",
    "    ydot[6] = u_ino1_mi + u_miox_mi"
   ]
  },
  {
   "cell_type": "code",
   "execution_count": 10,
   "metadata": {},
   "outputs": [
    {
     "name": "stdout",
     "output_type": "stream",
     "text": [
      "13711.611097469004 0.061633502383544286 0.13773244599852547\n"
     ]
    },
    {
     "data": {
      "text/plain": [
       "Text(0, 0.5, 'Concentrations')"
      ]
     },
     "execution_count": 10,
     "metadata": {},
     "output_type": "execute_result"
    },
    {
     "data": {
      "image/png": "[encoded data removed]",
      "text/plain": [
       "<Figure size 432x288 with 1 Axes>"
      ]
     },
     "metadata": {
      "needs_background": "light"
     },
     "output_type": "display_data"
    }
   ],
   "source": [
    "t = np.linspace(0, 5E5, 100) \n",
    "y0 = np.array([0.281, 0.0605, 0., 0., 0., 0., 0.]) #g6p, f6p, mi, ino1, miox\n",
    "\n",
    "architecture = ((0, 1, 0), (1, 0, 0))\n",
    "param_values = ((2.0, 8.46E-01, 1E-7),\n",
    "  (2.0, 0.1, 1E-7))\n",
    "  \n",
    "extra_options = {'old_api': False, 'user_data': [architecture, param_values]}\n",
    "ode_solver = ode('cvode', glucaric_acid, **extra_options)\n",
    "solution = ode_solver.solve(t, y0)\n",
    "\n",
    "j1, j2 = solution.values.y[-1, -2:]\n",
    "j1, j2, loss = loss_biological(j1, j2)\n",
    "print(j1, j2, loss)\n",
    "\n",
    "plt.plot(t, solution.values.y[:, 0], label='g6p')\n",
    "plt.plot(t, solution.values.y[:, 1], label='f6p')\n",
    "plt.plot(t, solution.values.y[:, 2], label='mi')\n",
    "plt.plot(t, solution.values.y[:, 3], label='ino1')\n",
    "plt.plot(t, solution.values.y[:, 4], label='miox')\n",
    "plt.legend()\n",
    "plt.xlabel('Time')\n",
    "plt.ylabel('Concentrations')"
   ]
  },
  {
   "cell_type": "code",
   "execution_count": 22,
   "metadata": {},
   "outputs": [],
   "source": [
    "losses = []\n",
    "params = []\n",
    "circuits = []\n",
    "\n",
    "def objective(args):\n",
    "    architecture, param_values = args\n",
    "    #Integration conditions\n",
    "    t = np.linspace(0, 5E5, 200) \n",
    "    y0 = np.array([0.281, 0.0605, 0., 0., 0. , 0., 0.]) #g6p, f6p, mi, ino1, miox\n",
    "\n",
    "    extra_options = {'old_api': False, 'user_data': [architecture, param_values]}\n",
    "    ode_solver = ode('cvode', glucaric_acid, **extra_options)\n",
    "    solution = ode_solver.solve(t, y0)\n",
    "    j1, j2 = solution.values.y[-1, -2:]\n",
    "    j1, j2, loss = loss_biological(j1, j2, alpha1=1E-5, alpha2=1E-2)\n",
    "\n",
    "    losses.append(loss)\n",
    "    params.append(param_values)\n",
    "    circuits.append(architecture)\n",
    "    return loss\n",
    "    "
   ]
  },
  {
   "cell_type": "code",
   "execution_count": 25,
   "metadata": {},
   "outputs": [
    {
     "name": "stdout",
     "output_type": "stream",
     "text": [
      " 38%|███▊      | 38/100 [00:01<00:02, 23.31trial/s, best loss: 0.0]"
     ]
    },
    {
     "name": "stderr",
     "output_type": "stream",
     "text": [
      "\n",
      "[CVODE ERROR]  CVode\n",
      "  At t = 1191.18, mxstep steps taken before reaching tout.\n",
      "\n"
     ]
    },
    {
     "name": "stdout",
     "output_type": "stream",
     "text": [
      "100%|██████████| 100/100 [00:03<00:00, 25.02trial/s, best loss: 0.0]\n"
     ]
    },
    {
     "data": {
      "text/plain": [
       "(((0, 1, 0), (1, 0, 0)),\n",
       " ((2.0, 7.644160153319337, 1.0599890214536676),\n",
       "  (2.0, 3.552639749552137, 2.565381810571637)))"
      ]
     },
     "execution_count": 25,
     "metadata": {},
     "output_type": "execute_result"
    }
   ],
   "source": [
    "best = fmin(objective, space, algo=tpe.suggest, max_evals=100)\n",
    "space_eval(space, best)"
   ]
  },
  {
   "cell_type": "code",
   "execution_count": null,
   "metadata": {},
   "outputs": [],
   "source": [
    "#Tune alpha values? \n",
    "#CVODE error is resulting in best loss going to zero. Add check for CVODE solution correct and investigate bad cases"
   ]
  }
 ],
 "metadata": {
  "interpreter": {
   "hash": "1c81a53a0ff6cd481fa9e4276883fc41728c044ede2b17046477fd0d4a209b4b"
  },
  "kernelspec": {
   "display_name": "Python 3.9.7 ('sundials')",
   "name": "python3"
  },
  "language_info": {
   "codemirror_mode": {
    "name": "ipython",
    "version": 3
   },
   "file_extension": ".py",
   "mimetype": "text/x-python",
   "name": "python",
   "nbconvert_exporter": "python",
   "pygments_lexer": "ipython3",
   "version": "3.9.7"
  },
  "orig_nbformat": 4
 },
 "nbformat": 4,
 "nbformat_minor": 2
}
