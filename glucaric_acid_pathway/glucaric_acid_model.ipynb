{
 "cells": [
  {
   "cell_type": "code",
   "execution_count": 2,
   "metadata": {},
   "outputs": [],
   "source": [
    "import numpy as np\n",
    "from hyperopt import hp, fmin, tpe, space_eval\n",
    "from scikits.odes.ode import ode\n",
    "import matplotlib.pyplot as plt\n",
    "import pandas as pd"
   ]
  },
  {
   "cell_type": "code",
   "execution_count": 22,
   "metadata": {},
   "outputs": [],
   "source": [
    "space = hp.choice('architecture', \n",
    "    [([[0, 0, 1], [1, 0, 0]], [[2., hp.uniform('theta1_da', 1E-7, 10), hp.uniform('k1_da', 1E-7, 5)], [2., hp.uniform('theta2_da', 1E-7, 10), hp.uniform('k2_da', 1E-7, 5)]]),\n",
    "     ([[0, 1, 0], [0, 0, 1]], [[2., hp.uniform('theta1_ur', 1E-7, 10), hp.uniform('k1_ur', 1E-7, 5)], [2., hp.uniform('theta2_ur', 1E-7, 10), hp.uniform('k2_ur', 1E-7, 5)]]),\n",
    "     ([[0, 0, 1], [0, 0, 1]], [[2., hp.uniform('theta1_nc', 1E-7, 10), hp.uniform('k1_nc', 1E-7, 5)], [2., hp.uniform('theta2_nc', 1E-7, 10), hp.uniform('k2_nc', 1E-7, 5)]]),\n",
    "     ([[0, 1, 0], [1, 0, 0]], [[2., hp.uniform('theta1_dc', 1E-7, 10), hp.uniform('k1_dc', 1E-7, 5)], [2., hp.uniform('theta2_dc', 1E-7, 10), hp.uniform('k2_dc', 1E-7, 5)]])])\n",
    "    "
   ]
  },
  {
   "cell_type": "code",
   "execution_count": 4,
   "metadata": {},
   "outputs": [],
   "source": [
    "def michaelismenten(x, vm, km):\n",
    "    return (vm*x)/(km+x)\n",
    "\n",
    "def reversible_michaelismenten(x, y, vm, keq, kmx, kmy):\n",
    "    return (vm*(x - (y/keq)))/(x + kmx*(1+(y/kmy)))\n",
    "\n",
    "def hilleqn(x, vm, n, km):\n",
    "    return (vm*x**n)/(km**n + x**n)\n",
    "\n",
    "def michaelismenten_substrateactivation(x, vm, km, a, ka):\n",
    "    vm_eff = vm * (1+ (a*x)/(ka + x))\n",
    "    return (vm_eff*x)/(km  + x)\n",
    "\n",
    "def activation(x, k, theta, n):\n",
    "    return (k*x**n)/(theta**n + x**n)\n",
    "    \n",
    "def repression(x, k, theta, n):\n",
    "    return (k*theta**n)/(theta**n + x**n)\n",
    "    \n",
    "def loss_biological(j1, j2, alpha1=1E-5, alpha2=1E-2):\n",
    "    loss = alpha1*j1 + alpha2*j2\n",
    "    return j1, j2, loss"
   ]
  },
  {
   "cell_type": "code",
   "execution_count": 5,
   "metadata": {},
   "outputs": [],
   "source": [
    "# Set architecture equations\n",
    "def glucaric_acid(t, y, ydot, params):\n",
    "    ## Establish constants\n",
    "    lam = 2.7778E-05\n",
    "    v_pts = 0.1656\n",
    "    vm_pgi = 0.8751\n",
    "    keq_pgi = 0.3\n",
    "    km_pgi_g6p = 0.28\n",
    "    km_pgi_f6p = 0.147\n",
    "    vm_zwf = 0.0853\n",
    "    km_zwf_g6p = 0.1\n",
    "    vm_pfk = 2.615\n",
    "    km_pfk_f6p = 0.16\n",
    "    n_pfk = 3\n",
    "    vm_ino1 = 0.2616\n",
    "    km_ino1_g6p = 1.18\n",
    "    vm_t_mi = 0.045\n",
    "    km_t_mi = 15\n",
    "    vm_miox = 0.2201\n",
    "    km_miox_mi = 24.7\n",
    "    a_miox = 5.4222\n",
    "    ka_miox_mi = 20\n",
    "    \n",
    "    A, W = params\n",
    "\n",
    "    v_zwf = michaelismenten(y[0], vm_zwf, km_zwf_g6p)\n",
    "    v_pgi = reversible_michaelismenten(y[0], y[1], vm_pgi, keq_pgi, km_pgi_g6p, km_pgi_f6p)\n",
    "    v_ino1 = y[3]*michaelismenten(y[0], vm_ino1, km_ino1_g6p)\n",
    "    ydot[0] = v_pts - v_zwf - v_pgi - v_ino1 - lam*y[0]\n",
    "\n",
    "    v_pfk = hilleqn(y[1], vm_pfk, n_pfk, km_pfk_f6p)\n",
    "    ydot[1] = v_pgi + 0.5 * v_zwf - v_pfk - lam*y[1]\n",
    "\n",
    "    #MI\n",
    "    v_tm = michaelismenten(y[2], vm_t_mi, km_t_mi)\n",
    "    v_miox = y[4] *michaelismenten_substrateactivation(y[2], vm_miox, km_miox_mi, a_miox, ka_miox_mi)\n",
    "    ydot[2] = v_ino1 - v_tm - v_miox - lam*y[2]\n",
    "\n",
    "    #Ino1\n",
    "    u_ino1_mi = np.sum(A[0]*np.array([activation(y[2], W[0][2], W[0][1], W[0][0]), repression(y[2], W[0][2], W[0][1], W[0][0]), W[0][2]]))\n",
    "    ydot[3] = u_ino1_mi - lam*y[3]\n",
    "    \n",
    "    #MIOX\n",
    "    u_miox_mi = np.sum(A[1]*np.array([activation(y[2], W[1][2], W[1][1], W[1][0]), repression(y[2], W[1][2], W[1][1], W[1][0]), W[1][2]]))\n",
    "    ydot[4] = u_miox_mi - lam*y[4]\n",
    "\n",
    "    #J1, J2\n",
    "    ydot[5] = (v_pts - v_miox)**2\n",
    "    ydot[6] = u_ino1_mi + u_miox_mi"
   ]
  },
  {
   "cell_type": "code",
   "execution_count": 6,
   "metadata": {},
   "outputs": [],
   "source": [
    "losses = []\n",
    "params = []\n",
    "circuits = []\n",
    "\n",
    "def objective(args):\n",
    "    architecture, param_values = args\n",
    "    #Integration conditions\n",
    "    t = np.linspace(0, 5E5, 200) \n",
    "    y0 = np.array([0.1, 0.1, 0., 0., 0., 0. , 0.]) #g6p, f6p, mi, ino1, miox\n",
    "\n",
    "    extra_options = {'old_api': False, 'user_data': [architecture, param_values]}\n",
    "    ode_solver = ode('cvode', glucaric_acid, **extra_options)\n",
    "    solution = ode_solver.solve(t, y0)\n",
    "    j1, j2 = solution.values.y[-1, -2:]\n",
    "    j1, j2, loss = loss_biological(j1, j2)\n",
    "\n",
    "    losses.append(loss)\n",
    "    params.append(param_values)\n",
    "    circuits.append(architecture)\n",
    "    return loss\n",
    "    "
   ]
  },
  {
   "cell_type": "code",
   "execution_count": 7,
   "metadata": {},
   "outputs": [
    {
     "name": "stdout",
     "output_type": "stream",
     "text": [
      "100%|██████████| 1/1 [00:00<00:00, 12.64trial/s, best loss: 0.0]\n"
     ]
    },
    {
     "name": "stderr",
     "output_type": "stream",
     "text": [
      "\n",
      "[CVODE ERROR]  CVode\n",
      "  At t = 932.439, mxstep steps taken before reaching tout.\n",
      "\n"
     ]
    },
    {
     "data": {
      "text/plain": [
       "(((0, 1, 0), (0, 0, 1)),\n",
       " ((2.0, 7.190827942989804, 2.8126777279865944),\n",
       "  (2.0, 3.337099476515815, 2.6155762057317804)))"
      ]
     },
     "execution_count": 7,
     "metadata": {},
     "output_type": "execute_result"
    }
   ],
   "source": [
    "best = fmin(objective, space, algo=tpe.suggest, max_evals=1)\n",
    "space_eval(space, best)"
   ]
  },
  {
   "cell_type": "code",
   "execution_count": 8,
   "metadata": {},
   "outputs": [],
   "source": [
    "def glucaric_acid(t, y, ydot, params):\n",
    "\n",
    "    lam = 2.7778E-05\n",
    "    v_pts = 0.1656\n",
    "    vm_pgi = 0.8751\n",
    "    keq_pgi = 0.3\n",
    "    km_pgi_g6p = 0.28\n",
    "    km_pgi_f6p = 0.147\n",
    "    vm_zwf = 0.0853\n",
    "    km_zwf_g6p = 0.1\n",
    "    vm_pfk = 2.615\n",
    "    km_pfk_f6p = 0.16\n",
    "    n_pfk = 3\n",
    "    vm_ino1 = 0.2616\n",
    "    km_ino1_g6p = 1.18\n",
    "    vm_t_mi = 0.045\n",
    "    km_t_mi = 15\n",
    "    vm_miox = 0.2201\n",
    "    km_miox_mi = 24.7\n",
    "    a_miox = 5.4222\n",
    "    ka_miox_mi = 20\n",
    "\n",
    "\n",
    "    g6p, f6p, mi, ino1, miox, j1, j2 = y\n",
    "\n",
    "    A, W = params \n",
    "\n",
    "    n_ino1, theta_ino1, k_ino1 = W[0]\n",
    "    n_miox, theta_miox, k_miox = W[1]\n",
    "\n",
    "    v_pgi = reversible_michaelismenten(g6p, f6p, vm_pgi, keq_pgi, km_pgi_g6p, km_pgi_f6p)\n",
    "    v_zwf = michaelismenten(g6p, vm_zwf, km_zwf_g6p)\n",
    "    v_pfk = hilleqn(f6p, vm_pfk, n_pfk, km_pfk_f6p)\n",
    "    v_ino1 = ino1 * michaelismenten(g6p, vm_ino1, km_ino1_g6p)\n",
    "    v_tm = michaelismenten(mi, vm_t_mi, km_t_mi)\n",
    "    v_miox = miox * michaelismenten_substrateactivation(mi, vm_miox, km_miox_mi, a_miox, ka_miox_mi)\n",
    "\n",
    "    u_ino1_mi = np.sum(A[0]*np.array([activation(mi, k_ino1, theta_ino1, n_ino1), repression(mi, k_ino1, theta_ino1, n_ino1), k_ino1]))\n",
    "    u_miox_mi = np.sum(A[1]*np.array([activation(mi, k_miox, theta_miox, n_miox), repression(mi, k_miox, theta_miox, n_miox), k_miox]))\n",
    "\n",
    "    ydot[0] = v_pts - v_zwf - v_pgi - lam*g6p\n",
    "    ydot[1] = v_pgi + 0.5*v_zwf - v_pfk - lam*f6p\n",
    "    ydot[2] = v_ino1 - v_tm - v_miox - lam*mi\n",
    "    ydot[3] = u_ino1_mi  - lam*ino1\n",
    "    ydot[4] = u_miox_mi - lam*miox\n",
    "    ydot[5] = (v_pts - v_miox)**2\n",
    "    ydot[6] = u_ino1_mi + u_miox_mi"
   ]
  },
  {
   "cell_type": "code",
   "execution_count": 9,
   "metadata": {},
   "outputs": [
    {
     "name": "stdout",
     "output_type": "stream",
     "text": [
      "13711.611097469004 0.061633502383544286 0.13773244599852547\n"
     ]
    },
    {
     "data": {
      "text/plain": [
       "Text(0, 0.5, 'Concentrations')"
      ]
     },
     "execution_count": 9,
     "metadata": {},
     "output_type": "execute_result"
    },
    {
     "data": {
      "image/png": "[encoded data removed]",
      "text/plain": [
       "<Figure size 432x288 with 1 Axes>"
      ]
     },
     "metadata": {
      "needs_background": "light"
     },
     "output_type": "display_data"
    }
   ],
   "source": [
    "t = np.linspace(0, 5E5, 100) \n",
    "y0 = np.array([0.281, 0.0605, 0., 0., 0., 0., 0.]) #g6p, f6p, mi, ino1, miox\n",
    "\n",
    "architecture = ((0, 1, 0), (1, 0, 0))\n",
    "param_values = ((2.0, 8.46E-01, 1E-7),\n",
    "  (2.0, 0.1, 1E-7))\n",
    "  \n",
    "extra_options = {'old_api': False, 'user_data': [architecture, param_values]}\n",
    "ode_solver = ode('cvode', glucaric_acid, **extra_options)\n",
    "solution = ode_solver.solve(t, y0)\n",
    "\n",
    "j1, j2 = solution.values.y[-1, -2:]\n",
    "j1, j2, loss = loss_biological(j1, j2)\n",
    "print(j1, j2, loss)\n",
    "\n",
    "plt.plot(t, solution.values.y[:, 0], label='g6p')\n",
    "plt.plot(t, solution.values.y[:, 1], label='f6p')\n",
    "plt.plot(t, solution.values.y[:, 2], label='mi')\n",
    "plt.plot(t, solution.values.y[:, 3], label='ino1')\n",
    "plt.plot(t, solution.values.y[:, 4], label='miox')\n",
    "plt.legend()\n",
    "plt.xlabel('Time')\n",
    "plt.ylabel('Concentrations')"
   ]
  },
  {
   "cell_type": "code",
   "execution_count": 79,
   "metadata": {},
   "outputs": [],
   "source": [
    "losses = []\n",
    "params = []\n",
    "circuits = []\n",
    "sols = []\n",
    "def objective(args):\n",
    "    architecture, param_values = args\n",
    "    #Integration conditions\n",
    "    t = np.linspace(0, 5E5, 200) \n",
    "    y0 = np.array([0.281, 0.0605, 0., 0., 0. , 0., 0.]) #g6p, f6p, mi, ino1, miox\n",
    "\n",
    "    extra_options = {'old_api': False, 'user_data': [architecture, param_values], 'rtol':1E-3}\n",
    "    ode_solver = ode('cvode', glucaric_acid, **extra_options)\n",
    "    solution = ode_solver.solve(t, y0)\n",
    "    j1, j2 = solution.values.y[-1, -2:]\n",
    "    j1, j2, loss = loss_biological(j1, j2, alpha1=1E-5, alpha2=1E-3)\n",
    "    losses.append(loss)\n",
    "    params.append(param_values)\n",
    "    circuits.append(architecture)\n",
    "    return loss\n",
    "    "
   ]
  },
  {
   "cell_type": "code",
   "execution_count": 80,
   "metadata": {},
   "outputs": [
    {
     "name": "stdout",
     "output_type": "stream",
     "text": [
      "100%|██████████| 1000/1000 [00:33<00:00, 29.86trial/s, best loss: 0.16444311454488963]\n"
     ]
    },
    {
     "data": {
      "text/plain": [
       "(((0, 1, 0), (1, 0, 0)),\n",
       " ((2.0, 4.6228644087091325e-05, 0.5466284503406957),\n",
       "  (2.0, 7.757728679846037, 1.3738796193726306)))"
      ]
     },
     "execution_count": 80,
     "metadata": {},
     "output_type": "execute_result"
    }
   ],
   "source": [
    "best = fmin(objective, space, algo=tpe.suggest, max_evals=1000)\n",
    "space_eval(space, best)"
   ]
  },
  {
   "cell_type": "code",
   "execution_count": 81,
   "metadata": {},
   "outputs": [],
   "source": [
    "evals = pd.DataFrame({'circuit':circuits, 'loss': losses, 'k1': [params[i][0][0] for i in range(len(params))], 'k2': [params[i][1][0] for i in range(len(params))], 'theta1': [params[i][0][1] for i in range(len(params))], 'theta2': [params[i][1][1] for i in range(len(params))]})"
   ]
  },
  {
   "cell_type": "code",
   "execution_count": 83,
   "metadata": {},
   "outputs": [],
   "source": [
    "def name_converter(A):\n",
    "    if A == '((0, 1, 0), (1, 0, 0))':\n",
    "        return 'Dual Control'\n",
    "\n",
    "    elif A == '((0, 0, 1), (0, 0, 1))':\n",
    "        return 'No Control'\n",
    "\n",
    "    elif A == '((0, 0, 1), (1, 0, 0))':\n",
    "        return 'Downstream Activation'\n",
    "\n",
    "    elif A == '((0, 1, 0), (0, 0, 1))':\n",
    "        return 'Upstream Repression'\n",
    "    else: return 'Invalid Circuit'\n",
    "    \n",
    "evals['circuit'] = [str(evals.circuit[i]) for i in range(len(evals))]\n",
    "evals['Circuit'] = [name_converter(evals.circuit[i]) for i in range(len(evals))]"
   ]
  },
  {
   "cell_type": "code",
   "execution_count": 84,
   "metadata": {},
   "outputs": [],
   "source": [
    "best_loss = 1000\n",
    "best_circuit = 'Initial'\n",
    "best_losses = []\n",
    "best_losses_circuits = []\n",
    "for i in range(len(evals)):\n",
    "    if evals.loss[i] < best_loss:\n",
    "        best_loss = evals.loss[i]\n",
    "        best_circuit = evals.Circuit[i]\n",
    "    best_losses.append(best_loss)\n",
    "    best_losses_circuits.append(best_circuit)"
   ]
  },
  {
   "cell_type": "code",
   "execution_count": 85,
   "metadata": {},
   "outputs": [
    {
     "name": "stderr",
     "output_type": "stream",
     "text": [
      "/Users/charlotte/opt/anaconda3/envs/sundials/lib/python3.9/site-packages/seaborn/_decorators.py:36: FutureWarning: Pass the following variables as keyword args: x, y. From version 0.12, the only valid positional argument will be `data`, and passing other arguments without an explicit keyword will result in an error or misinterpretation.\n",
      "  warnings.warn(\n"
     ]
    },
    {
     "data": {
      "text/plain": [
       "<matplotlib.axes._subplots.AxesSubplot at 0x7f7d8a774c10>"
      ]
     },
     "execution_count": 85,
     "metadata": {},
     "output_type": "execute_result"
    },
    {
     "data": {
      "image/png": "[encoded data removed]",
      "text/plain": [
       "<Figure size 432x288 with 1 Axes>"
      ]
     },
     "metadata": {
      "needs_background": "light"
     },
     "output_type": "display_data"
    }
   ],
   "source": [
    "import seaborn as sns\n",
    "sns.scatterplot(range(len(landscape)), best_losses, hue=best_losses_circuits)"
   ]
  },
  {
   "cell_type": "code",
   "execution_count": null,
   "metadata": {},
   "outputs": [],
   "source": [
    "#Tune alpha values? \n",
    "#CVODE error is resulting in best loss going to zero. Add check for CVODE solution correct and investigate bad cases"
   ]
  },
  {
   "cell_type": "code",
   "execution_count": null,
   "metadata": {},
   "outputs": [],
   "source": []
  }
 ],
 "metadata": {
  "interpreter": {
   "hash": "07c32881fdddda18fc4efdca8ccb6859d747bae1937efa0776c98adbd36477b4"
  },
  "kernelspec": {
   "display_name": "Python 3.9.7 ('sundials')",
   "language": "python",
   "name": "python3"
  },
  "language_info": {
   "codemirror_mode": {
    "name": "ipython",
    "version": 3
   },
   "file_extension": ".py",
   "mimetype": "text/x-python",
   "name": "python",
   "nbconvert_exporter": "python",
   "pygments_lexer": "ipython3",
   "version": "3.9.7"
  },
  "orig_nbformat": 4
 },
 "nbformat": 4,
 "nbformat_minor": 2
}
