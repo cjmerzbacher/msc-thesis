{
 "cells": [
  {
   "cell_type": "code",
   "execution_count": 71,
   "metadata": {},
   "outputs": [],
   "source": [
    "#Import external packages\n",
    "import matplotlib.pyplot as plt\n",
    "import numpy as np\n",
    "import time\n",
    "import pandas as pd\n",
    "\n",
    "from scipy.integrate import odeint as ode\n",
    "from scipy.optimize import minimize\n",
    "from scipy.optimize import Bounds"
   ]
  },
  {
   "cell_type": "code",
   "execution_count": 2,
   "metadata": {},
   "outputs": [],
   "source": [
    "#Import local functions\n",
    "sys.path.append('../functions')\n",
    "from functions import dual_control_scipy, loss_biological, upstream_repression_scipy, downstream_activation_scipy"
   ]
  },
  {
   "cell_type": "code",
   "execution_count": 3,
   "metadata": {},
   "outputs": [],
   "source": [
    "#Establish hyperparameters\n",
    "alpha1 = 1E-5\n",
    "alpha2 = 1E-2\n",
    "\n",
    "int_time = 5E4\n",
    "t = np.linspace(0, int_time, 100) \n",
    "y0 = np.array([2290., 0., 0., 0., 0., 0.]) "
   ]
  },
  {
   "cell_type": "code",
   "execution_count": 9,
   "metadata": {},
   "outputs": [],
   "source": [
    "#Wrap the solver in a function to pass to optimizer\n",
    "def solve_point(x, function=dual_control_scipy):\n",
    "    n1, n2, theta1, theta2, k1, k2 = x\n",
    "    pred = ode(function, y0, t, args=(n1, n2, theta1, theta2, k1, k2))\n",
    "    j1, j2, loss = loss_biological(pred, alpha1=alpha1, alpha2=alpha2)\n",
    "    losses.append(loss)\n",
    "    return loss"
   ]
  },
  {
   "cell_type": "code",
   "execution_count": 5,
   "metadata": {},
   "outputs": [],
   "source": [
    "#Establish bounds on parameters\n",
    "bounds = Bounds([1, 1, 0.001, 0.001, 1E-7, 1E-7], [4, 4, 100, 100, 0.001, 0.001])"
   ]
  },
  {
   "cell_type": "code",
   "execution_count": 35,
   "metadata": {},
   "outputs": [],
   "source": [
    "#Create results dataframe\n",
    "results = pd.DataFrame(columns=['function', 'n1_i', 'n2_i', 'theta1_i', 'theta2_i', 'k1_i', 'k2_i', \n",
    "                                'n1_i', 'n2_i', 'theta1_i', 'theta2_i', 'k1_i', 'k2_i', 'n_iters', 'elapsed_time', 'final_loss', 'losses'])"
   ]
  },
  {
   "cell_type": "code",
   "execution_count": 36,
   "metadata": {},
   "outputs": [
    {
     "name": "stdout",
     "output_type": "stream",
     "text": [
      "Final Parameter Values: n1= 1.92 n2= 1.96 theta1= 23.7 theta2= 0.0 k1= 0.00012 k2= 2e-05\n",
      "Final Loss Value: 0.06988800285914862\n",
      "Number of Iterations: 231\n"
     ]
    }
   ],
   "source": [
    "#Perform constrained optimization\n",
    "function = dual_control_scipy\n",
    "initial_params = [2, 2, 0.1, 0.1, 0.0001, 0.0001]\n",
    "\n",
    "losses = []\n",
    "start_time = time.time()\n",
    "res = minimize(solve_point, initial_params, args=(function), method='TNC', bounds=bounds, tol=1e-10)\n",
    "elapsed_time = time.time() - start_time\n",
    "print('Final Parameter Values: n1=', round(res.x[0],2), 'n2=', round(res.x[1],2), 'theta1=', round(res.x[2],2), \n",
    "        'theta2=', round(res.x[3],2), 'k1=', round(res.x[4],5), 'k2=', round(res.x[5],5))\n",
    "print('Final Loss Value:', losses[-1])\n",
    "print('Number of Iterations:', res.nfev)\n",
    "ur_losses = losses\n",
    "\n",
    "row = [str(function).split(' ')[1], initial_params[0], initial_params[1], initial_params[2], initial_params[3], initial_params[4], initial_params[5],\n",
    "                        res.x[0], res.x[1], res.x[2], res.x[3], res.x[4], res.x[5], res.nfev, elapsed_time, losses[-1], losses]\n",
    "results.loc[len(results)] = row"
   ]
  },
  {
   "cell_type": "code",
   "execution_count": 37,
   "metadata": {},
   "outputs": [
    {
     "name": "stdout",
     "output_type": "stream",
     "text": [
      "Final Parameter Values: n1= 1.99 n2= 2.0 theta1= 0.62 theta2= 0.1 k1= 7e-05 k2= 0.00041\n",
      "Final Loss Value: 0.04879013494243534\n",
      "Number of Iterations: 539\n"
     ]
    },
    {
     "name": "stderr",
     "output_type": "stream",
     "text": [
      "/Users/charlotte/opt/anaconda3/envs/thesis/lib/python3.9/site-packages/scipy/integrate/odepack.py:247: ODEintWarning: Excess work done on this call (perhaps wrong Dfun type). Run with full_output = 1 to get quantitative information.\n",
      "  warnings.warn(warning_msg, ODEintWarning)\n"
     ]
    },
    {
     "name": "stdout",
     "output_type": "stream",
     "text": [
      "Final Parameter Values: n1= 2.0 n2= 1.7 theta1= 0.1 theta2= 100.0 k1= 0.00039 k2= 4e-05\n",
      "Final Loss Value: 0.02484411916004015\n",
      "Number of Iterations: 483\n"
     ]
    }
   ],
   "source": [
    "#Solve UR and DA systems\n",
    "\n",
    "function = upstream_repression_scipy\n",
    "initial_params = [2, 2, 0.1, 0.1, 0.0001, 0.0001]\n",
    "\n",
    "losses = []\n",
    "start_time = time.time()\n",
    "res = minimize(solve_point, initial_params, args=(function), method='TNC', bounds=bounds, tol=1e-10)\n",
    "elapsed_time = time.time() - start_time\n",
    "print('Final Parameter Values: n1=', round(res.x[0],2), 'n2=', round(res.x[1],2), 'theta1=', round(res.x[2],2), \n",
    "        'theta2=', round(res.x[3],2), 'k1=', round(res.x[4],5), 'k2=', round(res.x[5],5))\n",
    "print('Final Loss Value:', losses[-1])\n",
    "print('Number of Iterations:', res.nfev)\n",
    "ur_losses = losses\n",
    "\n",
    "row = [str(function).split(' ')[1], initial_params[0], initial_params[1], initial_params[2], initial_params[3], initial_params[4], initial_params[5],\n",
    "                        res.x[0], res.x[1], res.x[2], res.x[3], res.x[4], res.x[5], res.nfev, elapsed_time, losses[-1], losses]\n",
    "results.loc[len(results)] = row\n",
    "\n",
    "function = downstream_activation_scipy\n",
    "initial_params = [2, 2, 0.1, 0.1, 0.0001, 0.0001]\n",
    "\n",
    "losses = []\n",
    "start_time = time.time()\n",
    "res = minimize(solve_point, initial_params, args=(function), method='TNC', bounds=bounds, tol=1e-10)\n",
    "elapsed_time = time.time() - start_time\n",
    "print('Final Parameter Values: n1=', round(res.x[0],2), 'n2=', round(res.x[1],2), 'theta1=', round(res.x[2],2), \n",
    "        'theta2=', round(res.x[3],2), 'k1=', round(res.x[4],5), 'k2=', round(res.x[5],5))\n",
    "print('Final Loss Value:', losses[-1])\n",
    "print('Number of Iterations:', res.nfev)\n",
    "ur_losses = losses\n",
    "\n",
    "row = [str(function).split(' ')[1], initial_params[0], initial_params[1], initial_params[2], initial_params[3], initial_params[4], initial_params[5],\n",
    "                        res.x[0], res.x[1], res.x[2], res.x[3], res.x[4], res.x[5], res.nfev, elapsed_time, losses[-1], losses]\n",
    "results.loc[len(results)] = row"
   ]
  },
  {
   "cell_type": "code",
   "execution_count": 41,
   "metadata": {},
   "outputs": [
    {
     "data": {
      "text/plain": [
       "Text(0, 0.5, 'Loss Value')"
      ]
     },
     "execution_count": 41,
     "metadata": {},
     "output_type": "execute_result"
    },
    {
     "data": {
      "image/png": "[encoded data removed]",
      "text/plain": [
       "<Figure size 648x432 with 1 Axes>"
      ]
     },
     "metadata": {
      "needs_background": "light"
     },
     "output_type": "display_data"
    }
   ],
   "source": [
    "#Plot loss over time\n",
    "fig, axs = plt.subplots(1, 1, figsize=(9, 6))\n",
    "\n",
    "endpoint = 'Loss over Time'\n",
    "ax = axs\n",
    "for i in range(len(results)):\n",
    "    ax.plot(results.losses[i], label=results.function[i])\n",
    "\n",
    "ax.legend()\n",
    "ax.set_yscale('log')\n",
    "\n",
    "ax.set_title(f'{endpoint}', fontsize=14)\n",
    "ax.set_xlabel('Iteration', fontsize=12)\n",
    "ax.set_ylabel('Loss Value', fontsize=12)"
   ]
  },
  {
   "cell_type": "code",
   "execution_count": 53,
   "metadata": {},
   "outputs": [
    {
     "name": "stderr",
     "output_type": "stream",
     "text": [
      "/Users/charlotte/opt/anaconda3/envs/thesis/lib/python3.9/site-packages/scipy/integrate/odepack.py:247: ODEintWarning: Excess work done on this call (perhaps wrong Dfun type). Run with full_output = 1 to get quantitative information.\n",
      "  warnings.warn(warning_msg, ODEintWarning)\n"
     ]
    },
    {
     "name": "stdout",
     "output_type": "stream",
     "text": [
      "Final Parameter Values: n1= 1.0 n2= 1.0 theta1= 0.98 theta2= 0.0 k1= 0.00067 k2= 3e-05\n",
      "Final Loss Value: 0.06791473126006864\n",
      "Number of Iterations: 602\n",
      "Final Parameter Values: n1= 1.0 n2= 1.0 theta1= 100.0 theta2= 100.0 k1= 6e-05 k2= 0.0001\n",
      "Final Loss Value: 0.058174632091122364\n",
      "Number of Iterations: 322\n",
      "Final Parameter Values: n1= 1.0 n2= 1.06 theta1= 0.12 theta2= 0.5 k1= 0.001 k2= 7e-05\n",
      "Final Loss Value: 0.0831397608707185\n",
      "Number of Iterations: 707\n"
     ]
    },
    {
     "name": "stderr",
     "output_type": "stream",
     "text": [
      "/Users/charlotte/opt/anaconda3/envs/thesis/lib/python3.9/site-packages/scipy/integrate/odepack.py:247: ODEintWarning: Excess work done on this call (perhaps wrong Dfun type). Run with full_output = 1 to get quantitative information.\n",
      "  warnings.warn(warning_msg, ODEintWarning)\n"
     ]
    },
    {
     "name": "stdout",
     "output_type": "stream",
     "text": [
      "Final Parameter Values: n1= 1.0 n2= 1.0 theta1= 100.0 theta2= 100.0 k1= 0.001 k2= 0.001\n",
      "Final Loss Value: 0.08313835998942429\n",
      "Number of Iterations: 56\n",
      "Final Parameter Values: n1= 4.0 n2= 4.0 theta1= 36.08 theta2= 0.0 k1= 5e-05 k2= 3e-05\n",
      "Final Loss Value: 0.06630913154799267\n",
      "Number of Iterations: 385\n"
     ]
    },
    {
     "name": "stderr",
     "output_type": "stream",
     "text": [
      "/Users/charlotte/opt/anaconda3/envs/thesis/lib/python3.9/site-packages/scipy/integrate/odepack.py:247: ODEintWarning: Excess work done on this call (perhaps wrong Dfun type). Run with full_output = 1 to get quantitative information.\n",
      "  warnings.warn(warning_msg, ODEintWarning)\n"
     ]
    },
    {
     "name": "stdout",
     "output_type": "stream",
     "text": [
      "Final Parameter Values: n1= 4.0 n2= 4.0 theta1= 100.0 theta2= 100.0 k1= 0.0001 k2= 4e-05\n",
      "Final Loss Value: 0.06297326359589915\n",
      "Number of Iterations: 133\n",
      "Final Parameter Values: n1= 4.0 n2= 4.0 theta1= 0.07 theta2= 0.0 k1= 0.001 k2= 0.001\n",
      "Final Loss Value: 0.5548054706912838\n",
      "Number of Iterations: 448\n"
     ]
    },
    {
     "name": "stderr",
     "output_type": "stream",
     "text": [
      "/Users/charlotte/opt/anaconda3/envs/thesis/lib/python3.9/site-packages/scipy/integrate/odepack.py:247: ODEintWarning: Excess work done on this call (perhaps wrong Dfun type). Run with full_output = 1 to get quantitative information.\n",
      "  warnings.warn(warning_msg, ODEintWarning)\n"
     ]
    },
    {
     "name": "stdout",
     "output_type": "stream",
     "text": [
      "Final Parameter Values: n1= 4.0 n2= 4.0 theta1= 100.0 theta2= 100.0 k1= 0.001 k2= 0.00021\n",
      "Final Loss Value: 0.4776957923596301\n",
      "Number of Iterations: 693\n"
     ]
    }
   ],
   "source": [
    "#Initialization experiments\n",
    "results = pd.DataFrame(columns=['function', 'n1_i', 'n2_i', 'theta1_i', 'theta2_i', 'k1_i', 'k2_i', \n",
    "                                'n1_f', 'n2_f', 'theta1_f', 'theta2_f', 'k1_f', 'k2_f', 'n_iters', 'elapsed_time', 'final_loss', 'losses'])\n",
    "\n",
    "function = dual_control_scipy\n",
    "params_list = [[1, 1, 0.001, 0.001, 1E-7, 1E-7], [1, 1, 100, 100, 1E-7, 1E-7],\n",
    "                [1, 1, 0.001, 0.001,0.001, 0.001], [1, 1, 100, 100, 0.001, 0.001], \n",
    "                [4, 4, 0.001, 0.001, 1E-7, 1E-7], [4, 4, 100, 100, 1E-7, 1E-7],\n",
    "                [4, 4, 0.001, 0.001, 0.001, 0.001], [4, 4, 100, 100, 0.001, 0.001]]\n",
    "\n",
    "for initial_params in params_list:\n",
    "    losses = []\n",
    "    start_time = time.time()\n",
    "    res = minimize(solve_point, initial_params, args=(function), method='TNC', bounds=bounds, tol=1e-10)\n",
    "    elapsed_time = time.time() - start_time\n",
    "    print('Final Parameter Values: n1=', round(res.x[0],2), 'n2=', round(res.x[1],2), 'theta1=', round(res.x[2],2), \n",
    "            'theta2=', round(res.x[3],2), 'k1=', round(res.x[4],5), 'k2=', round(res.x[5],5))\n",
    "    print('Final Loss Value:', losses[-1])\n",
    "    print('Number of Iterations:', res.nfev)\n",
    "    ur_losses = losses\n",
    "\n",
    "    row = [str(function).split(' ')[1], initial_params[0], initial_params[1], initial_params[2], initial_params[3], initial_params[4], initial_params[5],\n",
    "                            res.x[0], res.x[1], res.x[2], res.x[3], res.x[4], res.x[5], res.nfev, elapsed_time, losses[-1], losses]\n",
    "    results.loc[len(results)] = row\n",
    "\n",
    "\n",
    "\n"
   ]
  },
  {
   "cell_type": "code",
   "execution_count": 64,
   "metadata": {},
   "outputs": [
    {
     "data": {
      "text/plain": [
       "Text(0, 0.5, 'Loss Value')"
      ]
     },
     "execution_count": 64,
     "metadata": {},
     "output_type": "execute_result"
    },
    {
     "data": {
      "image/png": "[encoded data removed]",
      "text/plain": [
       "<Figure size 648x432 with 1 Axes>"
      ]
     },
     "metadata": {
      "needs_background": "light"
     },
     "output_type": "display_data"
    }
   ],
   "source": [
    "#Plot loss over time\n",
    "fig, axs = plt.subplots(1, 1, figsize=(9, 6))\n",
    "\n",
    "endpoint = 'Loss over Time by Initialization'\n",
    "ax = axs\n",
    "for i in range(len(results)):\n",
    "    ax.plot(results.losses[i], label=str([results.iloc[i].n1_i, results.iloc[i].n2_i, results.iloc[i].theta1_i, results.iloc[i].theta2_i, results.iloc[i].k1_i, results.iloc[i].k2_i])[1:-1])\n",
    "\n",
    "ax.legend()\n",
    "ax.set_yscale('log')\n",
    "\n",
    "ax.set_title(f'{endpoint}', fontsize=14)\n",
    "ax.set_xlabel('Iteration', fontsize=12)\n",
    "ax.set_ylabel('Loss Value', fontsize=12)"
   ]
  },
  {
   "cell_type": "code",
   "execution_count": 68,
   "metadata": {},
   "outputs": [
    {
     "name": "stdout",
     "output_type": "stream",
     "text": [
      "Final Parameter Values: n1= 1.92 n2= 1.96 theta1= 23.7 theta2= 0.0 k1= 0.00012 k2= 2e-05\n",
      "Final Loss Value: 0.06988800285914862\n",
      "Number of Iterations: 231\n"
     ]
    }
   ],
   "source": [
    "function = dual_control_scipy\n",
    "initial_params = [2, 2, 0.1, 0.1, 0.0001, 0.0001]\n",
    "\n",
    "losses = []\n",
    "start_time = time.time()\n",
    "res = minimize(solve_point, initial_params, args=(function), method='TNC', bounds=bounds, tol=1e-10)\n",
    "elapsed_time = time.time() - start_time\n",
    "print('Final Parameter Values: n1=', round(res.x[0],2), 'n2=', round(res.x[1],2), 'theta1=', round(res.x[2],2), \n",
    "        'theta2=', round(res.x[3],2), 'k1=', round(res.x[4],5), 'k2=', round(res.x[5],5))\n",
    "print('Final Loss Value:', losses[-1])\n",
    "print('Number of Iterations:', res.nfev)\n",
    "ur_losses = losses\n",
    "\n",
    "row = [str(function).split(' ')[1], initial_params[0], initial_params[1], initial_params[2], initial_params[3], initial_params[4], initial_params[5],\n",
    "                        res.x[0], res.x[1], res.x[2], res.x[3], res.x[4], res.x[5], res.nfev, elapsed_time, losses[-1], losses]\n",
    "results.loc[len(results)] = row\n"
   ]
  },
  {
   "cell_type": "code",
   "execution_count": 69,
   "metadata": {},
   "outputs": [
    {
     "data": {
      "text/html": [
       "<div>\n",
       "<style scoped>\n",
       "    .dataframe tbody tr th:only-of-type {\n",
       "        vertical-align: middle;\n",
       "    }\n",
       "\n",
       "    .dataframe tbody tr th {\n",
       "        vertical-align: top;\n",
       "    }\n",
       "\n",
       "    .dataframe thead th {\n",
       "        text-align: right;\n",
       "    }\n",
       "</style>\n",
       "<table border=\"1\" class=\"dataframe\">\n",
       "  <thead>\n",
       "    <tr style=\"text-align: right;\">\n",
       "      <th></th>\n",
       "      <th>function</th>\n",
       "      <th>n1_i</th>\n",
       "      <th>n2_i</th>\n",
       "      <th>theta1_i</th>\n",
       "      <th>theta2_i</th>\n",
       "      <th>k1_i</th>\n",
       "      <th>k2_i</th>\n",
       "      <th>n1_f</th>\n",
       "      <th>n2_f</th>\n",
       "      <th>theta1_f</th>\n",
       "      <th>theta2_f</th>\n",
       "      <th>k1_f</th>\n",
       "      <th>k2_f</th>\n",
       "      <th>n_iters</th>\n",
       "      <th>elapsed_time</th>\n",
       "      <th>final_loss</th>\n",
       "      <th>losses</th>\n",
       "    </tr>\n",
       "  </thead>\n",
       "  <tbody>\n",
       "    <tr>\n",
       "      <th>0</th>\n",
       "      <td>dual_control_scipy</td>\n",
       "      <td>1</td>\n",
       "      <td>1</td>\n",
       "      <td>0.001</td>\n",
       "      <td>0.001</td>\n",
       "      <td>1.000000e-07</td>\n",
       "      <td>1.000000e-07</td>\n",
       "      <td>1.000000</td>\n",
       "      <td>1.000000</td>\n",
       "      <td>0.984540</td>\n",
       "      <td>0.001000</td>\n",
       "      <td>0.000665</td>\n",
       "      <td>0.000026</td>\n",
       "      <td>602</td>\n",
       "      <td>6.460731</td>\n",
       "      <td>0.067915</td>\n",
       "      <td>[0.5000003482288029, 0.5000003482298485, 0.500...</td>\n",
       "    </tr>\n",
       "    <tr>\n",
       "      <th>1</th>\n",
       "      <td>dual_control_scipy</td>\n",
       "      <td>1</td>\n",
       "      <td>1</td>\n",
       "      <td>100.000</td>\n",
       "      <td>100.000</td>\n",
       "      <td>1.000000e-07</td>\n",
       "      <td>1.000000e-07</td>\n",
       "      <td>1.000000</td>\n",
       "      <td>1.000000</td>\n",
       "      <td>100.000000</td>\n",
       "      <td>99.999353</td>\n",
       "      <td>0.000060</td>\n",
       "      <td>0.000099</td>\n",
       "      <td>322</td>\n",
       "      <td>4.549214</td>\n",
       "      <td>0.058175</td>\n",
       "      <td>[0.4994652324969303, 0.49946523249564956, 0.49...</td>\n",
       "    </tr>\n",
       "    <tr>\n",
       "      <th>2</th>\n",
       "      <td>dual_control_scipy</td>\n",
       "      <td>1</td>\n",
       "      <td>1</td>\n",
       "      <td>0.001</td>\n",
       "      <td>0.001</td>\n",
       "      <td>1.000000e-03</td>\n",
       "      <td>1.000000e-03</td>\n",
       "      <td>1.000273</td>\n",
       "      <td>1.059033</td>\n",
       "      <td>0.117996</td>\n",
       "      <td>0.495189</td>\n",
       "      <td>0.001000</td>\n",
       "      <td>0.000070</td>\n",
       "      <td>707</td>\n",
       "      <td>8.781655</td>\n",
       "      <td>0.083140</td>\n",
       "      <td>[0.6304566807848144, 0.6304566843635948, 0.630...</td>\n",
       "    </tr>\n",
       "    <tr>\n",
       "      <th>3</th>\n",
       "      <td>dual_control_scipy</td>\n",
       "      <td>1</td>\n",
       "      <td>1</td>\n",
       "      <td>100.000</td>\n",
       "      <td>100.000</td>\n",
       "      <td>1.000000e-03</td>\n",
       "      <td>1.000000e-03</td>\n",
       "      <td>1.000000</td>\n",
       "      <td>1.000000</td>\n",
       "      <td>100.000000</td>\n",
       "      <td>100.000000</td>\n",
       "      <td>0.001000</td>\n",
       "      <td>0.001000</td>\n",
       "      <td>56</td>\n",
       "      <td>0.692106</td>\n",
       "      <td>0.083138</td>\n",
       "      <td>[0.0831397608707185, 0.08313835998942429, 0.08...</td>\n",
       "    </tr>\n",
       "    <tr>\n",
       "      <th>4</th>\n",
       "      <td>dual_control_scipy</td>\n",
       "      <td>4</td>\n",
       "      <td>4</td>\n",
       "      <td>0.001</td>\n",
       "      <td>0.001</td>\n",
       "      <td>1.000000e-07</td>\n",
       "      <td>1.000000e-07</td>\n",
       "      <td>3.998000</td>\n",
       "      <td>4.000000</td>\n",
       "      <td>36.083438</td>\n",
       "      <td>0.001000</td>\n",
       "      <td>0.000049</td>\n",
       "      <td>0.000031</td>\n",
       "      <td>385</td>\n",
       "      <td>3.398381</td>\n",
       "      <td>0.066309</td>\n",
       "      <td>[0.5000442343217775, 0.5000442343217607, 0.500...</td>\n",
       "    </tr>\n",
       "    <tr>\n",
       "      <th>5</th>\n",
       "      <td>dual_control_scipy</td>\n",
       "      <td>4</td>\n",
       "      <td>4</td>\n",
       "      <td>100.000</td>\n",
       "      <td>100.000</td>\n",
       "      <td>1.000000e-07</td>\n",
       "      <td>1.000000e-07</td>\n",
       "      <td>4.000000</td>\n",
       "      <td>3.999959</td>\n",
       "      <td>100.000000</td>\n",
       "      <td>99.998456</td>\n",
       "      <td>0.000105</td>\n",
       "      <td>0.000038</td>\n",
       "      <td>133</td>\n",
       "      <td>1.653217</td>\n",
       "      <td>0.062973</td>\n",
       "      <td>[0.5000249845277642, 0.5000249845277679, 0.500...</td>\n",
       "    </tr>\n",
       "    <tr>\n",
       "      <th>6</th>\n",
       "      <td>dual_control_scipy</td>\n",
       "      <td>4</td>\n",
       "      <td>4</td>\n",
       "      <td>0.001</td>\n",
       "      <td>0.001</td>\n",
       "      <td>1.000000e-03</td>\n",
       "      <td>1.000000e-03</td>\n",
       "      <td>3.999696</td>\n",
       "      <td>3.999373</td>\n",
       "      <td>0.069647</td>\n",
       "      <td>0.001000</td>\n",
       "      <td>0.001000</td>\n",
       "      <td>0.000995</td>\n",
       "      <td>448</td>\n",
       "      <td>6.303051</td>\n",
       "      <td>0.554805</td>\n",
       "      <td>[0.9655188136899909, 0.9655188136476919, 0.965...</td>\n",
       "    </tr>\n",
       "    <tr>\n",
       "      <th>7</th>\n",
       "      <td>dual_control_scipy</td>\n",
       "      <td>4</td>\n",
       "      <td>4</td>\n",
       "      <td>100.000</td>\n",
       "      <td>100.000</td>\n",
       "      <td>1.000000e-03</td>\n",
       "      <td>1.000000e-03</td>\n",
       "      <td>4.000000</td>\n",
       "      <td>4.000000</td>\n",
       "      <td>100.000000</td>\n",
       "      <td>100.000000</td>\n",
       "      <td>0.000999</td>\n",
       "      <td>0.000214</td>\n",
       "      <td>693</td>\n",
       "      <td>10.661075</td>\n",
       "      <td>0.477696</td>\n",
       "      <td>[0.5548004916159176, 0.5548054707317406, 0.554...</td>\n",
       "    </tr>\n",
       "    <tr>\n",
       "      <th>8</th>\n",
       "      <td>dual_control_scipy</td>\n",
       "      <td>2</td>\n",
       "      <td>2</td>\n",
       "      <td>0.100</td>\n",
       "      <td>0.100</td>\n",
       "      <td>1.000000e-04</td>\n",
       "      <td>1.000000e-04</td>\n",
       "      <td>1.920970</td>\n",
       "      <td>1.961252</td>\n",
       "      <td>23.700457</td>\n",
       "      <td>0.001000</td>\n",
       "      <td>0.000121</td>\n",
       "      <td>0.000019</td>\n",
       "      <td>231</td>\n",
       "      <td>2.364179</td>\n",
       "      <td>0.069888</td>\n",
       "      <td>[0.3407824266389322, 0.340782427536826, 0.3407...</td>\n",
       "    </tr>\n",
       "  </tbody>\n",
       "</table>\n",
       "</div>"
      ],
      "text/plain": [
       "             function  n1_i  n2_i  theta1_i  theta2_i          k1_i  \\\n",
       "0  dual_control_scipy     1     1     0.001     0.001  1.000000e-07   \n",
       "1  dual_control_scipy     1     1   100.000   100.000  1.000000e-07   \n",
       "2  dual_control_scipy     1     1     0.001     0.001  1.000000e-03   \n",
       "3  dual_control_scipy     1     1   100.000   100.000  1.000000e-03   \n",
       "4  dual_control_scipy     4     4     0.001     0.001  1.000000e-07   \n",
       "5  dual_control_scipy     4     4   100.000   100.000  1.000000e-07   \n",
       "6  dual_control_scipy     4     4     0.001     0.001  1.000000e-03   \n",
       "7  dual_control_scipy     4     4   100.000   100.000  1.000000e-03   \n",
       "8  dual_control_scipy     2     2     0.100     0.100  1.000000e-04   \n",
       "\n",
       "           k2_i      n1_f      n2_f    theta1_f    theta2_f      k1_f  \\\n",
       "0  1.000000e-07  1.000000  1.000000    0.984540    0.001000  0.000665   \n",
       "1  1.000000e-07  1.000000  1.000000  100.000000   99.999353  0.000060   \n",
       "2  1.000000e-03  1.000273  1.059033    0.117996    0.495189  0.001000   \n",
       "3  1.000000e-03  1.000000  1.000000  100.000000  100.000000  0.001000   \n",
       "4  1.000000e-07  3.998000  4.000000   36.083438    0.001000  0.000049   \n",
       "5  1.000000e-07  4.000000  3.999959  100.000000   99.998456  0.000105   \n",
       "6  1.000000e-03  3.999696  3.999373    0.069647    0.001000  0.001000   \n",
       "7  1.000000e-03  4.000000  4.000000  100.000000  100.000000  0.000999   \n",
       "8  1.000000e-04  1.920970  1.961252   23.700457    0.001000  0.000121   \n",
       "\n",
       "       k2_f  n_iters  elapsed_time  final_loss  \\\n",
       "0  0.000026      602      6.460731    0.067915   \n",
       "1  0.000099      322      4.549214    0.058175   \n",
       "2  0.000070      707      8.781655    0.083140   \n",
       "3  0.001000       56      0.692106    0.083138   \n",
       "4  0.000031      385      3.398381    0.066309   \n",
       "5  0.000038      133      1.653217    0.062973   \n",
       "6  0.000995      448      6.303051    0.554805   \n",
       "7  0.000214      693     10.661075    0.477696   \n",
       "8  0.000019      231      2.364179    0.069888   \n",
       "\n",
       "                                              losses  \n",
       "0  [0.5000003482288029, 0.5000003482298485, 0.500...  \n",
       "1  [0.4994652324969303, 0.49946523249564956, 0.49...  \n",
       "2  [0.6304566807848144, 0.6304566843635948, 0.630...  \n",
       "3  [0.0831397608707185, 0.08313835998942429, 0.08...  \n",
       "4  [0.5000442343217775, 0.5000442343217607, 0.500...  \n",
       "5  [0.5000249845277642, 0.5000249845277679, 0.500...  \n",
       "6  [0.9655188136899909, 0.9655188136476919, 0.965...  \n",
       "7  [0.5548004916159176, 0.5548054707317406, 0.554...  \n",
       "8  [0.3407824266389322, 0.340782427536826, 0.3407...  "
      ]
     },
     "execution_count": 69,
     "metadata": {},
     "output_type": "execute_result"
    }
   ],
   "source": [
    "#Compare final values for low loss ones"
   ]
  },
  {
   "cell_type": "code",
   "execution_count": null,
   "metadata": {},
   "outputs": [],
   "source": []
  }
 ],
 "metadata": {
  "interpreter": {
   "hash": "8fee36ad9d78978217c6d83218886f2e57823a4ec68da675ae41cb4d953e9a6e"
  },
  "kernelspec": {
   "display_name": "Python 3.9.7 ('thesis')",
   "name": "python3"
  },
  "language_info": {
   "codemirror_mode": {
    "name": "ipython",
    "version": 3
   },
   "file_extension": ".py",
   "mimetype": "text/x-python",
   "name": "python",
   "nbconvert_exporter": "python",
   "pygments_lexer": "ipython3",
   "version": "3.9.7"
  },
  "orig_nbformat": 4
 },
 "nbformat": 4,
 "nbformat_minor": 2
}
