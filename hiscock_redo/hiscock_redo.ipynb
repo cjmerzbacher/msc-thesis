{
 "cells": [
  {
   "cell_type": "code",
   "execution_count": 1,
   "metadata": {},
   "outputs": [],
   "source": [
    "import numpy as np\n",
    "import matplotlib.pyplot as plt\n",
    "import torch as t"
   ]
  },
  {
   "cell_type": "code",
   "execution_count": 2,
   "metadata": {},
   "outputs": [],
   "source": [
    "#Specify model parameters \n",
    "dt = 0.01 #Time interval for ODE solver\n",
    "N = 300 #Number of timesteps for ODE solver\n",
    "S = 3 #Number of total nodes in network (genes)\n",
    "B = 10 #Batch size\n",
    "\n",
    "#Initialize weights\n",
    "W=np.random.normal(0, 0.1, [S,S])\n",
    "times = np.linspace(0, N, int(N/dt))"
   ]
  },
  {
   "cell_type": "code",
   "execution_count": 25,
   "metadata": {},
   "outputs": [],
   "source": [
    "def phi(x, w):\n",
    "    #returns Sx1 vector\n",
    "    return (1/np.exp(-w@x + 1))\n",
    "\n",
    "def networkFunction(y, I, W):\n",
    "    return phi(y, W) - y + I #Assuming unit degradation matrix k_i = 1\n",
    "\n",
    "def desiredFunction(x):\n",
    "    y = np.zeros_like(x)\n",
    "    y[x>1] = 1\n",
    "    y[x<1] = 0\n",
    "    return y"
   ]
  },
  {
   "cell_type": "code",
   "execution_count": 31,
   "metadata": {},
   "outputs": [],
   "source": [
    "def generateICs(S, B):\n",
    "    y = 0.1*np.ones([S, B]) * np.random.normal(loc=1.0, scale=0.001, size =[S, B]) #SxB\n",
    "    #network input\n",
    "    I = np.zeros([S, B]) #Change this depednding on desired input values\n",
    "    y_hat = desiredFunction(I)\n",
    "    return [y, y_hat, I]"
   ]
  },
  {
   "cell_type": "code",
   "execution_count": 32,
   "metadata": {},
   "outputs": [],
   "source": [
    "def evolveTime(S, B):\n",
    "    y, y_hat, I = generateICs(S, B)\n",
    "    for t in times:\n",
    "        delta = networkFunction(y, I, W)\n",
    "        y = y + delta\n",
    "    return y"
   ]
  },
  {
   "cell_type": "code",
   "execution_count": null,
   "metadata": {},
   "outputs": [],
   "source": []
  },
  {
   "cell_type": "code",
   "execution_count": 48,
   "metadata": {},
   "outputs": [],
   "source": [
    "learning_rate = 0.1\n",
    "betas = (0.02, 0.001)\n",
    "eps = 1e-8\n",
    "#t.optim.Adam(parameters, lr = learning_rate, betas = betas, eps=eps)"
   ]
  }
 ],
 "metadata": {
  "interpreter": {
   "hash": "a8fd889b64f317b5cee5f2aeda42622ebf4f40766de98ac3234655c040aecc33"
  },
  "kernelspec": {
   "display_name": "Python 3.9.7 64-bit ('thesis': conda)",
   "language": "python",
   "name": "python3"
  },
  "language_info": {
   "codemirror_mode": {
    "name": "ipython",
    "version": 3
   },
   "file_extension": ".py",
   "mimetype": "text/x-python",
   "name": "python",
   "nbconvert_exporter": "python",
   "pygments_lexer": "ipython3",
   "version": "3.9.7"
  },
  "orig_nbformat": 4
 },
 "nbformat": 4,
 "nbformat_minor": 2
}
