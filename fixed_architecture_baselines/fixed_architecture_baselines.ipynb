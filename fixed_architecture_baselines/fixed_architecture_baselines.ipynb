{
 "cells": [
  {
   "cell_type": "code",
   "execution_count": 1,
   "metadata": {},
   "outputs": [],
   "source": [
    "import numpy as np\n",
    "from hyperopt import hp, fmin, tpe, space_eval\n",
    "from scikits.odes.ode import ode\n",
    "import matplotlib.pyplot as plt\n",
    "import pandas as pd\n",
    "\n",
    "import seaborn as sns\n",
    "from sklearn.manifold import TSNE\n",
    "from sklearn.preprocessing import StandardScaler\n",
    "from sklearn.decomposition import PCA\n",
    "from matplotlib import colors"
   ]
  },
  {
   "cell_type": "code",
   "execution_count": 2,
   "metadata": {},
   "outputs": [],
   "source": [
    "def michaelismenten(x, vm, km):\n",
    "    return (vm*x)/(km+x)\n",
    "\n",
    "def reversible_michaelismenten(x, y, vm, keq, kmx, kmy):\n",
    "    return (vm*(x - (y/keq)))/(x + kmx*(1+(y/kmy)))\n",
    "\n",
    "def hilleqn(x, vm, n, km):\n",
    "    return (vm*x**n)/(km**n + x**n)\n",
    "\n",
    "def michaelismenten_substrateactivation(x, vm, km, a, ka):\n",
    "    vm_eff = vm * (1+ (a*x)/(ka + x))\n",
    "    return (vm_eff*x)/(km  + x)\n",
    "\n",
    "def activation(x, k, theta, n):\n",
    "    return (k*x**n)/(theta**n + x**n)\n",
    "    \n",
    "def repression(x, k, theta, n):\n",
    "    return (k*theta**n)/(theta**n + x**n)\n",
    "    \n",
    "def loss_biological(j1, j2, alpha1=1E-5, alpha2=1E-2):\n",
    "    loss = alpha1*j1 + alpha2*j2\n",
    "    return j1, j2, loss"
   ]
  },
  {
   "cell_type": "code",
   "execution_count": 3,
   "metadata": {},
   "outputs": [],
   "source": [
    "def glucaric_acid(t, y, ydot, params):\n",
    "\n",
    "    lam = 2.7778E-05\n",
    "    v_pts = 0.1656\n",
    "    vm_pgi = 0.8751\n",
    "    keq_pgi = 0.3\n",
    "    km_pgi_g6p = 0.28\n",
    "    km_pgi_f6p = 0.147\n",
    "    vm_zwf = 0.0853\n",
    "    km_zwf_g6p = 0.1\n",
    "    vm_pfk = 2.615\n",
    "    km_pfk_f6p = 0.16\n",
    "    n_pfk = 3\n",
    "    vm_ino1 = 0.2616\n",
    "    km_ino1_g6p = 1.18\n",
    "    vm_t_mi = 0.045\n",
    "    km_t_mi = 15\n",
    "    vm_miox = 0.2201\n",
    "    km_miox_mi = 24.7\n",
    "    a_miox = 5.4222\n",
    "    ka_miox_mi = 20\n",
    "\n",
    "\n",
    "    g6p, f6p, mi, ino1, miox, j1, j2 = y\n",
    "\n",
    "    A, W = params \n",
    "\n",
    "    n_ino1, theta_ino1, k_ino1 = W[0]\n",
    "    n_miox, theta_miox, k_miox = W[1]\n",
    "\n",
    "    v_pgi = reversible_michaelismenten(g6p, f6p, vm_pgi, keq_pgi, km_pgi_g6p, km_pgi_f6p)\n",
    "    v_zwf = michaelismenten(g6p, vm_zwf, km_zwf_g6p)\n",
    "    v_pfk = hilleqn(f6p, vm_pfk, n_pfk, km_pfk_f6p)\n",
    "    v_ino1 = ino1 * michaelismenten(g6p, vm_ino1, km_ino1_g6p)\n",
    "    v_tm = michaelismenten(mi, vm_t_mi, km_t_mi)\n",
    "    v_miox = miox * michaelismenten_substrateactivation(mi, vm_miox, km_miox_mi, a_miox, ka_miox_mi)\n",
    "\n",
    "    u_ino1_mi = np.sum(A[0]*np.array([activation(mi, k_ino1, theta_ino1, n_ino1), repression(mi, k_ino1, theta_ino1, n_ino1), k_ino1]))\n",
    "    u_miox_mi = np.sum(A[1]*np.array([activation(mi, k_miox, theta_miox, n_miox), repression(mi, k_miox, theta_miox, n_miox), k_miox]))\n",
    "\n",
    "    ydot[0] = v_pts - v_zwf - v_pgi - lam*g6p\n",
    "    ydot[1] = v_pgi + 0.5*v_zwf - v_pfk - lam*f6p\n",
    "    ydot[2] = v_ino1 - v_tm - v_miox - lam*mi\n",
    "    ydot[3] = u_ino1_mi  - lam*ino1\n",
    "    ydot[4] = u_miox_mi - lam*miox\n",
    "    ydot[5] = (v_pts - v_miox)**2\n",
    "    ydot[6] = u_ino1_mi + u_miox_mi"
   ]
  },
  {
   "cell_type": "code",
   "execution_count": 4,
   "metadata": {},
   "outputs": [],
   "source": [
    "def name_converter(A):\n",
    "    if A == '((0, 1, 0), (1, 0, 0))':\n",
    "        return 'Dual Control'\n",
    "\n",
    "    elif A == '((0, 0, 1), (0, 0, 1))':\n",
    "        return 'No Control'\n",
    "\n",
    "    elif A == '((0, 0, 1), (1, 0, 0))':\n",
    "        return 'Downstream Activation'\n",
    "\n",
    "    elif A == '((0, 1, 0), (0, 0, 1))':\n",
    "        return 'Upstream Repression'\n",
    "    else: return 'Invalid Circuit'"
   ]
  },
  {
   "cell_type": "code",
   "execution_count": null,
   "metadata": {},
   "outputs": [],
   "source": [
    "#Multiarch example\n",
    "circuit_name = 'multiarch'\n",
    "space = hp.choice('architecture', \n",
    "    [([[0, 0, 1], [1, 0, 0]], [[2., hp.uniform('theta1_da', 1E-7, 10), hp.uniform('k1_da', 1E-7, 5)], [2., hp.uniform('theta2_da', 1E-7, 10), hp.uniform('k2_da', 1E-7, 5)]]),\n",
    "     ([[0, 1, 0], [0, 0, 1]], [[2., hp.uniform('theta1_ur', 1E-7, 10), hp.uniform('k1_ur', 1E-7, 5)], [2., hp.uniform('theta2_ur', 1E-7, 10), hp.uniform('k2_ur', 1E-7, 5)]]),\n",
    "     ([[0, 0, 1], [0, 0, 1]], [[2., hp.uniform('theta1_nc', 1E-7, 10), hp.uniform('k1_nc', 1E-7, 5)], [2., hp.uniform('theta2_nc', 1E-7, 10), hp.uniform('k2_nc', 1E-7, 5)]]),\n",
    "     ([[0, 1, 0], [1, 0, 0]], [[2., hp.uniform('theta1_dc', 1E-7, 10), hp.uniform('k1_dc', 1E-7, 5)], [2., hp.uniform('theta2_dc', 1E-7, 10), hp.uniform('k2_dc', 1E-7, 5)]])])\n",
    "\n",
    "losses = []\n",
    "params = []\n",
    "circuits = []\n",
    "sols = []\n",
    "def objective(args):\n",
    "    architecture, param_values = args\n",
    "    #Integration conditions\n",
    "    t = np.linspace(0, 5E5, 200) \n",
    "    y0 = np.array([0.281, 0.0605, 0., 0., 0. , 0., 0.]) #g6p, f6p, mi, ino1, miox\n",
    "\n",
    "    extra_options = {'old_api': False, 'user_data': [architecture, param_values], 'rtol':1E-4}\n",
    "    ode_solver = ode('cvode', glucaric_acid, **extra_options)\n",
    "    solution = ode_solver.solve(t, y0)\n",
    "    j1, j2 = solution.values.y[-1, -2:]\n",
    "    j1, j2, loss = loss_biological(j1, j2, alpha1=1E-5, alpha2=1E-3)\n",
    "    losses.append(loss)\n",
    "    params.append(param_values)\n",
    "    circuits.append(architecture)\n",
    "    return loss\n",
    "    \n",
    "best = fmin(objective, space, algo=tpe.suggest, max_evals=2000)\n",
    "\n",
    "landscape = pd.DataFrame({'circuit':circuits, 'loss': losses, 'k1': [params[i][0][2] for i in range(len(params))], 'k2': [params[i][1][2] for i in range(len(params))], 'theta1': [params[i][0][1] for i in range(len(params))], 'theta2': [params[i][1][1] for i in range(len(params))]})\n",
    "landscape['circuit'] = [str(landscape.circuit[i]) for i in range(len(landscape))]\n",
    "landscape['Circuit'] = [name_converter(landscape.circuit[i]) for i in range(len(landscape))]\n",
    "landscape.to_csv(circuit_name+'_2000iters.csv')\n",
    "space_eval(space, best)"
   ]
  },
  {
   "cell_type": "code",
   "execution_count": 5,
   "metadata": {},
   "outputs": [
    {
     "name": "stdout",
     "output_type": "stream",
     "text": [
      "100%|██████████| 2000/2000 [01:02<00:00, 32.02trial/s, best loss: 0.06737966147267688]\n"
     ]
    },
    {
     "data": {
      "text/plain": [
       "(((0, 1, 0), (1, 0, 0)),\n",
       " ((2.0, 1.7045475957953662, 0.10964053215370727),\n",
       "  (2.0, 8.390182793426012, 6.904693261002709e-06)))"
      ]
     },
     "execution_count": 5,
     "metadata": {},
     "output_type": "execute_result"
    }
   ],
   "source": [
    "#Multiarch example\n",
    "circuit_name = 'dual_control'\n",
    "space = hp.choice('architecture', \n",
    "    [#([[0, 0, 1], [1, 0, 0]], [[2., hp.uniform('theta1_da', 1E-7, 10), hp.uniform('k1_da', 1E-7, 5)], [2., hp.uniform('theta2_da', 1E-7, 10), hp.uniform('k2_da', 1E-7, 5)]]),\n",
    "     #([[0, 1, 0], [0, 0, 1]], [[2., hp.uniform('theta1_ur', 1E-7, 10), hp.uniform('k1_ur', 1E-7, 5)], [2., hp.uniform('theta2_ur', 1E-7, 10), hp.uniform('k2_ur', 1E-7, 5)]]),\n",
    "     #([[0, 0, 1], [0, 0, 1]], [[2., hp.uniform('theta1_nc', 1E-7, 10), hp.uniform('k1_nc', 1E-7, 5)], [2., hp.uniform('theta2_nc', 1E-7, 10), hp.uniform('k2_nc', 1E-7, 5)]]),\n",
    "     ([[0, 1, 0], [1, 0, 0]], [[2., hp.uniform('theta1_dc', 1E-7, 10), hp.uniform('k1_dc', 1E-7, 5)], [2., hp.uniform('theta2_dc', 1E-7, 10), hp.uniform('k2_dc', 1E-7, 5)]])])\n",
    "\n",
    "losses = []\n",
    "params = []\n",
    "circuits = []\n",
    "sols = []\n",
    "def objective(args):\n",
    "    architecture, param_values = args\n",
    "    #Integration conditions\n",
    "    t = np.linspace(0, 5E5, 200) \n",
    "    y0 = np.array([0.281, 0.0605, 0., 0., 0. , 0., 0.]) #g6p, f6p, mi, ino1, miox\n",
    "\n",
    "    extra_options = {'old_api': False, 'user_data': [architecture, param_values], 'rtol':1E-4}\n",
    "    ode_solver = ode('cvode', glucaric_acid, **extra_options)\n",
    "    solution = ode_solver.solve(t, y0)\n",
    "    j1, j2 = solution.values.y[-1, -2:]\n",
    "    j1, j2, loss = loss_biological(j1, j2, alpha1=1E-5, alpha2=1E-3)\n",
    "    losses.append(loss)\n",
    "    params.append(param_values)\n",
    "    circuits.append(architecture)\n",
    "    return loss\n",
    "    \n",
    "best = fmin(objective, space, algo=tpe.suggest, max_evals=2000)\n",
    "\n",
    "landscape = pd.DataFrame({'circuit':circuits, 'loss': losses, 'k1': [params[i][0][2] for i in range(len(params))], 'k2': [params[i][1][2] for i in range(len(params))], 'theta1': [params[i][0][1] for i in range(len(params))], 'theta2': [params[i][1][1] for i in range(len(params))]})\n",
    "landscape['circuit'] = [str(landscape.circuit[i]) for i in range(len(landscape))]\n",
    "landscape['Circuit'] = [name_converter(landscape.circuit[i]) for i in range(len(landscape))]\n",
    "landscape.to_csv(circuit_name+'_2000iters.csv')\n",
    "space_eval(space, best)"
   ]
  },
  {
   "cell_type": "code",
   "execution_count": 10,
   "metadata": {},
   "outputs": [
    {
     "name": "stdout",
     "output_type": "stream",
     "text": [
      "100%|██████████| 2000/2000 [01:03<00:00, 31.69trial/s, best loss: 0.07104343419495682]\n"
     ]
    },
    {
     "data": {
      "text/plain": [
       "(((0, 1, 0), (0, 0, 1)),\n",
       " ((2.0, 0.5405800523744403, 2.231836147377414),\n",
       "  (2.0, 0.30196960409832196, 2.907722463580244e-06)))"
      ]
     },
     "execution_count": 10,
     "metadata": {},
     "output_type": "execute_result"
    }
   ],
   "source": [
    "#Multiarch example\n",
    "circuit_name = 'upstream_repression'\n",
    "space = hp.choice('architecture', \n",
    "    [#([[0, 0, 1], [1, 0, 0]], [[2., hp.uniform('theta1_da', 1E-7, 10), hp.uniform('k1_da', 1E-7, 5)], [2., hp.uniform('theta2_da', 1E-7, 10), hp.uniform('k2_da', 1E-7, 5)]])\n",
    "     ([[0, 1, 0], [0, 0, 1]], [[2., hp.uniform('theta1_ur', 1E-7, 10), hp.uniform('k1_ur', 1E-7, 5)], [2., hp.uniform('theta2_ur', 1E-7, 10), hp.uniform('k2_ur', 1E-7, 5)]])\n",
    "     #([[0, 0, 1], [0, 0, 1]], [[2., hp.uniform('theta1_nc', 1E-7, 10), hp.uniform('k1_nc', 1E-7, 5)], [2., hp.uniform('theta2_nc', 1E-7, 10), hp.uniform('k2_nc', 1E-7, 5)]])\n",
    "     #([[0, 1, 0], [1, 0, 0]], [[2., hp.uniform('theta1_dc', 1E-7, 10), hp.uniform('k1_dc', 1E-7, 5)], [2., hp.uniform('theta2_dc', 1E-7, 10), hp.uniform('k2_dc', 1E-7, 5)]])\n",
    "     ])\n",
    "     \n",
    "\n",
    "losses = []\n",
    "params = []\n",
    "circuits = []\n",
    "sols = []\n",
    "def objective(args):\n",
    "    architecture, param_values = args\n",
    "    #Integration conditions\n",
    "    t = np.linspace(0, 5E5, 200) \n",
    "    y0 = np.array([0.281, 0.0605, 0., 0., 0. , 0., 0.]) #g6p, f6p, mi, ino1, miox\n",
    "\n",
    "    extra_options = {'old_api': False, 'user_data': [architecture, param_values], 'rtol':1E-4}\n",
    "    ode_solver = ode('cvode', glucaric_acid, **extra_options)\n",
    "    solution = ode_solver.solve(t, y0)\n",
    "    j1, j2 = solution.values.y[-1, -2:]\n",
    "    j1, j2, loss = loss_biological(j1, j2, alpha1=1E-5, alpha2=1E-3)\n",
    "    losses.append(loss)\n",
    "    params.append(param_values)\n",
    "    circuits.append(architecture)\n",
    "    return loss\n",
    "    \n",
    "best = fmin(objective, space, algo=tpe.suggest, max_evals=2000)\n",
    "\n",
    "landscape = pd.DataFrame({'circuit':circuits, 'loss': losses, 'k1': [params[i][0][2] for i in range(len(params))], 'k2': [params[i][1][2] for i in range(len(params))], 'theta1': [params[i][0][1] for i in range(len(params))], 'theta2': [params[i][1][1] for i in range(len(params))]})\n",
    "landscape['circuit'] = [str(landscape.circuit[i]) for i in range(len(landscape))]\n",
    "landscape['Circuit'] = [name_converter(landscape.circuit[i]) for i in range(len(landscape))]\n",
    "landscape.to_csv(circuit_name+'_2000iters.csv')\n",
    "space_eval(space, best)"
   ]
  },
  {
   "cell_type": "code",
   "execution_count": 12,
   "metadata": {},
   "outputs": [
    {
     "name": "stdout",
     "output_type": "stream",
     "text": [
      "100%|██████████| 2000/2000 [01:04<00:00, 31.23trial/s, best loss: 0.373804954622279]\n"
     ]
    },
    {
     "data": {
      "text/plain": [
       "(((0, 0, 1), (1, 0, 0)),\n",
       " ((2.0, 5.117871627302142, 6.417429827862528e-06),\n",
       "  (2.0, 2.9102507582289996, 0.8714559818228125)))"
      ]
     },
     "execution_count": 12,
     "metadata": {},
     "output_type": "execute_result"
    }
   ],
   "source": [
    "#Multiarch example\n",
    "circuit_name = 'downstream_activation'\n",
    "space = hp.choice('architecture', \n",
    "    [([[0, 0, 1], [1, 0, 0]], [[2., hp.uniform('theta1_da', 1E-7, 10), hp.uniform('k1_da', 1E-7, 5)], [2., hp.uniform('theta2_da', 1E-7, 10), hp.uniform('k2_da', 1E-7, 5)]])\n",
    "     #([[0, 1, 0], [0, 0, 1]], [[2., hp.uniform('theta1_ur', 1E-7, 10), hp.uniform('k1_ur', 1E-7, 5)], [2., hp.uniform('theta2_ur', 1E-7, 10), hp.uniform('k2_ur', 1E-7, 5)]])\n",
    "     #([[0, 0, 1], [0, 0, 1]], [[2., hp.uniform('theta1_nc', 1E-7, 10), hp.uniform('k1_nc', 1E-7, 5)], [2., hp.uniform('theta2_nc', 1E-7, 10), hp.uniform('k2_nc', 1E-7, 5)]])\n",
    "     #([[0, 1, 0], [1, 0, 0]], [[2., hp.uniform('theta1_dc', 1E-7, 10), hp.uniform('k1_dc', 1E-7, 5)], [2., hp.uniform('theta2_dc', 1E-7, 10), hp.uniform('k2_dc', 1E-7, 5)]])\n",
    "     ])\n",
    "     \n",
    "\n",
    "losses = []\n",
    "params = []\n",
    "circuits = []\n",
    "sols = []\n",
    "def objective(args):\n",
    "    architecture, param_values = args\n",
    "    #Integration conditions\n",
    "    t = np.linspace(0, 5E5, 200) \n",
    "    y0 = np.array([0.281, 0.0605, 0., 0., 0. , 0., 0.]) #g6p, f6p, mi, ino1, miox\n",
    "\n",
    "    extra_options = {'old_api': False, 'user_data': [architecture, param_values], 'rtol':1E-4}\n",
    "    ode_solver = ode('cvode', glucaric_acid, **extra_options)\n",
    "    solution = ode_solver.solve(t, y0)\n",
    "    j1, j2 = solution.values.y[-1, -2:]\n",
    "    j1, j2, loss = loss_biological(j1, j2, alpha1=1E-5, alpha2=1E-3)\n",
    "    losses.append(loss)\n",
    "    params.append(param_values)\n",
    "    circuits.append(architecture)\n",
    "    return loss\n",
    "    \n",
    "best = fmin(objective, space, algo=tpe.suggest, max_evals=2000)\n",
    "\n",
    "landscape = pd.DataFrame({'circuit':circuits, 'loss': losses, 'k1': [params[i][0][2] for i in range(len(params))], 'k2': [params[i][1][2] for i in range(len(params))], 'theta1': [params[i][0][1] for i in range(len(params))], 'theta2': [params[i][1][1] for i in range(len(params))]})\n",
    "landscape['circuit'] = [str(landscape.circuit[i]) for i in range(len(landscape))]\n",
    "landscape['Circuit'] = [name_converter(landscape.circuit[i]) for i in range(len(landscape))]\n",
    "landscape.to_csv(circuit_name+'_2000iters.csv')\n",
    "space_eval(space, best)"
   ]
  },
  {
   "cell_type": "code",
   "execution_count": 13,
   "metadata": {},
   "outputs": [
    {
     "name": "stdout",
     "output_type": "stream",
     "text": [
      "100%|██████████| 2000/2000 [01:01<00:00, 32.42trial/s, best loss: 0.6644345538766575]\n"
     ]
    },
    {
     "data": {
      "text/plain": [
       "(((0, 0, 1), (0, 0, 1)),\n",
       " ((2.0, 7.6025800352792885, 0.0002716258769185167),\n",
       "  (2.0, 1.2681953752466693, 0.00019620147581395552)))"
      ]
     },
     "execution_count": 13,
     "metadata": {},
     "output_type": "execute_result"
    }
   ],
   "source": [
    "#Multiarch example\n",
    "circuit_name = 'open_loop'\n",
    "space = hp.choice('architecture', \n",
    "    [#([[0, 0, 1], [1, 0, 0]], [[2., hp.uniform('theta1_da', 1E-7, 10), hp.uniform('k1_da', 1E-7, 5)], [2., hp.uniform('theta2_da', 1E-7, 10), hp.uniform('k2_da', 1E-7, 5)]])\n",
    "     #([[0, 1, 0], [0, 0, 1]], [[2., hp.uniform('theta1_ur', 1E-7, 10), hp.uniform('k1_ur', 1E-7, 5)], [2., hp.uniform('theta2_ur', 1E-7, 10), hp.uniform('k2_ur', 1E-7, 5)]])\n",
    "     ([[0, 0, 1], [0, 0, 1]], [[2., hp.uniform('theta1_nc', 1E-7, 10), hp.uniform('k1_nc', 1E-7, 5)], [2., hp.uniform('theta2_nc', 1E-7, 10), hp.uniform('k2_nc', 1E-7, 5)]])\n",
    "     #([[0, 1, 0], [1, 0, 0]], [[2., hp.uniform('theta1_dc', 1E-7, 10), hp.uniform('k1_dc', 1E-7, 5)], [2., hp.uniform('theta2_dc', 1E-7, 10), hp.uniform('k2_dc', 1E-7, 5)]])\n",
    "     ])\n",
    "     \n",
    "\n",
    "losses = []\n",
    "params = []\n",
    "circuits = []\n",
    "sols = []\n",
    "def objective(args):\n",
    "    architecture, param_values = args\n",
    "    #Integration conditions\n",
    "    t = np.linspace(0, 5E5, 200) \n",
    "    y0 = np.array([0.281, 0.0605, 0., 0., 0. , 0., 0.]) #g6p, f6p, mi, ino1, miox\n",
    "\n",
    "    extra_options = {'old_api': False, 'user_data': [architecture, param_values], 'rtol':1E-4}\n",
    "    ode_solver = ode('cvode', glucaric_acid, **extra_options)\n",
    "    solution = ode_solver.solve(t, y0)\n",
    "    j1, j2 = solution.values.y[-1, -2:]\n",
    "    j1, j2, loss = loss_biological(j1, j2, alpha1=1E-5, alpha2=1E-3)\n",
    "    losses.append(loss)\n",
    "    params.append(param_values)\n",
    "    circuits.append(architecture)\n",
    "    return loss\n",
    "    \n",
    "best = fmin(objective, space, algo=tpe.suggest, max_evals=2000)\n",
    "\n",
    "landscape = pd.DataFrame({'circuit':circuits, 'loss': losses, 'k1': [params[i][0][2] for i in range(len(params))], 'k2': [params[i][1][2] for i in range(len(params))], 'theta1': [params[i][0][1] for i in range(len(params))], 'theta2': [params[i][1][1] for i in range(len(params))]})\n",
    "landscape['circuit'] = [str(landscape.circuit[i]) for i in range(len(landscape))]\n",
    "landscape['Circuit'] = [name_converter(landscape.circuit[i]) for i in range(len(landscape))]\n",
    "landscape.to_csv(circuit_name+'_2000iters.csv')\n",
    "space_eval(space, best)"
   ]
  },
  {
   "cell_type": "code",
   "execution_count": 65,
   "metadata": {},
   "outputs": [],
   "source": [
    "def compute_best_loss(landscape):\n",
    "    best_loss = 1E10\n",
    "    best_losses = []\n",
    "    for i in range(len(landscape)):\n",
    "        if landscape.loss[i] < best_loss:\n",
    "            best_loss = landscape.loss[i]\n",
    "        best_losses.append(best_loss)\n",
    "    return best_losses"
   ]
  },
  {
   "cell_type": "code",
   "execution_count": 26,
   "metadata": {},
   "outputs": [],
   "source": [
    "#Check for number of iterations to convergence\n",
    "da_landscape = pd.read_csv('downstream_activation_2000iters.csv')\n",
    "dc_landscape = pd.read_csv('dual_control_2000iters.csv')\n",
    "nc_landscape = pd.read_csv('open_loop_2000iters.csv')\n",
    "ur_landscape = pd.read_csv('upstream_repression_2000iters.csv')\n",
    "\n",
    "da_landscape['best_loss'] = compute_best_loss(da_landscape)\n",
    "dc_landscape['best_loss'] = compute_best_loss(dc_landscape)\n",
    "nc_landscape['best_loss'] = compute_best_loss(nc_landscape)\n",
    "ur_landscape['best_loss'] = compute_best_loss(ur_landscape)\n",
    "\n",
    "da_landscape['iters'] = range(2000)\n",
    "dc_landscape['iters'] = range(2000)\n",
    "nc_landscape['iters'] = range(2000)\n",
    "ur_landscape['iters'] = range(2000)\n",
    "landscape = pd.concat([da_landscape, dc_landscape, nc_landscape, ur_landscape]).reset_index(drop=True)"
   ]
  },
  {
   "cell_type": "code",
   "execution_count": 191,
   "metadata": {},
   "outputs": [],
   "source": [
    "orders = ['No Control', 'Upstream Repression', 'Downstream Activation', 'Dual Control', 'Multiarchitecture']\n",
    "palette = {'Multiarchitecture': sns.color_palette()[4], 'No Control': sns.color_palette()[3], 'Upstream Repression': sns.color_palette()[1], 'Downstream Activation': sns.color_palette()[2], 'Dual Control': sns.color_palette()[0], 'Initial':'black'}\n"
   ]
  },
  {
   "cell_type": "code",
   "execution_count": 36,
   "metadata": {},
   "outputs": [
    {
     "data": {
      "text/plain": [
       "Text(0.5, 1.0, 'Loss Trajectory over a Single Iteration, Max_Iters = 2000')"
      ]
     },
     "execution_count": 36,
     "metadata": {},
     "output_type": "execute_result"
    },
    {
     "data": {
      "image/png": "[encoded data removed]",
      "text/plain": [
       "<Figure size 1080x432 with 1 Axes>"
      ]
     },
     "metadata": {
      "needs_background": "light"
     },
     "output_type": "display_data"
    }
   ],
   "source": [
    "fig, axs = plt.subplots(1, 1, figsize=(15, 6))\n",
    "endpoint = 'Loss Trajectory over a Single Iteration, Max_Iters = 2000'\n",
    "ax = axs\n",
    "sns.lineplot(data=landscape, x='best_loss', y='iters', hue='Circuit', hue_order=orders, palette=palette)\n",
    "ax.set_xlabel('Function Evaluations', fontsize=14)\n",
    "ax.set_ylabel('Loss Value', fontsize=14)\n",
    "ax.set_title(endpoint, fontsize=14)\n",
    "#ax.set_yscale('log')\n",
    "#fig.savefig('loss_over_iteration.png')"
   ]
  },
  {
   "cell_type": "code",
   "execution_count": 66,
   "metadata": {},
   "outputs": [
    {
     "name": "stdout",
     "output_type": "stream",
     "text": [
      "100%|██████████| 500/500 [00:13<00:00, 38.22trial/s, best loss: 0.3328942507329933]\n",
      "100%|██████████| 500/500 [00:12<00:00, 39.06trial/s, best loss: 9.077115423704276]\n",
      "100%|██████████| 500/500 [00:12<00:00, 39.32trial/s, best loss: 0.5154191422703012]\n",
      "100%|██████████| 500/500 [00:12<00:00, 40.03trial/s, best loss: 3.1811207149795324]\n",
      "100%|██████████| 500/500 [00:12<00:00, 39.30trial/s, best loss: 0.34402282930576866]\n",
      "100%|██████████| 500/500 [00:12<00:00, 40.20trial/s, best loss: 12.976862230096259]\n",
      "100%|██████████| 500/500 [00:12<00:00, 39.89trial/s, best loss: 7.136966934401838]\n",
      "100%|██████████| 500/500 [00:13<00:00, 37.73trial/s, best loss: 0.9402011557525543]\n",
      "100%|██████████| 500/500 [00:12<00:00, 39.24trial/s, best loss: 1.9340200247154347]\n",
      "100%|██████████| 500/500 [00:12<00:00, 38.64trial/s, best loss: 4.039047281012885]\n",
      "100%|██████████| 500/500 [00:13<00:00, 38.46trial/s, best loss: 0.7461054779794921]\n",
      "100%|██████████| 500/500 [00:12<00:00, 38.74trial/s, best loss: 0.5930567372924245]\n",
      "100%|██████████| 500/500 [00:12<00:00, 38.93trial/s, best loss: 0.6507503636508196]\n",
      "100%|██████████| 500/500 [00:12<00:00, 39.89trial/s, best loss: 42.944261043140706]\n",
      "100%|██████████| 500/500 [00:12<00:00, 39.42trial/s, best loss: 1.4199637731284118]\n"
     ]
    }
   ],
   "source": [
    "#Run with 500 iterations 10 times each\n",
    "\n",
    "#Multiarch example\n",
    "circuit_name = 'upstream_repression'\n",
    "space = hp.choice('architecture', \n",
    "    [#([[0, 0, 1], [1, 0, 0]], [[2., hp.uniform('theta1_da', 1E-7, 10), hp.uniform('k1_da', 1E-7, 5)], [2., hp.uniform('theta2_da', 1E-7, 10), hp.uniform('k2_da', 1E-7, 5)]])\n",
    "     ([[0, 1, 0], [0, 0, 1]], [[2., hp.uniform('theta1_ur', 1E-7, 10), hp.uniform('k1_ur', 1E-7, 5)], [2., hp.uniform('theta2_ur', 1E-7, 10), hp.uniform('k2_ur', 1E-7, 5)]])\n",
    "     #([[0, 0, 1], [0, 0, 1]], [[2., hp.uniform('theta1_nc', 1E-7, 10), hp.uniform('k1_nc', 1E-7, 5)], [2., hp.uniform('theta2_nc', 1E-7, 10), hp.uniform('k2_nc', 1E-7, 5)]])\n",
    "     #([[0, 1, 0], [1, 0, 0]], [[2., hp.uniform('theta1_dc', 1E-7, 10), hp.uniform('k1_dc', 1E-7, 5)], [2., hp.uniform('theta2_dc', 1E-7, 10), hp.uniform('k2_dc', 1E-7, 5)]])\n",
    "     ])\n",
    "     \n",
    "    \n",
    "results = pd.DataFrame(columns=['circuit', 'loss', 'k1', 'k2','theta1', 'theta2'])\n",
    "max_iters = 500\n",
    "num_tries = 15\n",
    "for n in range(num_tries):\n",
    "    losses = []\n",
    "    params = []\n",
    "    circuits = []\n",
    "    sols = []\n",
    "    def objective(args):\n",
    "        architecture, param_values = args\n",
    "        #Integration conditions\n",
    "        t = np.linspace(0, 5E5, 200) \n",
    "        y0 = np.array([0.281, 0.0605, 0., 0., 0. , 0., 0.]) #g6p, f6p, mi, ino1, miox\n",
    "\n",
    "        extra_options = {'old_api': False, 'user_data': [architecture, param_values], 'rtol':1E-4}\n",
    "        ode_solver = ode('cvode', glucaric_acid, **extra_options)\n",
    "        solution = ode_solver.solve(t, y0)\n",
    "        j1, j2 = solution.values.y[-1, -2:]\n",
    "        j1, j2, loss = loss_biological(j1, j2, alpha1=1E-5, alpha2=1E-3)\n",
    "        losses.append(loss)\n",
    "        params.append(param_values)\n",
    "        circuits.append(architecture)\n",
    "        return loss\n",
    "    \n",
    "    best = fmin(objective, space, algo=tpe.suggest, max_evals=max_iters)\n",
    "    attempt_res = pd.DataFrame({'circuit':circuits, 'loss': losses, 'k1': [params[i][0][2] for i in range(len(params))], 'k2': [params[i][1][2] for i in range(len(params))], 'theta1': [params[i][0][1] for i in range(len(params))], 'theta2': [params[i][1][1] for i in range(len(params))]})\n",
    "    attempt_res['attempt'] = n\n",
    "    attempt_res['best_loss'] = compute_best_loss(attempt_res)\n",
    "    if losses[-1] == 0.0:\n",
    "        break\n",
    "    results = pd.concat([results,attempt_res])\n",
    "\n",
    "results.to_csv(circuit_name + '_10iterations_best.csv')"
   ]
  },
  {
   "cell_type": "code",
   "execution_count": 67,
   "metadata": {},
   "outputs": [
    {
     "name": "stdout",
     "output_type": "stream",
     "text": [
      "100%|██████████| 500/500 [00:12<00:00, 40.97trial/s, best loss: 61.506533552010374]\n",
      "100%|██████████| 500/500 [00:12<00:00, 40.51trial/s, best loss: 2.4300771405382275]\n",
      "100%|██████████| 500/500 [00:12<00:00, 40.95trial/s, best loss: 1.7906889666601995]\n",
      "100%|██████████| 500/500 [00:12<00:00, 40.94trial/s, best loss: 41.40905992536464]\n",
      "100%|██████████| 500/500 [00:12<00:00, 41.18trial/s, best loss: 8.115420119558097]\n",
      "100%|██████████| 500/500 [00:12<00:00, 40.62trial/s, best loss: 5.318468005163393]\n",
      "100%|██████████| 500/500 [00:12<00:00, 40.65trial/s, best loss: 27.896009186688552]\n",
      "100%|██████████| 500/500 [00:12<00:00, 41.04trial/s, best loss: 165.44972304726696]\n",
      "100%|██████████| 500/500 [00:12<00:00, 40.80trial/s, best loss: 42.876654405510386]\n",
      " 18%|█▊        | 92/500 [00:02<00:10, 40.48trial/s, best loss: 0.0]"
     ]
    },
    {
     "name": "stderr",
     "output_type": "stream",
     "text": [
      "\n",
      "[CVODE ERROR]  CVode\n",
      "  At t = 1960, mxstep steps taken before reaching tout.\n",
      "\n"
     ]
    },
    {
     "name": "stdout",
     "output_type": "stream",
     "text": [
      "100%|██████████| 500/500 [00:12<00:00, 39.50trial/s, best loss: 0.0]\n",
      "100%|██████████| 500/500 [00:12<00:00, 41.27trial/s, best loss: 20.325568131799155]\n"
     ]
    }
   ],
   "source": [
    "#Run with 500 iterations 10 times each\n",
    "\n",
    "#Multiarch example\n",
    "circuit_name = 'no_control'\n",
    "space = hp.choice('architecture', \n",
    "    [#([[0, 0, 1], [1, 0, 0]], [[2., hp.uniform('theta1_da', 1E-7, 10), hp.uniform('k1_da', 1E-7, 5)], [2., hp.uniform('theta2_da', 1E-7, 10), hp.uniform('k2_da', 1E-7, 5)]])\n",
    "     #([[0, 1, 0], [0, 0, 1]], [[2., hp.uniform('theta1_ur', 1E-7, 10), hp.uniform('k1_ur', 1E-7, 5)], [2., hp.uniform('theta2_ur', 1E-7, 10), hp.uniform('k2_ur', 1E-7, 5)]])\n",
    "     ([[0, 0, 1], [0, 0, 1]], [[2., hp.uniform('theta1_nc', 1E-7, 10), hp.uniform('k1_nc', 1E-7, 5)], [2., hp.uniform('theta2_nc', 1E-7, 10), hp.uniform('k2_nc', 1E-7, 5)]])\n",
    "     #([[0, 1, 0], [1, 0, 0]], [[2., hp.uniform('theta1_dc', 1E-7, 10), hp.uniform('k1_dc', 1E-7, 5)], [2., hp.uniform('theta2_dc', 1E-7, 10), hp.uniform('k2_dc', 1E-7, 5)]])\n",
    "     ])\n",
    "     \n",
    "    \n",
    "results = pd.DataFrame(columns=['circuit', 'loss', 'k1', 'k2','theta1', 'theta2'])\n",
    "max_iters = 500\n",
    "num_tries = 11\n",
    "for n in range(num_tries):\n",
    "    losses = []\n",
    "    params = []\n",
    "    circuits = []\n",
    "    sols = []\n",
    "    def objective(args):\n",
    "        architecture, param_values = args\n",
    "        #Integration conditions\n",
    "        t = np.linspace(0, 5E5, 200) \n",
    "        y0 = np.array([0.281, 0.0605, 0., 0., 0. , 0., 0.]) #g6p, f6p, mi, ino1, miox\n",
    "\n",
    "        extra_options = {'old_api': False, 'user_data': [architecture, param_values], 'rtol':1E-4}\n",
    "        ode_solver = ode('cvode', glucaric_acid, **extra_options)\n",
    "        solution = ode_solver.solve(t, y0)\n",
    "        j1, j2 = solution.values.y[-1, -2:]\n",
    "        j1, j2, loss = loss_biological(j1, j2, alpha1=1E-5, alpha2=1E-3)\n",
    "        losses.append(loss)\n",
    "        params.append(param_values)\n",
    "        circuits.append(architecture)\n",
    "        return loss\n",
    "\n",
    "    best = fmin(objective, space, algo=tpe.suggest, max_evals=max_iters)\n",
    "    attempt_res = pd.DataFrame({'circuit':circuits, 'loss': losses, 'k1': [params[i][0][2] for i in range(len(params))], 'k2': [params[i][1][2] for i in range(len(params))], 'theta1': [params[i][0][1] for i in range(len(params))], 'theta2': [params[i][1][1] for i in range(len(params))]})\n",
    "    attempt_res['attempt'] = n\n",
    "    attempt_res['best_loss'] = compute_best_loss(attempt_res)\n",
    "    results = pd.concat([results,attempt_res])\n",
    "    if losses[-1] == 0.0:\n",
    "        break\n",
    "results.to_csv(circuit_name + '_10iterations_best.csv')"
   ]
  },
  {
   "cell_type": "code",
   "execution_count": 68,
   "metadata": {},
   "outputs": [
    {
     "name": "stdout",
     "output_type": "stream",
     "text": [
      "100%|██████████| 500/500 [00:13<00:00, 38.08trial/s, best loss: 2.269605848387789]\n",
      "100%|██████████| 500/500 [00:13<00:00, 37.94trial/s, best loss: 2.442586855204162]\n",
      "100%|██████████| 500/500 [00:13<00:00, 38.13trial/s, best loss: 0.467186996001812]\n",
      "100%|██████████| 500/500 [00:13<00:00, 38.02trial/s, best loss: 3.2554706734499184]\n",
      "100%|██████████| 500/500 [00:13<00:00, 38.40trial/s, best loss: 0.4273620221580156]\n",
      " 38%|███▊      | 189/500 [00:04<00:07, 39.03trial/s, best loss: 0.0]"
     ]
    },
    {
     "name": "stderr",
     "output_type": "stream",
     "text": [
      "\n",
      "[CVODE ERROR]  CVode\n",
      "  At t = 1754.03, mxstep steps taken before reaching tout.\n",
      "\n"
     ]
    },
    {
     "name": "stdout",
     "output_type": "stream",
     "text": [
      "100%|██████████| 500/500 [00:12<00:00, 39.20trial/s, best loss: 0.0]\n",
      "100%|██████████| 500/500 [00:13<00:00, 37.98trial/s, best loss: 1.672512308011928]\n",
      "100%|██████████| 500/500 [00:13<00:00, 38.26trial/s, best loss: 1.77029020756887]\n",
      "100%|██████████| 500/500 [00:13<00:00, 38.29trial/s, best loss: 0.9069035268565347]\n",
      "100%|██████████| 500/500 [00:13<00:00, 37.10trial/s, best loss: 1.0340950924026227]\n",
      "100%|██████████| 500/500 [00:13<00:00, 37.91trial/s, best loss: 2.736989105308022]\n",
      " 10%|▉         | 49/500 [00:01<00:11, 40.30trial/s, best loss: 0.0]"
     ]
    },
    {
     "name": "stderr",
     "output_type": "stream",
     "text": [
      "\n",
      "[CVODE ERROR]  CVode\n",
      "  At t = 1453.69, mxstep steps taken before reaching tout.\n",
      "\n"
     ]
    },
    {
     "name": "stdout",
     "output_type": "stream",
     "text": [
      " 29%|██▊       | 143/500 [00:03<00:09, 37.97trial/s, best loss: 0.0]"
     ]
    },
    {
     "name": "stderr",
     "output_type": "stream",
     "text": [
      "\n",
      "[CVODE ERROR]  CVode\n",
      "  At t = 1601.03, mxstep steps taken before reaching tout.\n",
      "\n"
     ]
    },
    {
     "name": "stdout",
     "output_type": "stream",
     "text": [
      "100%|██████████| 500/500 [00:13<00:00, 36.67trial/s, best loss: 0.0]\n",
      "100%|██████████| 500/500 [00:13<00:00, 38.06trial/s, best loss: 1.9720550180422514]\n",
      "100%|██████████| 500/500 [00:12<00:00, 39.15trial/s, best loss: 1.3356216696287462]\n",
      "100%|██████████| 500/500 [00:13<00:00, 37.13trial/s, best loss: 1.161868135144332]\n"
     ]
    }
   ],
   "source": [
    "#Run with 500 iterations 10 times each\n",
    "\n",
    "#Multiarch example\n",
    "circuit_name = 'downstream_activation'\n",
    "space = hp.choice('architecture', \n",
    "    [([[0, 0, 1], [1, 0, 0]], [[2., hp.uniform('theta1_da', 1E-7, 10), hp.uniform('k1_da', 1E-7, 5)], [2., hp.uniform('theta2_da', 1E-7, 10), hp.uniform('k2_da', 1E-7, 5)]])\n",
    "     #([[0, 1, 0], [0, 0, 1]], [[2., hp.uniform('theta1_ur', 1E-7, 10), hp.uniform('k1_ur', 1E-7, 5)], [2., hp.uniform('theta2_ur', 1E-7, 10), hp.uniform('k2_ur', 1E-7, 5)]])\n",
    "     #([[0, 0, 1], [0, 0, 1]], [[2., hp.uniform('theta1_nc', 1E-7, 10), hp.uniform('k1_nc', 1E-7, 5)], [2., hp.uniform('theta2_nc', 1E-7, 10), hp.uniform('k2_nc', 1E-7, 5)]])\n",
    "     #([[0, 1, 0], [1, 0, 0]], [[2., hp.uniform('theta1_dc', 1E-7, 10), hp.uniform('k1_dc', 1E-7, 5)], [2., hp.uniform('theta2_dc', 1E-7, 10), hp.uniform('k2_dc', 1E-7, 5)]])\n",
    "     ])\n",
    "     \n",
    "    \n",
    "results = pd.DataFrame(columns=['circuit', 'loss', 'k1', 'k2','theta1', 'theta2'])\n",
    "max_iters = 500\n",
    "num_tries = 15\n",
    "for n in range(num_tries):\n",
    "    losses = []\n",
    "    params = []\n",
    "    circuits = []\n",
    "    sols = []\n",
    "    def objective(args):\n",
    "        architecture, param_values = args\n",
    "        #Integration conditions\n",
    "        t = np.linspace(0, 5E5, 200) \n",
    "        y0 = np.array([0.281, 0.0605, 0., 0., 0. , 0., 0.]) #g6p, f6p, mi, ino1, miox\n",
    "\n",
    "        extra_options = {'old_api': False, 'user_data': [architecture, param_values], 'rtol':1E-4}\n",
    "        ode_solver = ode('cvode', glucaric_acid, **extra_options)\n",
    "        solution = ode_solver.solve(t, y0)\n",
    "        j1, j2 = solution.values.y[-1, -2:]\n",
    "        j1, j2, loss = loss_biological(j1, j2, alpha1=1E-5, alpha2=1E-3)\n",
    "        losses.append(loss)\n",
    "        params.append(param_values)\n",
    "        circuits.append(architecture)\n",
    "        return loss\n",
    "\n",
    "    best = fmin(objective, space, algo=tpe.suggest, max_evals=max_iters)\n",
    "    attempt_res = pd.DataFrame({'circuit':circuits, 'loss': losses, 'k1': [params[i][0][2] for i in range(len(params))], 'k2': [params[i][1][2] for i in range(len(params))], 'theta1': [params[i][0][1] for i in range(len(params))], 'theta2': [params[i][1][1] for i in range(len(params))]})\n",
    "    attempt_res['attempt'] = n\n",
    "    attempt_res['best_loss'] = compute_best_loss(attempt_res)\n",
    "    if losses[-1] == 0.0:\n",
    "        break\n",
    "    results = pd.concat([results,attempt_res])\n",
    "\n",
    "results.to_csv(circuit_name + '_10iterations_best.csv')"
   ]
  },
  {
   "cell_type": "code",
   "execution_count": 69,
   "metadata": {},
   "outputs": [
    {
     "name": "stdout",
     "output_type": "stream",
     "text": [
      "100%|██████████| 500/500 [00:12<00:00, 39.48trial/s, best loss: 0.3832584532774944]\n",
      "100%|██████████| 500/500 [00:13<00:00, 37.50trial/s, best loss: 1.9949454100246045]\n",
      "  3%|▎         | 15/500 [00:00<00:11, 43.52trial/s, best loss: 0.0]"
     ]
    },
    {
     "name": "stderr",
     "output_type": "stream",
     "text": [
      "\n",
      "[CVODE ERROR]  CVode\n",
      "  At t = 2312.94, mxstep steps taken before reaching tout.\n",
      "\n"
     ]
    },
    {
     "name": "stdout",
     "output_type": "stream",
     "text": [
      "100%|██████████| 500/500 [00:12<00:00, 39.03trial/s, best loss: 0.0]\n",
      "100%|██████████| 500/500 [00:12<00:00, 38.85trial/s, best loss: 0.19442824917270787]\n",
      "100%|██████████| 500/500 [00:12<00:00, 39.46trial/s, best loss: 0.21453930130456672]\n",
      "100%|██████████| 500/500 [00:12<00:00, 38.53trial/s, best loss: 0.14650281290587164]\n",
      "100%|██████████| 500/500 [00:12<00:00, 38.55trial/s, best loss: 0.20230752526200296]\n",
      "100%|██████████| 500/500 [00:12<00:00, 39.31trial/s, best loss: 0.11212684638930773]\n",
      "100%|██████████| 500/500 [00:12<00:00, 39.78trial/s, best loss: 0.13556452737678926]\n",
      " 49%|████▉     | 245/500 [00:06<00:07, 36.21trial/s, best loss: 0.0]"
     ]
    },
    {
     "name": "stderr",
     "output_type": "stream",
     "text": [
      "\n",
      "[CVODE ERROR]  CVode\n",
      "  At t = 1504.67, mxstep steps taken before reaching tout.\n",
      "\n"
     ]
    },
    {
     "name": "stdout",
     "output_type": "stream",
     "text": [
      " 71%|███████   | 355/500 [00:09<00:04, 36.01trial/s, best loss: 0.0]"
     ]
    },
    {
     "name": "stderr",
     "output_type": "stream",
     "text": [
      "\n",
      "[CVODE ERROR]  CVode\n",
      "  At t = 1455.17, mxstep steps taken before reaching tout.\n",
      "\n"
     ]
    },
    {
     "name": "stdout",
     "output_type": "stream",
     "text": [
      "100%|██████████| 500/500 [00:13<00:00, 37.67trial/s, best loss: 0.0]\n",
      "100%|██████████| 500/500 [00:12<00:00, 39.73trial/s, best loss: 0.13551063285734244]\n",
      "100%|██████████| 500/500 [00:12<00:00, 39.72trial/s, best loss: 0.1401094552958524]\n"
     ]
    }
   ],
   "source": [
    "#Run with 500 iterations 10 times each\n",
    "\n",
    "#Multiarch example\n",
    "circuit_name = 'dual_control'\n",
    "space = hp.choice('architecture', \n",
    "    [#([[0, 0, 1], [1, 0, 0]], [[2., hp.uniform('theta1_da', 1E-7, 10), hp.uniform('k1_da', 1E-7, 5)], [2., hp.uniform('theta2_da', 1E-7, 10), hp.uniform('k2_da', 1E-7, 5)]])\n",
    "     #([[0, 1, 0], [0, 0, 1]], [[2., hp.uniform('theta1_ur', 1E-7, 10), hp.uniform('k1_ur', 1E-7, 5)], [2., hp.uniform('theta2_ur', 1E-7, 10), hp.uniform('k2_ur', 1E-7, 5)]])\n",
    "     #([[0, 0, 1], [0, 0, 1]], [[2., hp.uniform('theta1_nc', 1E-7, 10), hp.uniform('k1_nc', 1E-7, 5)], [2., hp.uniform('theta2_nc', 1E-7, 10), hp.uniform('k2_nc', 1E-7, 5)]])\n",
    "     ([[0, 1, 0], [1, 0, 0]], [[2., hp.uniform('theta1_dc', 1E-7, 10), hp.uniform('k1_dc', 1E-7, 5)], [2., hp.uniform('theta2_dc', 1E-7, 10), hp.uniform('k2_dc', 1E-7, 5)]])\n",
    "     ])\n",
    "     \n",
    "    \n",
    "results = pd.DataFrame(columns=['circuit', 'loss', 'k1', 'k2','theta1', 'theta2'])\n",
    "max_iters = 500\n",
    "num_tries = 12\n",
    "for n in range(num_tries):\n",
    "    losses = []\n",
    "    params = []\n",
    "    circuits = []\n",
    "    sols = []\n",
    "    def objective(args):\n",
    "        architecture, param_values = args\n",
    "        #Integration conditions\n",
    "        t = np.linspace(0, 5E5, 200) \n",
    "        y0 = np.array([0.281, 0.0605, 0., 0., 0. , 0., 0.]) #g6p, f6p, mi, ino1, miox\n",
    "\n",
    "        extra_options = {'old_api': False, 'user_data': [architecture, param_values], 'rtol':1E-4}\n",
    "        ode_solver = ode('cvode', glucaric_acid, **extra_options)\n",
    "        solution = ode_solver.solve(t, y0)\n",
    "        j1, j2 = solution.values.y[-1, -2:]\n",
    "        j1, j2, loss = loss_biological(j1, j2, alpha1=1E-5, alpha2=1E-3)\n",
    "        losses.append(loss)\n",
    "        params.append(param_values)\n",
    "        circuits.append(architecture)\n",
    "        return loss\n",
    "\n",
    "    best = fmin(objective, space, algo=tpe.suggest, max_evals=max_iters)\n",
    "    attempt_res = pd.DataFrame({'circuit':circuits, 'loss': losses, 'k1': [params[i][0][2] for i in range(len(params))], 'k2': [params[i][1][2] for i in range(len(params))], 'theta1': [params[i][0][1] for i in range(len(params))], 'theta2': [params[i][1][1] for i in range(len(params))]})\n",
    "    attempt_res['attempt'] = n\n",
    "    attempt_res['best_loss'] = compute_best_loss(attempt_res)\n",
    "    if losses[-1] == 0.0:\n",
    "        break\n",
    "    results = pd.concat([results,attempt_res])\n",
    "\n",
    "results.to_csv(circuit_name + '_10iterations_best.csv')"
   ]
  },
  {
   "cell_type": "code",
   "execution_count": 53,
   "metadata": {},
   "outputs": [
    {
     "name": "stdout",
     "output_type": "stream",
     "text": [
      "100%|██████████| 500/500 [00:13<00:00, 37.80trial/s, best loss: 1.8418992208959328]\n",
      "100%|██████████| 500/500 [00:12<00:00, 38.78trial/s, best loss: 2.132663070295129]\n"
     ]
    }
   ],
   "source": [
    "#Rerun to get rid of errors\n",
    "#Multiarch example\n",
    "circuit_name = 'upstream_repression'\n",
    "space = hp.choice('architecture', \n",
    "    [#([[0, 0, 1], [1, 0, 0]], [[2., hp.uniform('theta1_da', 1E-7, 10), hp.uniform('k1_da', 1E-7, 5)], [2., hp.uniform('theta2_da', 1E-7, 10), hp.uniform('k2_da', 1E-7, 5)]])\n",
    "     ([[0, 1, 0], [0, 0, 1]], [[2., hp.uniform('theta1_ur', 1E-7, 10), hp.uniform('k1_ur', 1E-7, 5)], [2., hp.uniform('theta2_ur', 1E-7, 10), hp.uniform('k2_ur', 1E-7, 5)]])\n",
    "     #([[0, 0, 1], [0, 0, 1]], [[2., hp.uniform('theta1_nc', 1E-7, 10), hp.uniform('k1_nc', 1E-7, 5)], [2., hp.uniform('theta2_nc', 1E-7, 10), hp.uniform('k2_nc', 1E-7, 5)]])\n",
    "     #([[0, 1, 0], [1, 0, 0]], [[2., hp.uniform('theta1_dc', 1E-7, 10), hp.uniform('k1_dc', 1E-7, 5)], [2., hp.uniform('theta2_dc', 1E-7, 10), hp.uniform('k2_dc', 1E-7, 5)]])\n",
    "     ])\n",
    "     \n",
    "    \n",
    "results = pd.DataFrame(columns=['circuit', 'loss', 'k1', 'k2','theta1', 'theta2'])\n",
    "max_iters = 500\n",
    "num_tries = 2\n",
    "for n in range(num_tries):\n",
    "    losses = []\n",
    "    params = []\n",
    "    circuits = []\n",
    "    sols = []\n",
    "    def objective(args):\n",
    "        architecture, param_values = args\n",
    "        #Integration conditions\n",
    "        t = np.linspace(0, 5E5, 200) \n",
    "        y0 = np.array([0.281, 0.0605, 0., 0., 0. , 0., 0.]) #g6p, f6p, mi, ino1, miox\n",
    "\n",
    "        extra_options = {'old_api': False, 'user_data': [architecture, param_values], 'rtol':1E-4}\n",
    "        ode_solver = ode('cvode', glucaric_acid, **extra_options)\n",
    "        solution = ode_solver.solve(t, y0)\n",
    "        j1, j2 = solution.values.y[-1, -2:]\n",
    "        j1, j2, loss = loss_biological(j1, j2, alpha1=1E-5, alpha2=1E-3)\n",
    "        losses.append(loss)\n",
    "        params.append(param_values)\n",
    "        circuits.append(architecture)\n",
    "        return loss\n",
    "\n",
    "    best = fmin(objective, space, algo=tpe.suggest, max_evals=max_iters)\n",
    "    attempt_res = pd.DataFrame({'circuit':circuits, 'loss': losses, 'k1': [params[i][0][2] for i in range(len(params))], 'k2': [params[i][1][2] for i in range(len(params))], 'theta1': [params[i][0][1] for i in range(len(params))], 'theta2': [params[i][1][1] for i in range(len(params))]})\n",
    "    attempt_res['attempt'] = n\n",
    "    attempt_res['best_loss'] = compute_best_loss(attempt_res)\n",
    "    results = pd.concat([results,attempt_res])"
   ]
  },
  {
   "cell_type": "code",
   "execution_count": 54,
   "metadata": {},
   "outputs": [],
   "source": [
    "ur_multtries = pd.concat([ur_multtries, results])\n",
    "ur_multtries.to_csv('upstream_repression_10iterations_best.csv')"
   ]
  },
  {
   "cell_type": "code",
   "execution_count": 70,
   "metadata": {},
   "outputs": [],
   "source": [
    "ur_multtries = pd.read_csv('upstream_repression_10iterations_best.csv')\n",
    "da_multtries = pd.read_csv('downstream_activation_10iterations_best.csv')\n",
    "dc_multtries = pd.read_csv('dual_control_10iterations_best.csv')\n",
    "nc_multtries = pd.read_csv('no_control_10iterations_best.csv')\n"
   ]
  },
  {
   "cell_type": "code",
   "execution_count": 81,
   "metadata": {},
   "outputs": [],
   "source": [
    "dc_multtries = dc_multtries.loc[dc_multtries.attempt.isin([0, 1, 3, 4, 5, 6, 7, 8, 10, 11])]\n",
    "nc_multtries = nc_multtries.loc[nc_multtries.attempt.isin([0, 1, 2, 3, 4, 5, 6, 7, 8, 10])]\n",
    "da_multtries = da_multtries.loc[da_multtries.attempt.isin([0, 1, 2, 3, 4, 6, 7, 8, 9, 10])]"
   ]
  },
  {
   "cell_type": "code",
   "execution_count": 96,
   "metadata": {},
   "outputs": [],
   "source": [
    "combined_multtries = pd.concat([dc_multtries, da_multtries, nc_multtries, ur_multtries]).reset_index(drop=True)\n",
    "combined_multtries['circuit'] = [str(combined_multtries.circuit[i]) for i in range(len(combined_multtries))]\n",
    "combined_multtries['Circuit'] = [name_converter(combined_multtries.circuit[i]) for i in range(len(combined_multtries))]"
   ]
  },
  {
   "cell_type": "code",
   "execution_count": 113,
   "metadata": {},
   "outputs": [
    {
     "data": {
      "text/html": [
       "<div>\n",
       "<style scoped>\n",
       "    .dataframe tbody tr th:only-of-type {\n",
       "        vertical-align: middle;\n",
       "    }\n",
       "\n",
       "    .dataframe tbody tr th {\n",
       "        vertical-align: top;\n",
       "    }\n",
       "\n",
       "    .dataframe thead th {\n",
       "        text-align: right;\n",
       "    }\n",
       "</style>\n",
       "<table border=\"1\" class=\"dataframe\">\n",
       "  <thead>\n",
       "    <tr style=\"text-align: right;\">\n",
       "      <th></th>\n",
       "      <th>Unnamed: 0</th>\n",
       "      <th>circuit</th>\n",
       "      <th>loss</th>\n",
       "      <th>k1</th>\n",
       "      <th>k2</th>\n",
       "      <th>theta1</th>\n",
       "      <th>theta2</th>\n",
       "      <th>attempt</th>\n",
       "      <th>best_loss</th>\n",
       "      <th>iters</th>\n",
       "    </tr>\n",
       "  </thead>\n",
       "  <tbody>\n",
       "    <tr>\n",
       "      <th>0</th>\n",
       "      <td>0</td>\n",
       "      <td>((0, 1, 0), (1, 0, 0))</td>\n",
       "      <td>6.324288e+05</td>\n",
       "      <td>0.768875</td>\n",
       "      <td>3.337248</td>\n",
       "      <td>1.178872</td>\n",
       "      <td>4.954224</td>\n",
       "      <td>0.0</td>\n",
       "      <td>632428.839602</td>\n",
       "      <td>0</td>\n",
       "    </tr>\n",
       "    <tr>\n",
       "      <th>1</th>\n",
       "      <td>1</td>\n",
       "      <td>((0, 1, 0), (1, 0, 0))</td>\n",
       "      <td>2.351834e+07</td>\n",
       "      <td>1.481776</td>\n",
       "      <td>1.791935</td>\n",
       "      <td>9.337815</td>\n",
       "      <td>2.862204</td>\n",
       "      <td>0.0</td>\n",
       "      <td>632428.839602</td>\n",
       "      <td>1</td>\n",
       "    </tr>\n",
       "    <tr>\n",
       "      <th>2</th>\n",
       "      <td>2</td>\n",
       "      <td>((0, 1, 0), (1, 0, 0))</td>\n",
       "      <td>1.617472e+07</td>\n",
       "      <td>1.201117</td>\n",
       "      <td>4.738110</td>\n",
       "      <td>7.130771</td>\n",
       "      <td>3.976084</td>\n",
       "      <td>0.0</td>\n",
       "      <td>632428.839602</td>\n",
       "      <td>2</td>\n",
       "    </tr>\n",
       "    <tr>\n",
       "      <th>3</th>\n",
       "      <td>3</td>\n",
       "      <td>((0, 1, 0), (1, 0, 0))</td>\n",
       "      <td>8.953301e+04</td>\n",
       "      <td>0.081843</td>\n",
       "      <td>1.645388</td>\n",
       "      <td>7.670620</td>\n",
       "      <td>4.374687</td>\n",
       "      <td>0.0</td>\n",
       "      <td>89533.014710</td>\n",
       "      <td>3</td>\n",
       "    </tr>\n",
       "    <tr>\n",
       "      <th>4</th>\n",
       "      <td>4</td>\n",
       "      <td>((0, 1, 0), (1, 0, 0))</td>\n",
       "      <td>7.591382e+07</td>\n",
       "      <td>3.760970</td>\n",
       "      <td>2.294452</td>\n",
       "      <td>8.367621</td>\n",
       "      <td>7.521604</td>\n",
       "      <td>0.0</td>\n",
       "      <td>89533.014710</td>\n",
       "      <td>4</td>\n",
       "    </tr>\n",
       "    <tr>\n",
       "      <th>...</th>\n",
       "      <td>...</td>\n",
       "      <td>...</td>\n",
       "      <td>...</td>\n",
       "      <td>...</td>\n",
       "      <td>...</td>\n",
       "      <td>...</td>\n",
       "      <td>...</td>\n",
       "      <td>...</td>\n",
       "      <td>...</td>\n",
       "      <td>...</td>\n",
       "    </tr>\n",
       "    <tr>\n",
       "      <th>5995</th>\n",
       "      <td>495</td>\n",
       "      <td>((0, 1, 0), (1, 0, 0))</td>\n",
       "      <td>2.256937e+03</td>\n",
       "      <td>0.183028</td>\n",
       "      <td>0.077313</td>\n",
       "      <td>0.983999</td>\n",
       "      <td>8.436694</td>\n",
       "      <td>11.0</td>\n",
       "      <td>0.140109</td>\n",
       "      <td>495</td>\n",
       "    </tr>\n",
       "    <tr>\n",
       "      <th>5996</th>\n",
       "      <td>496</td>\n",
       "      <td>((0, 1, 0), (1, 0, 0))</td>\n",
       "      <td>3.013078e+04</td>\n",
       "      <td>1.898987</td>\n",
       "      <td>0.203546</td>\n",
       "      <td>0.656328</td>\n",
       "      <td>8.906582</td>\n",
       "      <td>11.0</td>\n",
       "      <td>0.140109</td>\n",
       "      <td>496</td>\n",
       "    </tr>\n",
       "    <tr>\n",
       "      <th>5997</th>\n",
       "      <td>497</td>\n",
       "      <td>((0, 1, 0), (1, 0, 0))</td>\n",
       "      <td>1.619673e+00</td>\n",
       "      <td>0.725938</td>\n",
       "      <td>0.427664</td>\n",
       "      <td>0.009993</td>\n",
       "      <td>7.361287</td>\n",
       "      <td>11.0</td>\n",
       "      <td>0.140109</td>\n",
       "      <td>497</td>\n",
       "    </tr>\n",
       "    <tr>\n",
       "      <th>5998</th>\n",
       "      <td>498</td>\n",
       "      <td>((0, 1, 0), (1, 0, 0))</td>\n",
       "      <td>6.657281e+03</td>\n",
       "      <td>0.891306</td>\n",
       "      <td>0.323013</td>\n",
       "      <td>0.448163</td>\n",
       "      <td>9.263186</td>\n",
       "      <td>11.0</td>\n",
       "      <td>0.140109</td>\n",
       "      <td>498</td>\n",
       "    </tr>\n",
       "    <tr>\n",
       "      <th>5999</th>\n",
       "      <td>499</td>\n",
       "      <td>((0, 1, 0), (1, 0, 0))</td>\n",
       "      <td>6.182829e+04</td>\n",
       "      <td>1.111491</td>\n",
       "      <td>0.005523</td>\n",
       "      <td>9.411868</td>\n",
       "      <td>5.261419</td>\n",
       "      <td>11.0</td>\n",
       "      <td>0.140109</td>\n",
       "      <td>499</td>\n",
       "    </tr>\n",
       "  </tbody>\n",
       "</table>\n",
       "<p>5000 rows × 10 columns</p>\n",
       "</div>"
      ],
      "text/plain": [
       "      Unnamed: 0                 circuit          loss        k1        k2  \\\n",
       "0              0  ((0, 1, 0), (1, 0, 0))  6.324288e+05  0.768875  3.337248   \n",
       "1              1  ((0, 1, 0), (1, 0, 0))  2.351834e+07  1.481776  1.791935   \n",
       "2              2  ((0, 1, 0), (1, 0, 0))  1.617472e+07  1.201117  4.738110   \n",
       "3              3  ((0, 1, 0), (1, 0, 0))  8.953301e+04  0.081843  1.645388   \n",
       "4              4  ((0, 1, 0), (1, 0, 0))  7.591382e+07  3.760970  2.294452   \n",
       "...          ...                     ...           ...       ...       ...   \n",
       "5995         495  ((0, 1, 0), (1, 0, 0))  2.256937e+03  0.183028  0.077313   \n",
       "5996         496  ((0, 1, 0), (1, 0, 0))  3.013078e+04  1.898987  0.203546   \n",
       "5997         497  ((0, 1, 0), (1, 0, 0))  1.619673e+00  0.725938  0.427664   \n",
       "5998         498  ((0, 1, 0), (1, 0, 0))  6.657281e+03  0.891306  0.323013   \n",
       "5999         499  ((0, 1, 0), (1, 0, 0))  6.182829e+04  1.111491  0.005523   \n",
       "\n",
       "        theta1    theta2  attempt      best_loss  iters  \n",
       "0     1.178872  4.954224      0.0  632428.839602      0  \n",
       "1     9.337815  2.862204      0.0  632428.839602      1  \n",
       "2     7.130771  3.976084      0.0  632428.839602      2  \n",
       "3     7.670620  4.374687      0.0   89533.014710      3  \n",
       "4     8.367621  7.521604      0.0   89533.014710      4  \n",
       "...        ...       ...      ...            ...    ...  \n",
       "5995  0.983999  8.436694     11.0       0.140109    495  \n",
       "5996  0.656328  8.906582     11.0       0.140109    496  \n",
       "5997  0.009993  7.361287     11.0       0.140109    497  \n",
       "5998  0.448163  9.263186     11.0       0.140109    498  \n",
       "5999  9.411868  5.261419     11.0       0.140109    499  \n",
       "\n",
       "[5000 rows x 10 columns]"
      ]
     },
     "execution_count": 113,
     "metadata": {},
     "output_type": "execute_result"
    }
   ],
   "source": [
    "combined_multtries"
   ]
  },
  {
   "cell_type": "code",
   "execution_count": 117,
   "metadata": {},
   "outputs": [],
   "source": [
    "combined_multtries = pd.DataFrame()\n",
    "for attempt in dc_multtries.attempt.unique():\n",
    "    df = dc_multtries.loc[dc_multtries.attempt == attempt].reset_index(drop=True)\n",
    "    df['iters'] = range(500)\n",
    "    combined_multtries = pd.concat([combined_multtries, df])\n",
    "\n",
    "for attempt in nc_multtries.attempt.unique():\n",
    "    df = nc_multtries.loc[nc_multtries.attempt == attempt].reset_index(drop=True)\n",
    "    df['iters'] = range(500)\n",
    "    combined_multtries = pd.concat([combined_multtries, df])\n",
    "\n",
    "for attempt in ur_multtries.attempt.unique():\n",
    "    df = ur_multtries.loc[ur_multtries.attempt == attempt].reset_index(drop=True)\n",
    "    df['iters'] = range(500)\n",
    "    combined_multtries = pd.concat([combined_multtries, df])\n",
    "\n",
    "for attempt in da_multtries.attempt.unique():\n",
    "    df = da_multtries.loc[da_multtries.attempt == attempt].reset_index(drop=True)\n",
    "    df['iters'] = range(500)\n",
    "    combined_multtries = pd.concat([combined_multtries, df])\n",
    "\n",
    "\n",
    "combined_multtries = combined_multtries.reset_index(drop=True)\n",
    "combined_multtries['circuit'] = [str(combined_multtries.circuit[i]) for i in range(len(combined_multtries))]\n",
    "combined_multtries['Circuit'] = [name_converter(combined_multtries.circuit[i]) for i in range(len(combined_multtries))]"
   ]
  },
  {
   "cell_type": "code",
   "execution_count": 192,
   "metadata": {},
   "outputs": [
    {
     "data": {
      "image/png": "[encoded data removed]",
      "text/plain": [
       "<Figure size 1080x432 with 1 Axes>"
      ]
     },
     "metadata": {
      "needs_background": "light"
     },
     "output_type": "display_data"
    }
   ],
   "source": [
    "combined_multtries = combined_multtries.reset_index(drop=True)\n",
    "fig, axs = plt.subplots(1, 1, figsize=(15, 6))\n",
    "endpoint = 'Loss Trajectory over 10 iterations, Max_Iters = 500'\n",
    "ax = axs\n",
    "sns.lineplot(data=combined_multtries, x='iters', y='best_loss', hue='Circuit', hue_order=orders, palette=palette)\n",
    "ax.set_xlabel('Function Evaluations', fontsize=14)\n",
    "ax.set_ylabel('Loss Value', fontsize=14)\n",
    "ax.set_title(endpoint, fontsize=14)\n",
    "ax.set_yscale('log')\n",
    "#fig.savefig('loss_10iters_log.png')"
   ]
  },
  {
   "cell_type": "code",
   "execution_count": 173,
   "metadata": {},
   "outputs": [
    {
     "name": "stdout",
     "output_type": "stream",
     "text": [
      "100%|██████████| 500/500 [00:18<00:00, 26.95trial/s, best loss: 0.14734431787472957]\n",
      "100%|██████████| 500/500 [00:18<00:00, 26.78trial/s, best loss: 0.19970628605705676]\n",
      "100%|██████████| 500/500 [00:18<00:00, 26.98trial/s, best loss: 0.13380091957127657]\n",
      "100%|██████████| 500/500 [00:18<00:00, 27.19trial/s, best loss: 0.14014621956896997]\n",
      "100%|██████████| 500/500 [00:18<00:00, 26.82trial/s, best loss: 0.17975521775407932]\n",
      "100%|██████████| 500/500 [00:18<00:00, 27.47trial/s, best loss: 0.18570051244103]\n",
      "100%|██████████| 500/500 [00:18<00:00, 27.05trial/s, best loss: 0.5119758182801116]\n",
      "100%|██████████| 500/500 [00:18<00:00, 27.37trial/s, best loss: 30.845490670828998]\n",
      " 82%|████████▏ | 411/500 [00:15<00:03, 27.12trial/s, best loss: 0.0]"
     ]
    },
    {
     "name": "stderr",
     "output_type": "stream",
     "text": [
      "\n",
      "[CVODE ERROR]  CVode\n",
      "  At t = 2202.39, mxstep steps taken before reaching tout.\n",
      "\n"
     ]
    },
    {
     "name": "stdout",
     "output_type": "stream",
     "text": [
      "100%|██████████| 500/500 [00:18<00:00, 26.93trial/s, best loss: 0.0]\n",
      "100%|██████████| 500/500 [00:18<00:00, 27.38trial/s, best loss: 0.10593332410457948]\n",
      "100%|██████████| 500/500 [00:18<00:00, 27.51trial/s, best loss: 0.17406036032513544]\n",
      "100%|██████████| 500/500 [00:18<00:00, 27.28trial/s, best loss: 0.16197672613560404]\n"
     ]
    }
   ],
   "source": [
    "#Run with 500 iterations 10 times each\n",
    "\n",
    "#Multiarch example\n",
    "circuit_name = 'multiarch'\n",
    "space = hp.choice('architecture', \n",
    "    [([[0, 0, 1], [1, 0, 0]], [[2., hp.uniform('theta1_da', 1E-7, 10), hp.uniform('k1_da', 1E-7, 5)], [2., hp.uniform('theta2_da', 1E-7, 10), hp.uniform('k2_da', 1E-7, 5)]]),\n",
    "     ([[0, 1, 0], [0, 0, 1]], [[2., hp.uniform('theta1_ur', 1E-7, 10), hp.uniform('k1_ur', 1E-7, 5)], [2., hp.uniform('theta2_ur', 1E-7, 10), hp.uniform('k2_ur', 1E-7, 5)]]),\n",
    "     ([[0, 0, 1], [0, 0, 1]], [[2., hp.uniform('theta1_nc', 1E-7, 10), hp.uniform('k1_nc', 1E-7, 5)], [2., hp.uniform('theta2_nc', 1E-7, 10), hp.uniform('k2_nc', 1E-7, 5)]]),\n",
    "     ([[0, 1, 0], [1, 0, 0]], [[2., hp.uniform('theta1_dc', 1E-7, 10), hp.uniform('k1_dc', 1E-7, 5)], [2., hp.uniform('theta2_dc', 1E-7, 10), hp.uniform('k2_dc', 1E-7, 5)]])\n",
    "     ])\n",
    "     \n",
    "    \n",
    "results = pd.DataFrame(columns=['circuit', 'loss', 'k1', 'k2','theta1', 'theta2'])\n",
    "max_iters = 500\n",
    "num_tries = 12\n",
    "for n in range(num_tries):\n",
    "    losses = []\n",
    "    params = []\n",
    "    circuits = []\n",
    "    sols = []\n",
    "    def objective(args):\n",
    "        architecture, param_values = args\n",
    "        #Integration conditions\n",
    "        t = np.linspace(0, 5E5, 200) \n",
    "        y0 = np.array([0.281, 0.0605, 0., 0., 0. , 0., 0.]) #g6p, f6p, mi, ino1, miox\n",
    "\n",
    "        extra_options = {'old_api': False, 'user_data': [architecture, param_values], 'rtol':1E-4}\n",
    "        ode_solver = ode('cvode', glucaric_acid, **extra_options)\n",
    "        solution = ode_solver.solve(t, y0)\n",
    "        j1, j2 = solution.values.y[-1, -2:]\n",
    "        j1, j2, loss = loss_biological(j1, j2, alpha1=1E-5, alpha2=1E-3)\n",
    "        losses.append(loss)\n",
    "        params.append(param_values)\n",
    "        circuits.append(architecture)\n",
    "        return loss\n",
    "\n",
    "    best = fmin(objective, space, algo=tpe.suggest, max_evals=max_iters)\n",
    "    attempt_res = pd.DataFrame({'circuit':circuits, 'loss': losses, 'k1': [params[i][0][2] for i in range(len(params))], 'k2': [params[i][1][2] for i in range(len(params))], 'theta1': [params[i][0][1] for i in range(len(params))], 'theta2': [params[i][1][1] for i in range(len(params))]})\n",
    "    attempt_res['attempt'] = n\n",
    "    attempt_res['best_loss'] = compute_best_loss(attempt_res)\n",
    "    if losses[-1] == 0.0:\n",
    "        break\n",
    "    results = pd.concat([results,attempt_res])\n",
    "\n",
    "results.to_csv(circuit_name + '_10iterations_best.csv')"
   ]
  },
  {
   "cell_type": "code",
   "execution_count": 176,
   "metadata": {},
   "outputs": [],
   "source": [
    "ma_multtries = pd.read_csv('multiarch_10iterations_best.csv')\n",
    "ma_multtries = ma_multtries.loc[ma_multtries.attempt.isin([0, 1, 2, 3, 4, 5, 6, 7, 9, 10])]\n",
    "ma_multtries['Circuit'] = 'Multiarchitecture'\n",
    "\n",
    "for attempt in ma_multtries.attempt.unique():\n",
    "    df = ma_multtries.loc[ma_multtries.attempt == attempt].reset_index(drop=True)\n",
    "    df['iters'] = range(500)\n",
    "    combined_multtries = pd.concat([combined_multtries, df])"
   ]
  },
  {
   "cell_type": "code",
   "execution_count": 177,
   "metadata": {},
   "outputs": [],
   "source": [
    "grouped_combined = combined_multtries.groupby(['Circuit', 'attempt']).min().best_loss.reset_index()\n",
    "\n",
    "gc_no_nc = combined_multtries.loc[combined_multtries.Circuit != 'No Control'].groupby(['Circuit', 'attempt']).min().best_loss.reset_index()"
   ]
  },
  {
   "cell_type": "code",
   "execution_count": 187,
   "metadata": {},
   "outputs": [
    {
     "data": {
      "image/png": "[encoded data removed]",
      "text/plain": [
       "<Figure size 576x432 with 1 Axes>"
      ]
     },
     "metadata": {
      "needs_background": "light"
     },
     "output_type": "display_data"
    }
   ],
   "source": [
    "#num_trials_data = pd.read_csv('num_trials_data.csv')\n",
    "fig, axs = plt.subplots(1, 1, figsize=(8, 6))\n",
    "endpoint = 'Minimum Loss Obtained by Circuit'\n",
    "ax = axs\n",
    "g = sns.barplot(\n",
    "    data=grouped_combined,\n",
    "    x=\"Circuit\", y=\"best_loss\", ci=\"sd\", alpha=0.7)\n",
    "\n",
    "ax.set_xlabel('Circuit', fontsize=14)\n",
    "ax.set_ylabel('Best Loss Achieved', fontsize=14)\n",
    "ax.set_title(endpoint, fontsize=14)\n",
    "ax.set_ylim([0, 80])\n",
    "fig.savefig('min_loss_bar_plot.png')\n"
   ]
  },
  {
   "cell_type": "code",
   "execution_count": 194,
   "metadata": {},
   "outputs": [
    {
     "data": {
      "image/png": "[encoded data removed]",
      "text/plain": [
       "<Figure size 576x432 with 1 Axes>"
      ]
     },
     "metadata": {
      "needs_background": "light"
     },
     "output_type": "display_data"
    }
   ],
   "source": [
    "#num_trials_data = pd.read_csv('num_trials_data.csv')\n",
    "fig, axs = plt.subplots(1, 1, figsize=(8, 6))\n",
    "endpoint = 'Minimum Loss Obtained by Circuit'\n",
    "ax = axs\n",
    "g = sns.boxplot(\n",
    "    data=gc_no_nc,\n",
    "    x=\"Circuit\", y=\"best_loss\") #, ci=\"sd\", alpha=0.7)\n",
    "\n",
    "ax.set_xlabel('Circuit', fontsize=14)\n",
    "ax.set_ylabel('Best Loss Achieved', fontsize=14)\n",
    "ax.set_title(endpoint, fontsize=14)\n",
    "#ax.set_ylim([0, 0.07])\n",
    "fig.savefig('min_loss_box_plot_multiarch_nonc.png')\n"
   ]
  },
  {
   "cell_type": "code",
   "execution_count": null,
   "metadata": {},
   "outputs": [],
   "source": []
  }
 ],
 "metadata": {
  "interpreter": {
   "hash": "1c81a53a0ff6cd481fa9e4276883fc41728c044ede2b17046477fd0d4a209b4b"
  },
  "kernelspec": {
   "display_name": "Python 3.9.7 ('sundials')",
   "name": "python3"
  },
  "language_info": {
   "codemirror_mode": {
    "name": "ipython",
    "version": 3
   },
   "file_extension": ".py",
   "mimetype": "text/x-python",
   "name": "python",
   "nbconvert_exporter": "python",
   "pygments_lexer": "ipython3",
   "version": "3.9.7"
  },
  "orig_nbformat": 4
 },
 "nbformat": 4,
 "nbformat_minor": 2
}
